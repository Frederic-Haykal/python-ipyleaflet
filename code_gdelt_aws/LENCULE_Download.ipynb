{
 "cells": [
  {
   "cell_type": "code",
   "execution_count": 1,
   "metadata": {},
   "outputs": [
    {
     "data": {
      "application/vnd.jupyter.widget-view+json": {
       "model_id": "fd8ac09761524e7ba7a8e12cc3d2226b",
       "version_major": 2,
       "version_minor": 0
      },
      "text/plain": [
       "VBox()"
      ]
     },
     "metadata": {},
     "output_type": "display_data"
    },
    {
     "name": "stdout",
     "output_type": "stream",
     "text": [
      "Starting Spark application\n"
     ]
    },
    {
     "data": {
      "text/html": [
       "<table>\n",
       "<tr><th>ID</th><th>YARN Application ID</th><th>Kind</th><th>State</th><th>Spark UI</th><th>Driver log</th><th>Current session?</th></tr><tr><td>0</td><td>application_1611248756501_0001</td><td>spark</td><td>idle</td><td><a target=\"_blank\" href=\"http://ip-172-31-43-223.ec2.internal:20888/proxy/application_1611248756501_0001/\" >Link</a></td><td><a target=\"_blank\" href=\"http://ip-172-31-34-183.ec2.internal:8042/node/containerlogs/container_1611248756501_0001_01_000001/livy\" >Link</a></td><td>✔</td></tr></table>"
      ],
      "text/plain": [
       "<IPython.core.display.HTML object>"
      ]
     },
     "metadata": {},
     "output_type": "display_data"
    },
    {
     "data": {
      "application/vnd.jupyter.widget-view+json": {
       "model_id": "",
       "version_major": 2,
       "version_minor": 0
      },
      "text/plain": [
       "FloatProgress(value=0.0, bar_style='info', description='Progress:', layout=Layout(height='25px', width='50%'),…"
      ]
     },
     "metadata": {},
     "output_type": "display_data"
    },
    {
     "name": "stdout",
     "output_type": "stream",
     "text": [
      "SparkSession available as 'spark'.\n"
     ]
    },
    {
     "data": {
      "application/vnd.jupyter.widget-view+json": {
       "model_id": "",
       "version_major": 2,
       "version_minor": 0
      },
      "text/plain": [
       "FloatProgress(value=0.0, bar_style='info', description='Progress:', layout=Layout(height='25px', width='50%'),…"
      ]
     },
     "metadata": {},
     "output_type": "display_data"
    },
    {
     "name": "stdout",
     "output_type": "stream",
     "text": [
      "import scala.sys.process._\n",
      "import java.net.URL\n",
      "import java.io.File\n",
      "import java.io.File\n",
      "import java.nio.file.{Files, StandardCopyOption}\n",
      "import java.net.HttpURLConnection\n",
      "import org.apache.spark.sql.functions._\n",
      "import org.apache.spark.sql.functions.udf\n",
      "import org.apache.spark.sql.{Row, SparkSession}\n",
      "import org.apache.spark.sql.functions.{col, to_date, to_timestamp}\n",
      "import org.apache.spark.sql.types.DateType\n",
      "import org.apache.spark.sql.functions.{from_unixtime, unix_timestamp, _}\n",
      "import org.apache.spark.util.SizeEstimator\n",
      "import org.apache.spark.input.PortableDataStream\n",
      "import java.util.zip.ZipInputStream\n",
      "import java.io.BufferedReader\n",
      "import java.io.InputStreamReader\n",
      "import org.apache.spark.sql.SQLContext\n",
      "import com.amazonaws.services.s3.AmazonS3Client\n",
      "import com.amazonaws.auth.BasicAWSCredentials\n",
      "import org.apache.spark.sql.types.IntegerType\n"
     ]
    }
   ],
   "source": [
    "// Imports\n",
    "import scala.sys.process._\n",
    "import java.net.URL\n",
    "import java.io.File\n",
    "import java.io.File\n",
    "import java.nio.file.{Files, StandardCopyOption}\n",
    "import java.net.HttpURLConnection \n",
    "import org.apache.spark.sql.functions._\n",
    "\n",
    "//import scala.sqlContext.implicits._\n",
    "import org.apache.spark.sql.functions.udf\n",
    "import org.apache.spark.sql.{Row, SparkSession}\n",
    "import org.apache.spark.sql.functions.{col, to_date, to_timestamp}\n",
    "import org.apache.spark.sql.types.DateType\n",
    "import org.apache.spark.sql.functions.{from_unixtime, unix_timestamp, _}\n",
    "import org.apache.spark.util.SizeEstimator\n",
    "\n",
    "\n",
    "import org.apache.spark.input.PortableDataStream\n",
    "import java.util.zip.ZipInputStream\n",
    "import java.io.BufferedReader\n",
    "import java.io.InputStreamReader\n",
    "import org.apache.spark.sql.SQLContext\n",
    "import com.amazonaws.services.s3.AmazonS3Client\n",
    "import com.amazonaws.auth.BasicAWSCredentials\n",
    "\n",
    "//import org.apache.spark.sql.cassandra._\n",
    "\n",
    "//import com.datastax.spark.connector._\n",
    "import org.apache.spark.sql.types.IntegerType"
   ]
  },
  {
   "cell_type": "code",
   "execution_count": 2,
   "metadata": {},
   "outputs": [
    {
     "data": {
      "application/vnd.jupyter.widget-view+json": {
       "model_id": "328d9469f8d645d7976ea098e22e8ebc",
       "version_major": 2,
       "version_minor": 0
      },
      "text/plain": [
       "VBox()"
      ]
     },
     "metadata": {},
     "output_type": "display_data"
    },
    {
     "data": {
      "application/vnd.jupyter.widget-view+json": {
       "model_id": "",
       "version_major": 2,
       "version_minor": 0
      },
      "text/plain": [
       "FloatProgress(value=0.0, bar_style='info', description='Progress:', layout=Layout(height='25px', width='50%'),…"
      ]
     },
     "metadata": {},
     "output_type": "display_data"
    },
    {
     "name": "stdout",
     "output_type": "stream",
     "text": [
      "warning: there was one feature warning; re-run with -feature for details\n",
      "fileDownloader: (urlOfFileToDownload: String, fileName: String)Any\n"
     ]
    }
   ],
   "source": [
    "def fileDownloader(urlOfFileToDownload: String, fileName: String) = {\n",
    "    val url = new URL(urlOfFileToDownload)\n",
    "    val connection = url.openConnection().asInstanceOf[HttpURLConnection]\n",
    "    connection.setConnectTimeout(5000)\n",
    "    connection.setReadTimeout(5000)\n",
    "    connection.connect()\n",
    "\n",
    "    if (connection.getResponseCode >= 400)\n",
    "        println(\"error\")\n",
    "    else\n",
    "        url #> new File(fileName) !!\n",
    "}"
   ]
  },
  {
   "cell_type": "code",
   "execution_count": 3,
   "metadata": {},
   "outputs": [
    {
     "data": {
      "application/vnd.jupyter.widget-view+json": {
       "model_id": "0cc59ff3ee254b4197fa7b6fa902d41f",
       "version_major": 2,
       "version_minor": 0
      },
      "text/plain": [
       "VBox()"
      ]
     },
     "metadata": {},
     "output_type": "display_data"
    },
    {
     "data": {
      "application/vnd.jupyter.widget-view+json": {
       "model_id": "",
       "version_major": 2,
       "version_minor": 0
      },
      "text/plain": [
       "FloatProgress(value=0.0, bar_style='info', description='Progress:', layout=Layout(height='25px', width='50%'),…"
      ]
     },
     "metadata": {},
     "output_type": "display_data"
    },
    {
     "name": "stdout",
     "output_type": "stream",
     "text": [
      "res10: Any = \"\"\n",
      "res11: Any = \"\"\n"
     ]
    }
   ],
   "source": [
    "fileDownloader(\"http://data.gdeltproject.org/gdeltv2/masterfilelist.txt\", \"/tmp/masterfilelist.txt\") // save the list file to the Spark Master\n",
    "fileDownloader(\"http://data.gdeltproject.org/gdeltv2/masterfilelist-translation.txt\", \"/tmp/masterfilelist_translation.txt\") //same for Translation file"
   ]
  },
  {
   "cell_type": "markdown",
   "metadata": {},
   "source": [
    "# Telechargement massive pour Master"
   ]
  },
  {
   "cell_type": "code",
   "execution_count": 4,
   "metadata": {},
   "outputs": [
    {
     "data": {
      "application/vnd.jupyter.widget-view+json": {
       "model_id": "98f9f51efe9d4f6bb86b980c58868a97",
       "version_major": 2,
       "version_minor": 0
      },
      "text/plain": [
       "VBox()"
      ]
     },
     "metadata": {},
     "output_type": "display_data"
    },
    {
     "data": {
      "application/vnd.jupyter.widget-view+json": {
       "model_id": "",
       "version_major": 2,
       "version_minor": 0
      },
      "text/plain": [
       "FloatProgress(value=0.0, bar_style='info', description='Progress:', layout=Layout(height='25px', width='50%'),…"
      ]
     },
     "metadata": {},
     "output_type": "display_data"
    },
    {
     "name": "stdout",
     "output_type": "stream",
     "text": [
      "import com.amazonaws.services.s3.{AmazonS3, AmazonS3ClientBuilder}\n",
      "s3Client: com.amazonaws.services.s3.AmazonS3 = com.amazonaws.services.s3.AmazonS3Client@4d4365ba\n",
      "res12: com.amazonaws.services.s3.model.PutObjectResult = com.amazonaws.services.s3.model.PutObjectResult@614bddcb\n",
      "res13: com.amazonaws.services.s3.model.PutObjectResult = com.amazonaws.services.s3.model.PutObjectResult@6bc3ff93\n"
     ]
    }
   ],
   "source": [
    "import com.amazonaws.services.s3.{AmazonS3, AmazonS3ClientBuilder}\n",
    "@transient val s3Client: AmazonS3 = AmazonS3ClientBuilder.defaultClient()\n",
    "s3Client.putObject(\"testfuret\", \"masterfilelist.txt\", new File(\"/tmp/masterfilelist.txt\") )\n",
    "s3Client.putObject(\"testfuret\", \"masterfilelist_translation.txt\", new File( \"/tmp/masterfilelist_translation.txt\")) "
   ]
  },
  {
   "cell_type": "code",
   "execution_count": 5,
   "metadata": {},
   "outputs": [
    {
     "data": {
      "application/vnd.jupyter.widget-view+json": {
       "model_id": "1dceb42cd7774e0b9380e4ffb9297bcd",
       "version_major": 2,
       "version_minor": 0
      },
      "text/plain": [
       "VBox()"
      ]
     },
     "metadata": {},
     "output_type": "display_data"
    },
    {
     "data": {
      "application/vnd.jupyter.widget-view+json": {
       "model_id": "",
       "version_major": 2,
       "version_minor": 0
      },
      "text/plain": [
       "FloatProgress(value=0.0, bar_style='info', description='Progress:', layout=Layout(height='25px', width='50%'),…"
      ]
     },
     "metadata": {},
     "output_type": "display_data"
    },
    {
     "name": "stdout",
     "output_type": "stream",
     "text": [
      "list_csv: org.apache.spark.sql.DataFrame = [size: string, hash: string ... 1 more field]\n",
      "list_2020_tot: org.apache.spark.sql.Dataset[org.apache.spark.sql.Row] = [size: string, hash: string ... 1 more field]\n",
      "+--------+--------------------------------+---------------------------------------------------------------+\n",
      "|size    |hash                            |url                                                            |\n",
      "+--------+--------------------------------+---------------------------------------------------------------+\n",
      "|10768507|ea8dde0beb0ba98810a92db068c0ce99|http://data.gdeltproject.org/gdeltv2/20150218230000.gkg.csv.zip|\n",
      "|10269336|2f1a504a3c4558694ade0442e9a5ae6f|http://data.gdeltproject.org/gdeltv2/20150218231500.gkg.csv.zip|\n",
      "|11279827|66b03e2efd7d51dabf916b1666910053|http://data.gdeltproject.org/gdeltv2/20150218233000.gkg.csv.zip|\n",
      "|11212939|cd20f295649b214dd16666ca451b9994|http://data.gdeltproject.org/gdeltv2/20150218234500.gkg.csv.zip|\n",
      "|9728953 |8f4b26e134bd6605cce2d32e92e5d3d7|http://data.gdeltproject.org/gdeltv2/20150219000000.gkg.csv.zip|\n",
      "|9459370 |6031464dfdcb331551d491916d400c18|http://data.gdeltproject.org/gdeltv2/20150219001500.gkg.csv.zip|\n",
      "|10705358|84685f907404b79e7978a06a441b9731|http://data.gdeltproject.org/gdeltv2/20150219003000.gkg.csv.zip|\n",
      "|9555639 |b02920524f0b48c07bdab6c6d354a789|http://data.gdeltproject.org/gdeltv2/20150219004500.gkg.csv.zip|\n",
      "|9754826 |5a84073aaf4a588319da7a53a83b56f1|http://data.gdeltproject.org/gdeltv2/20150219010000.gkg.csv.zip|\n",
      "|9014001 |8862c82cb3fdfac53d98f658b7f369bf|http://data.gdeltproject.org/gdeltv2/20150219011500.gkg.csv.zip|\n",
      "+--------+--------------------------------+---------------------------------------------------------------+\n",
      "only showing top 10 rows\n",
      "\n"
     ]
    }
   ],
   "source": [
    "// English Data\n",
    "val list_csv = spark.read.format(\"csv\").option(\"delimiter\", \" \").\n",
    "    csv(\"s3://testfuret/masterfilelist.txt\").\n",
    "    withColumnRenamed(\"_c0\",\"size\").\n",
    "    withColumnRenamed(\"_c1\",\"hash\").\n",
    "    withColumnRenamed(\"_c2\",\"url\")\n",
    "\n",
    "//val list_2020_tot = list_csv.where(col(\"url\").like(\"%/2020%\")) \n",
    "val list_2020_tot = list_csv.where(col(\"url\").like(\"%gkg%\")) \n",
    "list_2020_tot.show(10,false)"
   ]
  },
  {
   "cell_type": "code",
   "execution_count": 6,
   "metadata": {},
   "outputs": [
    {
     "data": {
      "application/vnd.jupyter.widget-view+json": {
       "model_id": "b0cc4a1ab75d44b689c37240b687840a",
       "version_major": 2,
       "version_minor": 0
      },
      "text/plain": [
       "VBox()"
      ]
     },
     "metadata": {},
     "output_type": "display_data"
    },
    {
     "data": {
      "application/vnd.jupyter.widget-view+json": {
       "model_id": "",
       "version_major": 2,
       "version_minor": 0
      },
      "text/plain": [
       "FloatProgress(value=0.0, bar_style='info', description='Progress:', layout=Layout(height='25px', width='50%'),…"
      ]
     },
     "metadata": {},
     "output_type": "display_data"
    },
    {
     "name": "stdout",
     "output_type": "stream",
     "text": [
      "StokeFileS3: (URL: String)AnyVal\n"
     ]
    }
   ],
   "source": [
    "def StokeFileS3(URL: String) = {\n",
    "    val fileName = URL.split(\"/\").last\n",
    "    val dir = \"/mnt/tmp/\"\n",
    "    val localFileName = dir + fileName\n",
    "    try {\n",
    "            fileDownloader(URL,  localFileName)\n",
    "            @transient val s3Client: AmazonS3 = AmazonS3ClientBuilder.defaultClient()\n",
    "            val localFile = new File(localFileName)\n",
    "            s3Client.putObject(\"testfuret/Master_file\", fileName, localFile)   \n",
    "            localFile.delete()\n",
    "        \n",
    "    } catch {\n",
    "        case e: java.io.FileNotFoundException => \n",
    "        case e: com.amazonaws.SdkClientException => \n",
    "\n",
    "    }    \n",
    "    \n",
    "    \n",
    "}\n",
    "\n"
   ]
  },
  {
   "cell_type": "markdown",
   "metadata": {},
   "source": [
    "# Lancement du du telechargement massive"
   ]
  },
  {
   "cell_type": "code",
   "execution_count": null,
   "metadata": {},
   "outputs": [],
   "source": [
    "// massive\n",
    "list_2020_tot.select(\"url\").repartition(100).foreach( r=> {\n",
    "    val URL = r.getAs[String](0)\n",
    "    StokeFileS3(URL)\n",
    "})\n",
    "//15h52  -40 min de telechargement\n",
    "\n",
    "\n"
   ]
  },
  {
   "cell_type": "code",
   "execution_count": null,
   "metadata": {},
   "outputs": [],
   "source": []
  },
  {
   "cell_type": "code",
   "execution_count": 13,
   "metadata": {},
   "outputs": [
    {
     "data": {
      "application/vnd.jupyter.widget-view+json": {
       "model_id": "e1065e10cb2343cbb1c33ac37c3de95a",
       "version_major": 2,
       "version_minor": 0
      },
      "text/plain": [
       "VBox()"
      ]
     },
     "metadata": {},
     "output_type": "display_data"
    },
    {
     "data": {
      "application/vnd.jupyter.widget-view+json": {
       "model_id": "",
       "version_major": 2,
       "version_minor": 0
      },
      "text/plain": [
       "FloatProgress(value=0.0, bar_style='info', description='Progress:', layout=Layout(height='25px', width='50%'),…"
      ]
     },
     "metadata": {},
     "output_type": "display_data"
    },
    {
     "name": "stdout",
     "output_type": "stream",
     "text": [
      "URL: String = http://data.gdeltproject.org/gdeltv2/20201214121500.mentions.CSV.zip\n",
      "error\n",
      "res25: AnyVal = ()\n"
     ]
    }
   ],
   "source": [
    "var URL = \"http://data.gdeltproject.org/gdeltv2/20201214121500.mentions.CSV.zip\"\n",
    "StokeFileS3(URL)"
   ]
  },
  {
   "cell_type": "code",
   "execution_count": 14,
   "metadata": {},
   "outputs": [
    {
     "data": {
      "application/vnd.jupyter.widget-view+json": {
       "model_id": "5cec49eacb2d4fff9591b1074e0c5750",
       "version_major": 2,
       "version_minor": 0
      },
      "text/plain": [
       "VBox()"
      ]
     },
     "metadata": {},
     "output_type": "display_data"
    },
    {
     "data": {
      "application/vnd.jupyter.widget-view+json": {
       "model_id": "",
       "version_major": 2,
       "version_minor": 0
      },
      "text/plain": [
       "FloatProgress(value=0.0, bar_style='info', description='Progress:', layout=Layout(height='25px', width='50%'),…"
      ]
     },
     "metadata": {},
     "output_type": "display_data"
    },
    {
     "name": "stdout",
     "output_type": "stream",
     "text": [
      "URL1: String = http://data.gdeltproject.org/gdeltv2/20200101000000.export.CSV.zip\n",
      "res26: AnyVal = true\n"
     ]
    }
   ],
   "source": [
    "var URL1 =  \"http://data.gdeltproject.org/gdeltv2/20200101000000.export.CSV.zip\" \n",
    "StokeFileS3(URL1)"
   ]
  },
  {
   "cell_type": "markdown",
   "metadata": {},
   "source": [
    "# Telechargement massive pour Master Translat"
   ]
  },
  {
   "cell_type": "code",
   "execution_count": 7,
   "metadata": {},
   "outputs": [
    {
     "data": {
      "application/vnd.jupyter.widget-view+json": {
       "model_id": "d9a49798b1724789b536f3d845f4bf0c",
       "version_major": 2,
       "version_minor": 0
      },
      "text/plain": [
       "VBox()"
      ]
     },
     "metadata": {},
     "output_type": "display_data"
    },
    {
     "data": {
      "application/vnd.jupyter.widget-view+json": {
       "model_id": "",
       "version_major": 2,
       "version_minor": 0
      },
      "text/plain": [
       "FloatProgress(value=0.0, bar_style='info', description='Progress:', layout=Layout(height='25px', width='50%'),…"
      ]
     },
     "metadata": {},
     "output_type": "display_data"
    },
    {
     "name": "stdout",
     "output_type": "stream",
     "text": [
      "list_csv_translate: org.apache.spark.sql.DataFrame = [size: string, hash: string ... 1 more field]\n",
      "list_2020_translate_tot: org.apache.spark.sql.Dataset[org.apache.spark.sql.Row] = [size: string, hash: string ... 1 more field]\n",
      "+-------+--------------------------------+--------------------------------------------------------------------------------+\n",
      "|size   |hash                            |url                                                                             |\n",
      "+-------+--------------------------------+--------------------------------------------------------------------------------+\n",
      "|54676  |832b70ff3b1656dbce66bf671fdf7c09|http://data.gdeltproject.org/gdeltv2/20200101000000.translation.export.CSV.zip  |\n",
      "|43214  |4826b428cf5a7d11d6c2feb98b1e7ea9|http://data.gdeltproject.org/gdeltv2/20200101000000.translation.mentions.CSV.zip|\n",
      "|5505853|9a7dcb3feda6884fbb1c1f4cd15b2a31|http://data.gdeltproject.org/gdeltv2/20200101000000.translation.gkg.csv.zip     |\n",
      "|35583  |028d8fde74abf76afe41908d8cde8d5d|http://data.gdeltproject.org/gdeltv2/20200101001500.translation.export.CSV.zip  |\n",
      "|32737  |44aa1a5fe143261ded0335573810b26f|http://data.gdeltproject.org/gdeltv2/20200101001500.translation.mentions.CSV.zip|\n",
      "|3914381|7555e90993b93988c1c9328f67b35395|http://data.gdeltproject.org/gdeltv2/20200101001500.translation.gkg.csv.zip     |\n",
      "|33880  |15c037eeb2d524641822f6fc172a6f0f|http://data.gdeltproject.org/gdeltv2/20200101003000.translation.export.CSV.zip  |\n",
      "|29678  |8324256ce22670229701176b7eca9dd6|http://data.gdeltproject.org/gdeltv2/20200101003000.translation.mentions.CSV.zip|\n",
      "|4667224|e9c4e9c5fe4ad0d831de0baf1ef92259|http://data.gdeltproject.org/gdeltv2/20200101003000.translation.gkg.csv.zip     |\n",
      "|37701  |dcce5226726305a382d0d8d934b86715|http://data.gdeltproject.org/gdeltv2/20200101004500.translation.export.CSV.zip  |\n",
      "+-------+--------------------------------+--------------------------------------------------------------------------------+\n",
      "only showing top 10 rows\n",
      "\n"
     ]
    }
   ],
   "source": [
    "// English Data\n",
    "val list_csv_translate = spark.read.format(\"csv\").option(\"delimiter\", \" \").\n",
    "    csv(\"s3://testfuret/masterfilelist_translation.txt\").   \n",
    "    withColumnRenamed(\"_c0\",\"size\").\n",
    "    withColumnRenamed(\"_c1\",\"hash\").\n",
    "    withColumnRenamed(\"_c2\",\"url\")\n",
    "\n",
    "\n",
    "val list_2020_translate_tot = list_csv_translate.where(col(\"url\").like(\"%/2020%\")) \n",
    "list_2020_translate_tot.show(10,false)"
   ]
  },
  {
   "cell_type": "code",
   "execution_count": 13,
   "metadata": {},
   "outputs": [
    {
     "data": {
      "application/vnd.jupyter.widget-view+json": {
       "model_id": "df1e9e8fc0d646459355b93be93a192a",
       "version_major": 2,
       "version_minor": 0
      },
      "text/plain": [
       "VBox()"
      ]
     },
     "metadata": {},
     "output_type": "display_data"
    },
    {
     "data": {
      "application/vnd.jupyter.widget-view+json": {
       "model_id": "",
       "version_major": 2,
       "version_minor": 0
      },
      "text/plain": [
       "FloatProgress(value=0.0, bar_style='info', description='Progress:', layout=Layout(height='25px', width='50%'),…"
      ]
     },
     "metadata": {},
     "output_type": "display_data"
    },
    {
     "name": "stdout",
     "output_type": "stream",
     "text": [
      "StokeFileS3: (URL: String)AnyVal\n"
     ]
    }
   ],
   "source": [
    "def StokeFileS3(URL: String) = {\n",
    "    val fileName = URL.split(\"/\").last\n",
    "    val dir = \"/mnt/tmp/\"\n",
    "    val localFileName = dir + fileName\n",
    "    try {\n",
    "            fileDownloader(URL,  localFileName)\n",
    "            @transient val s3Client: AmazonS3 = AmazonS3ClientBuilder.defaultClient()\n",
    "            val localFile = new File(localFileName)\n",
    "            s3Client.putObject(\"testfuret/Master_Translate_file \", fileName, localFile)     \n",
    "            localFile.delete()\n",
    "        \n",
    "    } catch {\n",
    "        case e: java.io.FileNotFoundException => \n",
    "        case e: com.amazonaws.SdkClientException => \n",
    "\n",
    "    }    \n",
    "    \n",
    "    \n",
    "}\n",
    "\n"
   ]
  },
  {
   "cell_type": "code",
   "execution_count": 17,
   "metadata": {},
   "outputs": [
    {
     "data": {
      "application/vnd.jupyter.widget-view+json": {
       "model_id": "e6dd39b500ec4cfc8037b62bf92fb220",
       "version_major": 2,
       "version_minor": 0
      },
      "text/plain": [
       "VBox()"
      ]
     },
     "metadata": {},
     "output_type": "display_data"
    },
    {
     "data": {
      "application/vnd.jupyter.widget-view+json": {
       "model_id": "",
       "version_major": 2,
       "version_minor": 0
      },
      "text/plain": [
       "FloatProgress(value=0.0, bar_style='info', description='Progress:', layout=Layout(height='25px', width='50%'),…"
      ]
     },
     "metadata": {},
     "output_type": "display_data"
    }
   ],
   "source": [
    "list_2020_translate_tot.select(\"url\").repartition(100).foreach( r=> {\n",
    "    val URL = r.getAs[String](0)\n",
    "    StokeFileS3(URL)\n",
    "})"
   ]
  },
  {
   "cell_type": "code",
   "execution_count": 16,
   "metadata": {},
   "outputs": [
    {
     "data": {
      "application/vnd.jupyter.widget-view+json": {
       "model_id": "46637169df0f490699382aab005a7515",
       "version_major": 2,
       "version_minor": 0
      },
      "text/plain": [
       "VBox()"
      ]
     },
     "metadata": {},
     "output_type": "display_data"
    },
    {
     "data": {
      "application/vnd.jupyter.widget-view+json": {
       "model_id": "",
       "version_major": 2,
       "version_minor": 0
      },
      "text/plain": [
       "FloatProgress(value=0.0, bar_style='info', description='Progress:', layout=Layout(height='25px', width='50%'),…"
      ]
     },
     "metadata": {},
     "output_type": "display_data"
    },
    {
     "name": "stdout",
     "output_type": "stream",
     "text": [
      "URL2: String = http://data.gdeltproject.org/gdeltv2/20200101000000.translation.export.CSV.zip\n",
      "res37: AnyVal = true\n"
     ]
    }
   ],
   "source": [
    "var URL2=\"http://data.gdeltproject.org/gdeltv2/20200101000000.translation.export.CSV.zip\"\n",
    "StokeFileS3(URL2)"
   ]
  },
  {
   "cell_type": "code",
   "execution_count": null,
   "metadata": {},
   "outputs": [],
   "source": []
  }
 ],
 "metadata": {
  "kernelspec": {
   "display_name": "Spark",
   "language": "",
   "name": "sparkkernel"
  },
  "language_info": {
   "codemirror_mode": "text/x-scala",
   "mimetype": "text/x-scala",
   "name": "scala",
   "pygments_lexer": "scala"
  }
 },
 "nbformat": 4,
 "nbformat_minor": 4
}
