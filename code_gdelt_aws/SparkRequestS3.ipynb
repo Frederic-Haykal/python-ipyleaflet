{
 "cells": [
  {
   "cell_type": "code",
   "execution_count": 1,
   "metadata": {},
   "outputs": [
    {
     "data": {
      "application/vnd.jupyter.widget-view+json": {
       "model_id": "93b17ff2e02e479fbb17e374cae2fb66",
       "version_major": 2,
       "version_minor": 0
      },
      "text/plain": [
       "VBox()"
      ]
     },
     "metadata": {},
     "output_type": "display_data"
    },
    {
     "name": "stdout",
     "output_type": "stream",
     "text": [
      "Starting Spark application\n"
     ]
    },
    {
     "data": {
      "text/html": [
       "<table>\n",
       "<tr><th>ID</th><th>YARN Application ID</th><th>Kind</th><th>State</th><th>Spark UI</th><th>Driver log</th><th>Current session?</th></tr><tr><td>2</td><td>application_1611184029712_0007</td><td>spark</td><td>idle</td><td><a target=\"_blank\" href=\"http://ip-172-31-33-10.ec2.internal:20888/proxy/application_1611184029712_0007/\" >Link</a></td><td><a target=\"_blank\" href=\"http://ip-172-31-43-160.ec2.internal:8042/node/containerlogs/container_1611184029712_0007_01_000001/livy\" >Link</a></td><td>✔</td></tr></table>"
      ],
      "text/plain": [
       "<IPython.core.display.HTML object>"
      ]
     },
     "metadata": {},
     "output_type": "display_data"
    },
    {
     "data": {
      "application/vnd.jupyter.widget-view+json": {
       "model_id": "",
       "version_major": 2,
       "version_minor": 0
      },
      "text/plain": [
       "FloatProgress(value=0.0, bar_style='info', description='Progress:', layout=Layout(height='25px', width='50%'),…"
      ]
     },
     "metadata": {},
     "output_type": "display_data"
    },
    {
     "name": "stdout",
     "output_type": "stream",
     "text": [
      "SparkSession available as 'spark'.\n"
     ]
    },
    {
     "data": {
      "application/vnd.jupyter.widget-view+json": {
       "model_id": "",
       "version_major": 2,
       "version_minor": 0
      },
      "text/plain": [
       "FloatProgress(value=0.0, bar_style='info', description='Progress:', layout=Layout(height='25px', width='50%'),…"
      ]
     },
     "metadata": {},
     "output_type": "display_data"
    },
    {
     "name": "stdout",
     "output_type": "stream",
     "text": [
      "import breeze.linalg.Matrix.castOps\n",
      "import breeze.linalg.Vector.castOps\n",
      "import org.apache.spark.SparkConf\n",
      "import org.apache.spark.sql.functions.{array_contains, avg, col, concat, concat_ws, countDistinct, element_at, explode, explode_outer, lit, lower, mean, round, split, substring, sum, udf, upper, when}\n",
      "import org.apache.spark.sql.types.{IntegerType, StringType, StructType}\n",
      "import org.apache.spark.sql.{Column, DataFrame, SaveMode, SparkSession, functions}\n",
      "import shapeless.Lazy.apply\n",
      "import java.net.URL\n",
      "import java.net.HttpURLConnection\n",
      "import java.io.File\n",
      "import java.nio.file.{Files, StandardCopyOption}\n",
      "import org.apache.spark.sql.SQLContext\n",
      "import org.apache.spark.input.PortableDataStream\n",
      "import java.util.zip.ZipInputStream\n",
      "import java.io.BufferedReader\n",
      "import java.io.InputStreamReader\n",
      "import java.io.{IOException, FileOutputStream, FileInputStream, File}\n",
      "import java.util.zip.{ZipEntry, ZipInputStream}\n",
      "import com.amazonaws.services.s3.AmazonS3Client\n",
      "import com.amazonaws.auth.BasicAWSCredentials\n",
      "import scala.sys.process._\n",
      "import java.net.URL\n",
      "import java.io.File\n",
      "import java.io.File\n",
      "import java.nio.file.{Files, StandardCopyOption}\n",
      "import java.net.HttpURLConnection\n",
      "import org.apache.spark.sql.functions._\n",
      "import org.apache.spark.sql.functions.udf\n",
      "import org.apache.spark.sql.{Row, SparkSession}\n",
      "import org.apache.spark.sql.functions.{col, to_date, to_timestamp}\n",
      "import org.apache.spark.sql.types.DateType\n",
      "import org.apache.spark.sql.functions.{from_unixtime, unix_timestamp, _}\n",
      "import org.apache.spark.input.PortableDataStream\n",
      "import java.util.zip.ZipInputStream\n",
      "import java.io.BufferedReader\n",
      "import java.io.InputStreamReader\n",
      "import org.apache.spark.sql.SQLContext\n",
      "import com.amazonaws.services.s3.AmazonS3Client\n",
      "import com.amazonaws.auth.BasicAWSCredentials\n",
      "import org.apache.spark.sql.types.IntegerType\n",
      "import com.amazonaws.services.s3.{AmazonS3, AmazonS3ClientBuilder}\n",
      "conf: org.apache.spark.SparkConf = org.apache.spark.SparkConf@1cac1d9d\n",
      "spark: org.apache.spark.sql.SparkSession = org.apache.spark.sql.SparkSession@3ad1b2a5\n",
      "import spark.implicits._\n"
     ]
    }
   ],
   "source": [
    "import breeze.linalg.Matrix.castOps\n",
    "import breeze.linalg.Vector.castOps\n",
    "import org.apache.spark.SparkConf\n",
    "import org.apache.spark.sql.functions.{array_contains, avg, col, concat, concat_ws, countDistinct, element_at, explode, explode_outer, lit, lower, mean, round, split, substring, sum, udf, upper, when}\n",
    "import org.apache.spark.sql.types.{IntegerType, StringType, StructType}\n",
    "import org.apache.spark.sql.{Column, DataFrame, SaveMode, SparkSession, functions}\n",
    "import shapeless.Lazy.apply\n",
    "import java.net.URL\n",
    "import java.net.HttpURLConnection\n",
    "import java.io.File\n",
    "import java.nio.file.{Files, StandardCopyOption}\n",
    "import org.apache.spark.sql.SQLContext\n",
    "import org.apache.spark.input.PortableDataStream\n",
    "import java.util.zip.ZipInputStream\n",
    "import java.io.BufferedReader\n",
    "import java.io.InputStreamReader\n",
    "import java.io.{ IOException, FileOutputStream, FileInputStream, File }\n",
    "import java.util.zip.{ ZipEntry, ZipInputStream }\n",
    "import com.amazonaws.services.s3.AmazonS3Client\n",
    "import com.amazonaws.auth.BasicAWSCredentials\n",
    "//import com.datastax.spark.connector.cql.CassandraConnector\n",
    "//import org.apache.spark.sql.cassandra._\n",
    "\n",
    "// Imports\n",
    "import scala.sys.process._\n",
    "import java.net.URL\n",
    "import java.io.File\n",
    "import java.io.File\n",
    "import java.nio.file.{Files, StandardCopyOption}\n",
    "import java.net.HttpURLConnection \n",
    "import org.apache.spark.sql.functions._\n",
    "\n",
    "//import scala.sqlContext.implicits._\n",
    "import org.apache.spark.sql.functions.udf\n",
    "import org.apache.spark.sql.{Row, SparkSession}\n",
    "import org.apache.spark.sql.functions.{col, to_date, to_timestamp}\n",
    "import org.apache.spark.sql.types.DateType\n",
    "import org.apache.spark.sql.functions.{from_unixtime, unix_timestamp, _}\n",
    "\n",
    "import org.apache.spark.input.PortableDataStream\n",
    "import java.util.zip.ZipInputStream\n",
    "import java.io.BufferedReader\n",
    "import java.io.InputStreamReader\n",
    "import org.apache.spark.sql.SQLContext\n",
    "import com.amazonaws.services.s3.AmazonS3Client\n",
    "import com.amazonaws.auth.BasicAWSCredentials\n",
    "import org.apache.spark.sql.types.IntegerType\n",
    "import com.amazonaws.services.s3.{AmazonS3, AmazonS3ClientBuilder}\n",
    "\n",
    "val conf = new SparkConf().setAll(Map(\n",
    "    \"spark.master\" -> \"local\",\n",
    "    \"spark.scheduler.mode\" -> \"FIFO\",\n",
    "    \"spark.speculation\" -> \"false\",\n",
    "    \"spark.reducer.maxSizeInFlight\" -> \"48m\",\n",
    "    \"spark.serializer\" -> \"org.apache.spark.serializer.KryoSerializer\",\n",
    "    \"spark.kryoserializer.buffer.max\" -> \"1g\",\n",
    "    \"spark.shuffle.file.buffer\" -> \"32k\",\n",
    "    \"spark.default.parallelism\" -> \"12\",\n",
    "    \"spark.sql.shuffle.partitions\" -> \"12\"\n",
    "))\n",
    "\n",
    "val spark = SparkSession.builder.config(conf).appName(\"SparKGDELT\").getOrCreate()\n",
    "\n",
    "import spark.implicits._"
   ]
  },
  {
   "cell_type": "code",
   "execution_count": 8,
   "metadata": {},
   "outputs": [
    {
     "data": {
      "application/vnd.jupyter.widget-view+json": {
       "model_id": "b157186c61de44bbb6681b314eb6a639",
       "version_major": 2,
       "version_minor": 0
      },
      "text/plain": [
       "VBox()"
      ]
     },
     "metadata": {},
     "output_type": "display_data"
    },
    {
     "data": {
      "application/vnd.jupyter.widget-view+json": {
       "model_id": "",
       "version_major": 2,
       "version_minor": 0
      },
      "text/plain": [
       "FloatProgress(value=0.0, bar_style='info', description='Progress:', layout=Layout(height='25px', width='50%'),…"
      ]
     },
     "metadata": {},
     "output_type": "display_data"
    },
    {
     "name": "stdout",
     "output_type": "stream",
     "text": [
      "list_csv: org.apache.spark.sql.DataFrame = [size: string, hash: string ... 1 more field]\n",
      "list_2020_tot: org.apache.spark.sql.Dataset[org.apache.spark.sql.Row] = [size: string, hash: string ... 1 more field]\n",
      "+-------+--------------------------------+--------------------------------------------------------------------------------+\n",
      "|size   |hash                            |url                                                                             |\n",
      "+-------+--------------------------------+--------------------------------------------------------------------------------+\n",
      "|60089  |4fd11d42d646dd8ed194981cc2fd9ee6|http://data.gdeltproject.org/gdeltv2/20200201000000.translation.export.CSV.zip  |\n",
      "|55386  |1a5818ddada7124e1ee34724871ac67b|http://data.gdeltproject.org/gdeltv2/20200201000000.translation.mentions.CSV.zip|\n",
      "|6178636|72d0e5ca10362beca19a0510854f4721|http://data.gdeltproject.org/gdeltv2/20200201000000.translation.gkg.csv.zip     |\n",
      "|62076  |6352fe6b69a145d656a1464bcf035b5f|http://data.gdeltproject.org/gdeltv2/20200201001500.translation.export.CSV.zip  |\n",
      "|60107  |14de1bbeafa5e0abfc055d3fb3de4e6e|http://data.gdeltproject.org/gdeltv2/20200201001500.translation.mentions.CSV.zip|\n",
      "|6133442|765b9d4a4dd3270732defd66de74be37|http://data.gdeltproject.org/gdeltv2/20200201001500.translation.gkg.csv.zip     |\n",
      "|54088  |eaeac5616bcd9c9a145c6c2584da7b2f|http://data.gdeltproject.org/gdeltv2/20200201003000.translation.export.CSV.zip  |\n",
      "|58167  |393905ab29177921fd0fa17ead1165b0|http://data.gdeltproject.org/gdeltv2/20200201003000.translation.mentions.CSV.zip|\n",
      "|6454334|209299355a96b7e5a9ecf3ec77d2f6de|http://data.gdeltproject.org/gdeltv2/20200201003000.translation.gkg.csv.zip     |\n",
      "|52276  |8d4a2a77c777cdb4c1fd49c766906740|http://data.gdeltproject.org/gdeltv2/20200201004500.translation.export.CSV.zip  |\n",
      "+-------+--------------------------------+--------------------------------------------------------------------------------+\n",
      "only showing top 10 rows\n",
      "\n"
     ]
    }
   ],
   "source": [
    "// English Data\n",
    "val list_csv = spark.read.format(\"csv\").option(\"delimiter\", \" \").\n",
    "    csv(\"s3://testfuret/masterfilelist_translation.txt\").\n",
    "    withColumnRenamed(\"_c0\",\"size\").\n",
    "    withColumnRenamed(\"_c1\",\"hash\").\n",
    "    withColumnRenamed(\"_c2\",\"url\")\n",
    "\n",
    "val list_2020_tot = list_csv.where(col(\"url\").like(\"%/2020020%\")) \n",
    "//val list_2020_tot = list_csv.where(col(\"url\").like(\"%export%\")) \n",
    "list_2020_tot.show(10,false)"
   ]
  },
  {
   "cell_type": "code",
   "execution_count": 2,
   "metadata": {},
   "outputs": [
    {
     "data": {
      "application/vnd.jupyter.widget-view+json": {
       "model_id": "9c04622e5f4548f8a43506c86951f2f1",
       "version_major": 2,
       "version_minor": 0
      },
      "text/plain": [
       "VBox()"
      ]
     },
     "metadata": {},
     "output_type": "display_data"
    },
    {
     "data": {
      "application/vnd.jupyter.widget-view+json": {
       "model_id": "",
       "version_major": 2,
       "version_minor": 0
      },
      "text/plain": [
       "FloatProgress(value=0.0, bar_style='info', description='Progress:', layout=Layout(height='25px', width='50%'),…"
      ]
     },
     "metadata": {},
     "output_type": "display_data"
    },
    {
     "name": "stdout",
     "output_type": "stream",
     "text": [
      "gkgRDD: org.apache.spark.rdd.RDD[String] = MapPartitionsRDD[1] at flatMap at <console>:83\n",
      "gkgDF: org.apache.spark.sql.DataFrame = [value: array<string>]\n",
      "dfGKG: org.apache.spark.sql.DataFrame = [GKGRECORDID: string, V2DATE: string ... 6 more fields]\n"
     ]
    }
   ],
   "source": [
    "//Ouverture des fichiers ZIP et écriture en csv.\n",
    "\n",
    "val gkgRDD = sc.binaryFiles(\"s3://testfuret/Master_file /*2020030*.gkg.csv.zip\",100).    \n",
    "   flatMap {  \n",
    "       \n",
    "       // decompresser les fichiers\n",
    "       case (name: String, content: PortableDataStream) =>\n",
    "\n",
    "          val zis = new ZipInputStream(content.open)\n",
    "          Stream.continually(zis.getNextEntry).\n",
    "                takeWhile(_ != null).\n",
    "                //takeWhile{case null => zis.close(); false\n",
    "                          //case _ => true}.\n",
    "                flatMap { _ =>\n",
    "                    val br = new BufferedReader(new InputStreamReader(zis))\n",
    "                    Stream.continually(br.readLine()).takeWhile(_ != null)\n",
    "                }\n",
    "    }\n",
    "\n",
    "val gkgDF = gkgRDD.map(x => x.split(\"\\t\")).toDF()//.map(row => row.mkString(\";\")).map(x => x.split(\";\")).toDF()\n",
    "//val gkgDF = gkgRDD.map(x => x.split(\"\\t\")).map(row => row.mkString(\";\")).toDF()\n",
    "\n",
    "val dfGKG = gkgDF.withColumn(\"_tmp\", $\"value\").select(\n",
    "    $\"_tmp\".getItem(0).as(\"GKGRECORDID\"),\n",
    "    $\"_tmp\".getItem(1).as(\"V2DATE\"),\n",
    "    $\"_tmp\".getItem(3).as(\"V2SOURCECOMMONNAME\"),\n",
    "    $\"_tmp\".getItem(4).as(\"V2DOCUMENTIDENTIFIER\"),\n",
    "    $\"_tmp\".getItem(7).as(\"V1THEMES\"),\n",
    "    $\"_tmp\".getItem(9).as(\"V1LOCATIONS\"),\n",
    "    $\"_tmp\".getItem(11).as(\"V1PERSONS\"),\n",
    "    $\"_tmp\".getItem(15).as(\"V1TONE\")\n",
    "    )\n",
    "\n"
   ]
  },
  {
   "cell_type": "code",
   "execution_count": 3,
   "metadata": {},
   "outputs": [
    {
     "data": {
      "application/vnd.jupyter.widget-view+json": {
       "model_id": "ec938bf866a24bc4ba10243be2a9737f",
       "version_major": 2,
       "version_minor": 0
      },
      "text/plain": [
       "VBox()"
      ]
     },
     "metadata": {},
     "output_type": "display_data"
    },
    {
     "data": {
      "application/vnd.jupyter.widget-view+json": {
       "model_id": "",
       "version_major": 2,
       "version_minor": 0
      },
      "text/plain": [
       "FloatProgress(value=0.0, bar_style='info', description='Progress:', layout=Layout(height='25px', width='50%'),…"
      ]
     },
     "metadata": {},
     "output_type": "display_data"
    },
    {
     "name": "stdout",
     "output_type": "stream",
     "text": [
      "mentionENRDD: org.apache.spark.rdd.RDD[String] = MapPartitionsRDD[4] at flatMap at <console>:82\n",
      "mentionENDF: org.apache.spark.sql.DataFrame = [value: array<string>]\n",
      "dfMentionEN: org.apache.spark.sql.DataFrame = [globaleventID: string, MentionSourceName: string ... 2 more fields]\n"
     ]
    }
   ],
   "source": [
    "//Ouverture des fichiers ZIP et écriture en csv.\n",
    "val mentionENRDD = sc.binaryFiles(\"s3://testfuret/Master_file /*2020030*.mentions*\",100).    \n",
    "   flatMap {  \n",
    "       \n",
    "       // decompresser les fichiers\n",
    "       case (name: String, content: PortableDataStream) =>\n",
    "\n",
    "          val zis = new ZipInputStream(content.open)\n",
    "          Stream.continually(zis.getNextEntry).\n",
    "                takeWhile(_ != null).\n",
    "                //takeWhile{case null => zis.close(); false\n",
    "                          //case _ => true}.\n",
    "                flatMap { _ =>\n",
    "                    val br = new BufferedReader(new InputStreamReader(zis))\n",
    "                    Stream.continually(br.readLine()).takeWhile(_ != null)\n",
    "                }\n",
    "\n",
    "    }\n",
    "\n",
    "val mentionENDF = mentionENRDD.map(x => x.split(\"\\t\")).map(row => row.mkString(\";\")).map(x => x.split(\";\")).toDF()\n",
    "\n",
    "val dfMentionEN = mentionENDF.withColumn(\"_tmp\", $\"value\").select(\n",
    "     $\"_tmp\".getItem(0).as(\"globaleventID\"),\n",
    "     $\"_tmp\".getItem(4).as(\"MentionSourceName\"),\n",
    "     $\"_tmp\".getItem(5).as(\"MentionIdentifier\"),\n",
    "     $\"_tmp\".getItem(14).as(\"MentionDocTranslationInfo\")\n",
    "    )\n",
    "\n"
   ]
  },
  {
   "cell_type": "code",
   "execution_count": 4,
   "metadata": {},
   "outputs": [
    {
     "data": {
      "application/vnd.jupyter.widget-view+json": {
       "model_id": "62548a6e71d04d35a2dd19eabc9e2d08",
       "version_major": 2,
       "version_minor": 0
      },
      "text/plain": [
       "VBox()"
      ]
     },
     "metadata": {},
     "output_type": "display_data"
    },
    {
     "data": {
      "application/vnd.jupyter.widget-view+json": {
       "model_id": "",
       "version_major": 2,
       "version_minor": 0
      },
      "text/plain": [
       "FloatProgress(value=0.0, bar_style='info', description='Progress:', layout=Layout(height='25px', width='50%'),…"
      ]
     },
     "metadata": {},
     "output_type": "display_data"
    },
    {
     "name": "stdout",
     "output_type": "stream",
     "text": [
      "cleanLangue: (langue: String)String\n",
      "cleanLangueUdf: org.apache.spark.sql.expressions.UserDefinedFunction = UserDefinedFunction(<function1>,StringType,Some(List(StringType)))\n",
      "dfMention: org.apache.spark.sql.DataFrame = [globaleventID: string, MentionSourceName: string ... 2 more fields]\n"
     ]
    }
   ],
   "source": [
    "def cleanLangue(langue: String): String = {\n",
    "\tif (langue == null)\n",
    "    \t\"eng\" \n",
    "\telse\n",
    "        langue.substring(6)\n",
    "}\n",
    "\n",
    "val cleanLangueUdf = udf(cleanLangue _)\n",
    "\n",
    "val dfMention: DataFrame = dfMentionEN.\n",
    "\twithColumn(\"Langue\", cleanLangueUdf($\"MentionDocTranslationInfo\")).\n",
    "    drop($\"MentionDocTranslationInfo\")"
   ]
  },
  {
   "cell_type": "code",
   "execution_count": 5,
   "metadata": {},
   "outputs": [
    {
     "data": {
      "application/vnd.jupyter.widget-view+json": {
       "model_id": "6f30f73765ea4065b8ba7eff8c054815",
       "version_major": 2,
       "version_minor": 0
      },
      "text/plain": [
       "VBox()"
      ]
     },
     "metadata": {},
     "output_type": "display_data"
    },
    {
     "data": {
      "application/vnd.jupyter.widget-view+json": {
       "model_id": "",
       "version_major": 2,
       "version_minor": 0
      },
      "text/plain": [
       "FloatProgress(value=0.0, bar_style='info', description='Progress:', layout=Layout(height='25px', width='50%'),…"
      ]
     },
     "metadata": {},
     "output_type": "display_data"
    },
    {
     "name": "stdout",
     "output_type": "stream",
     "text": [
      "EventENRDD: org.apache.spark.rdd.RDD[String] = MapPartitionsRDD[9] at flatMap at <console>:83\n",
      "eventENDF: org.apache.spark.sql.DataFrame = [value: array<string>]\n",
      "dfEvent: org.apache.spark.sql.DataFrame = [globaleventID: string, day: string ... 7 more fields]\n"
     ]
    }
   ],
   "source": [
    "//Ouverture des fichiers ZIP et écriture en csv.\n",
    "\n",
    "val EventENRDD = sc.binaryFiles(\"s3://testfuret/Master_file /2020030*export.CSV.zip\",100).    \n",
    "   flatMap {  \n",
    "       \n",
    "       // decompresser les fichiers\n",
    "       case (name: String, content: PortableDataStream) =>\n",
    "\n",
    "          val zis = new ZipInputStream(content.open)\n",
    "          Stream.continually(zis.getNextEntry).\n",
    "                takeWhile(_ != null).\n",
    "                //takeWhile{case null => zis.close(); false\n",
    "                          //case _ => true}.\n",
    "                flatMap { _ =>\n",
    "                    val br = new BufferedReader(new InputStreamReader(zis))\n",
    "                    Stream.continually(br.readLine()).takeWhile(_ != null)\n",
    "                }\n",
    "\n",
    "    }\n",
    "\n",
    "val eventENDF = EventENRDD.map(x => x.split(\"\\t\")).map(row => row.mkString(\";\")).map(x => x.split(\";\")).toDF()\n",
    "\n",
    "val dfEvent = eventENDF.withColumn(\"_tmp\", $\"value\").select(\n",
    "     $\"_tmp\".getItem(0).as(\"globaleventID\"),\n",
    "     $\"_tmp\".getItem(1).as(\"day\"),\n",
    "     $\"_tmp\".getItem(2).as(\"month\"),\n",
    "     $\"_tmp\".getItem(3).as(\"year\"),\n",
    "     $\"_tmp\".getItem(31).as(\"NumMentions\"),\n",
    "     $\"_tmp\".getItem(32).as(\"NumSources\"),\n",
    "     $\"_tmp\".getItem(33).as(\"NumArticles\"),\n",
    "     $\"_tmp\".getItem(34).as(\"AvgTone\"),\n",
    "     $\"_tmp\".getItem(52).as(\"ActionGeo_Fullname\")\n",
    "    )"
   ]
  },
  {
   "cell_type": "code",
   "execution_count": 6,
   "metadata": {},
   "outputs": [
    {
     "data": {
      "application/vnd.jupyter.widget-view+json": {
       "model_id": "c7ef103d1fb24b3aa8ef973c81405e59",
       "version_major": 2,
       "version_minor": 0
      },
      "text/plain": [
       "VBox()"
      ]
     },
     "metadata": {},
     "output_type": "display_data"
    },
    {
     "data": {
      "application/vnd.jupyter.widget-view+json": {
       "model_id": "",
       "version_major": 2,
       "version_minor": 0
      },
      "text/plain": [
       "FloatProgress(value=0.0, bar_style='info', description='Progress:', layout=Layout(height='25px', width='50%'),…"
      ]
     },
     "metadata": {},
     "output_type": "display_data"
    },
    {
     "name": "stdout",
     "output_type": "stream",
     "text": [
      "dfGKG_Pand: org.apache.spark.sql.DataFrame = [GKGRECORDID: string, V2DATE: string ... 7 more fields]\n",
      "dfGKG_Covid: org.apache.spark.sql.Dataset[org.apache.spark.sql.Row] = [GKGRECORDID: string, V2DATE: string ... 7 more fields]\n"
     ]
    }
   ],
   "source": [
    "val dfGKG_Pand = dfGKG.\n",
    "    withColumn(\"CheckCOVID\", $\"V1THEMES\".like(\"%PANDEMIC%\") || $\"V1THEMES\".like(\"%CORONAVIRUS%\"))\n",
    "\n",
    "val dfGKG_Covid = dfGKG_Pand.\n",
    "    filter((dfGKG_Pand(\"CheckCOVID\") === \"true\"))"
   ]
  },
  {
   "cell_type": "code",
   "execution_count": 7,
   "metadata": {},
   "outputs": [
    {
     "data": {
      "application/vnd.jupyter.widget-view+json": {
       "model_id": "a02b3dc50182455890278125caf1dbc3",
       "version_major": 2,
       "version_minor": 0
      },
      "text/plain": [
       "VBox()"
      ]
     },
     "metadata": {},
     "output_type": "display_data"
    },
    {
     "data": {
      "application/vnd.jupyter.widget-view+json": {
       "model_id": "",
       "version_major": 2,
       "version_minor": 0
      },
      "text/plain": [
       "FloatProgress(value=0.0, bar_style='info', description='Progress:', layout=Layout(height='25px', width='50%'),…"
      ]
     },
     "metadata": {},
     "output_type": "display_data"
    },
    {
     "name": "stdout",
     "output_type": "stream",
     "text": [
      "dfGKGCovidWithMention: org.apache.spark.sql.DataFrame = [GKGRECORDID: string, V2DATE: string ... 11 more fields]\n"
     ]
    }
   ],
   "source": [
    "val dfGKGCovidWithMention = dfGKG_Covid.join(dfMention, dfGKG_Covid(\"V2DOCUMENTIDENTIFIER\")===dfMention(\"MentionIdentifier\"), \"inner\")\n",
    "\n",
    "//dfGKGCovidWithMention.write.parquet(\"s3://axel-michalewicz-telecom/GKGMention/\")"
   ]
  },
  {
   "cell_type": "code",
   "execution_count": 8,
   "metadata": {},
   "outputs": [
    {
     "data": {
      "application/vnd.jupyter.widget-view+json": {
       "model_id": "6ac7aca9899549c3b66c54f928bf19c3",
       "version_major": 2,
       "version_minor": 0
      },
      "text/plain": [
       "VBox()"
      ]
     },
     "metadata": {},
     "output_type": "display_data"
    },
    {
     "data": {
      "application/vnd.jupyter.widget-view+json": {
       "model_id": "",
       "version_major": 2,
       "version_minor": 0
      },
      "text/plain": [
       "FloatProgress(value=0.0, bar_style='info', description='Progress:', layout=Layout(height='25px', width='50%'),…"
      ]
     },
     "metadata": {},
     "output_type": "display_data"
    }
   ],
   "source": [
    "//val dfGKGMention = spark.\n",
    "      //read.\n",
    "      //parquet(\"s3://axel-michalewicz-telecom/GKGMention/\")"
   ]
  },
  {
   "cell_type": "code",
   "execution_count": 8,
   "metadata": {},
   "outputs": [
    {
     "data": {
      "application/vnd.jupyter.widget-view+json": {
       "model_id": "b094f6ead7774925b6f7494d5768c391",
       "version_major": 2,
       "version_minor": 0
      },
      "text/plain": [
       "VBox()"
      ]
     },
     "metadata": {},
     "output_type": "display_data"
    },
    {
     "data": {
      "application/vnd.jupyter.widget-view+json": {
       "model_id": "",
       "version_major": 2,
       "version_minor": 0
      },
      "text/plain": [
       "FloatProgress(value=0.0, bar_style='info', description='Progress:', layout=Layout(height='25px', width='50%'),…"
      ]
     },
     "metadata": {},
     "output_type": "display_data"
    },
    {
     "name": "stdout",
     "output_type": "stream",
     "text": [
      "dfFinal: org.apache.spark.sql.DataFrame = [GKGRECORDID: string, V2DATE: string ... 19 more fields]\n"
     ]
    }
   ],
   "source": [
    "val dfFinal = dfGKGCovidWithMention.join(dfEvent, dfGKGCovidWithMention(\"globaleventID\")===dfEvent(\"globaleventID\"), \"inner\").drop(dfEvent(\"globaleventID\"))"
   ]
  },
  {
   "cell_type": "code",
   "execution_count": 9,
   "metadata": {},
   "outputs": [
    {
     "data": {
      "application/vnd.jupyter.widget-view+json": {
       "model_id": "85f5c2380aaa40fbbe5e3589d587a340",
       "version_major": 2,
       "version_minor": 0
      },
      "text/plain": [
       "VBox()"
      ]
     },
     "metadata": {},
     "output_type": "display_data"
    },
    {
     "data": {
      "application/vnd.jupyter.widget-view+json": {
       "model_id": "",
       "version_major": 2,
       "version_minor": 0
      },
      "text/plain": [
       "FloatProgress(value=0.0, bar_style='info', description='Progress:', layout=Layout(height='25px', width='50%'),…"
      ]
     },
     "metadata": {},
     "output_type": "display_data"
    },
    {
     "name": "stderr",
     "output_type": "stream",
     "text": [
      "An error was encountered:\n",
      "org.apache.spark.SparkException: Job aborted.\n",
      "  at org.apache.spark.sql.execution.datasources.FileFormatWriter$.write(FileFormatWriter.scala:198)\n",
      "  at org.apache.spark.sql.execution.datasources.InsertIntoHadoopFsRelationCommand.run(InsertIntoHadoopFsRelationCommand.scala:174)\n",
      "  at org.apache.spark.sql.execution.command.DataWritingCommandExec.sideEffectResult$lzycompute(commands.scala:104)\n",
      "  at org.apache.spark.sql.execution.command.DataWritingCommandExec.sideEffectResult(commands.scala:102)\n",
      "  at org.apache.spark.sql.execution.command.DataWritingCommandExec.doExecute(commands.scala:122)\n",
      "  at org.apache.spark.sql.execution.SparkPlan$$anonfun$execute$1.apply(SparkPlan.scala:173)\n",
      "  at org.apache.spark.sql.execution.SparkPlan$$anonfun$execute$1.apply(SparkPlan.scala:169)\n",
      "  at org.apache.spark.sql.execution.SparkPlan$$anonfun$executeQuery$1.apply(SparkPlan.scala:197)\n",
      "  at org.apache.spark.rdd.RDDOperationScope$.withScope(RDDOperationScope.scala:151)\n",
      "  at org.apache.spark.sql.execution.SparkPlan.executeQuery(SparkPlan.scala:194)\n",
      "  at org.apache.spark.sql.execution.SparkPlan.execute(SparkPlan.scala:169)\n",
      "  at org.apache.spark.sql.execution.QueryExecution.toRdd$lzycompute(QueryExecution.scala:114)\n",
      "  at org.apache.spark.sql.execution.QueryExecution.toRdd(QueryExecution.scala:112)\n",
      "  at org.apache.spark.sql.DataFrameWriter$$anonfun$runCommand$1.apply(DataFrameWriter.scala:696)\n",
      "  at org.apache.spark.sql.DataFrameWriter$$anonfun$runCommand$1.apply(DataFrameWriter.scala:696)\n",
      "  at org.apache.spark.sql.execution.SQLExecution$.org$apache$spark$sql$execution$SQLExecution$$executeQuery$1(SQLExecution.scala:83)\n",
      "  at org.apache.spark.sql.execution.SQLExecution$$anonfun$withNewExecutionId$1$$anonfun$apply$1.apply(SQLExecution.scala:94)\n",
      "  at org.apache.spark.sql.execution.QueryExecutionMetrics$.withMetrics(QueryExecutionMetrics.scala:141)\n",
      "  at org.apache.spark.sql.execution.SQLExecution$.org$apache$spark$sql$execution$SQLExecution$$withMetrics(SQLExecution.scala:178)\n",
      "  at org.apache.spark.sql.execution.SQLExecution$$anonfun$withNewExecutionId$1.apply(SQLExecution.scala:93)\n",
      "  at org.apache.spark.sql.execution.SQLExecution$.withSQLConfPropagated(SQLExecution.scala:200)\n",
      "  at org.apache.spark.sql.execution.SQLExecution$.withNewExecutionId(SQLExecution.scala:92)\n",
      "  at org.apache.spark.sql.DataFrameWriter.runCommand(DataFrameWriter.scala:696)\n",
      "  at org.apache.spark.sql.DataFrameWriter.saveToV1Source(DataFrameWriter.scala:305)\n",
      "  at org.apache.spark.sql.DataFrameWriter.save(DataFrameWriter.scala:291)\n",
      "  at org.apache.spark.sql.DataFrameWriter.save(DataFrameWriter.scala:249)\n",
      "  at org.apache.spark.sql.DataFrameWriter.json(DataFrameWriter.scala:565)\n",
      "  ... 61 elided\n",
      "Caused by: org.apache.spark.SparkException: Job aborted due to stage failure: Task 1 in stage 1.0 failed 4 times, most recent failure: Lost task 1.3 in stage 1.0 (TID 70, ip-172-31-43-160.ec2.internal, executor 5): java.io.EOFException: Unexpected end of ZLIB input stream\n",
      "\tat java.util.zip.InflaterInputStream.fill(InflaterInputStream.java:240)\n",
      "\tat java.util.zip.InflaterInputStream.read(InflaterInputStream.java:158)\n",
      "\tat java.util.zip.ZipInputStream.read(ZipInputStream.java:194)\n",
      "\tat sun.nio.cs.StreamDecoder.readBytes(StreamDecoder.java:284)\n",
      "\tat sun.nio.cs.StreamDecoder.implRead(StreamDecoder.java:326)\n",
      "\tat sun.nio.cs.StreamDecoder.read(StreamDecoder.java:178)\n",
      "\tat java.io.InputStreamReader.read(InputStreamReader.java:184)\n",
      "\tat java.io.BufferedReader.fill(BufferedReader.java:161)\n",
      "\tat java.io.BufferedReader.readLine(BufferedReader.java:324)\n",
      "\tat java.io.BufferedReader.readLine(BufferedReader.java:389)\n",
      "\tat $anonfun$1$$anonfun$apply$3$$anonfun$apply$4.apply(<console>:95)\n",
      "\tat $anonfun$1$$anonfun$apply$3$$anonfun$apply$4.apply(<console>:95)\n",
      "\tat scala.collection.immutable.Stream$.continually(Stream.scala:1279)\n",
      "\tat scala.collection.immutable.Stream$$anonfun$continually$1.apply(Stream.scala:1279)\n",
      "\tat scala.collection.immutable.Stream$$anonfun$continually$1.apply(Stream.scala:1279)\n",
      "\tat scala.collection.immutable.Stream$Cons.tail(Stream.scala:1233)\n",
      "\tat scala.collection.immutable.Stream$Cons.tail(Stream.scala:1223)\n",
      "\tat scala.collection.immutable.Stream$$anonfun$takeWhile$1.apply(Stream.scala:941)\n",
      "\tat scala.collection.immutable.Stream$$anonfun$takeWhile$1.apply(Stream.scala:941)\n",
      "\tat scala.collection.immutable.Stream$Cons.tail(Stream.scala:1233)\n",
      "\tat scala.collection.immutable.Stream$Cons.tail(Stream.scala:1223)\n",
      "\tat scala.collection.immutable.Stream$$anonfun$append$1.apply(Stream.scala:255)\n",
      "\tat scala.collection.immutable.Stream$$anonfun$append$1.apply(Stream.scala:255)\n",
      "\tat scala.collection.immutable.Stream$Cons.tail(Stream.scala:1233)\n",
      "\tat scala.collection.immutable.Stream$Cons.tail(Stream.scala:1223)\n",
      "\tat scala.collection.immutable.StreamIterator$$anonfun$next$1.apply(Stream.scala:1120)\n",
      "\tat scala.collection.immutable.StreamIterator$$anonfun$next$1.apply(Stream.scala:1120)\n",
      "\tat scala.collection.immutable.StreamIterator$LazyCell.v$lzycompute(Stream.scala:1109)\n",
      "\tat scala.collection.immutable.StreamIterator$LazyCell.v(Stream.scala:1109)\n",
      "\tat scala.collection.immutable.StreamIterator.hasNext(Stream.scala:1114)\n",
      "\tat scala.collection.Iterator$$anon$12.hasNext(Iterator.scala:439)\n",
      "\tat scala.collection.Iterator$$anon$11.hasNext(Iterator.scala:409)\n",
      "\tat scala.collection.Iterator$$anon$11.hasNext(Iterator.scala:409)\n",
      "\tat scala.collection.Iterator$$anon$11.hasNext(Iterator.scala:409)\n",
      "\tat scala.collection.Iterator$$anon$11.hasNext(Iterator.scala:409)\n",
      "\tat org.apache.spark.sql.catalyst.expressions.GeneratedClass$GeneratedIteratorForCodegenStage3.processNext(Unknown Source)\n",
      "\tat org.apache.spark.sql.execution.BufferedRowIterator.hasNext(BufferedRowIterator.java:43)\n",
      "\tat org.apache.spark.sql.execution.WholeStageCodegenExec$$anonfun$13$$anon$1.hasNext(WholeStageCodegenExec.scala:585)\n",
      "\tat scala.collection.Iterator$$anon$11.hasNext(Iterator.scala:409)\n",
      "\tat org.apache.spark.shuffle.sort.BypassMergeSortShuffleWriter.write(BypassMergeSortShuffleWriter.java:154)\n",
      "\tat org.apache.spark.scheduler.ShuffleMapTask.runTask(ShuffleMapTask.scala:99)\n",
      "\tat org.apache.spark.scheduler.ShuffleMapTask.runTask(ShuffleMapTask.scala:55)\n",
      "\tat org.apache.spark.scheduler.Task.run(Task.scala:123)\n",
      "\tat org.apache.spark.executor.Executor$TaskRunner$$anonfun$10.apply(Executor.scala:408)\n",
      "\tat org.apache.spark.util.Utils$.tryWithSafeFinally(Utils.scala:1405)\n",
      "\tat org.apache.spark.executor.Executor$TaskRunner.run(Executor.scala:414)\n",
      "\tat java.util.concurrent.ThreadPoolExecutor.runWorker(ThreadPoolExecutor.java:1149)\n",
      "\tat java.util.concurrent.ThreadPoolExecutor$Worker.run(ThreadPoolExecutor.java:624)\n",
      "\tat java.lang.Thread.run(Thread.java:748)\n",
      "\n",
      "Driver stacktrace:\n",
      "  at org.apache.spark.scheduler.DAGScheduler.org$apache$spark$scheduler$DAGScheduler$$failJobAndIndependentStages(DAGScheduler.scala:2080)\n",
      "  at org.apache.spark.scheduler.DAGScheduler$$anonfun$abortStage$1.apply(DAGScheduler.scala:2068)\n",
      "  at org.apache.spark.scheduler.DAGScheduler$$anonfun$abortStage$1.apply(DAGScheduler.scala:2067)\n",
      "  at scala.collection.mutable.ResizableArray$class.foreach(ResizableArray.scala:59)\n",
      "  at scala.collection.mutable.ArrayBuffer.foreach(ArrayBuffer.scala:48)\n",
      "  at org.apache.spark.scheduler.DAGScheduler.abortStage(DAGScheduler.scala:2067)\n",
      "  at org.apache.spark.scheduler.DAGScheduler$$anonfun$handleTaskSetFailed$1.apply(DAGScheduler.scala:988)\n",
      "  at org.apache.spark.scheduler.DAGScheduler$$anonfun$handleTaskSetFailed$1.apply(DAGScheduler.scala:988)\n",
      "  at scala.Option.foreach(Option.scala:257)\n",
      "  at org.apache.spark.scheduler.DAGScheduler.handleTaskSetFailed(DAGScheduler.scala:988)\n",
      "  at org.apache.spark.scheduler.DAGSchedulerEventProcessLoop.doOnReceive(DAGScheduler.scala:2301)\n",
      "  at org.apache.spark.scheduler.DAGSchedulerEventProcessLoop.onReceive(DAGScheduler.scala:2250)\n",
      "  at org.apache.spark.scheduler.DAGSchedulerEventProcessLoop.onReceive(DAGScheduler.scala:2239)\n",
      "  at org.apache.spark.util.EventLoop$$anon$1.run(EventLoop.scala:49)\n",
      "  at org.apache.spark.sql.execution.adaptive.AdaptiveExecutor.checkNoFailures(AdaptiveExecutor.scala:146)\n",
      "  at org.apache.spark.sql.execution.adaptive.AdaptiveExecutor.doRun(AdaptiveExecutor.scala:88)\n",
      "  at org.apache.spark.sql.execution.adaptive.AdaptiveExecutor.tryRunningAndGetFuture(AdaptiveExecutor.scala:66)\n",
      "  at org.apache.spark.sql.execution.adaptive.AdaptiveExecutor.execute(AdaptiveExecutor.scala:57)\n",
      "  at org.apache.spark.sql.execution.adaptive.AdaptiveSparkPlanExec$$anonfun$finalPhysicalPlan$1.apply(AdaptiveSparkPlanExec.scala:174)\n",
      "  at org.apache.spark.sql.execution.adaptive.AdaptiveSparkPlanExec$$anonfun$finalPhysicalPlan$1.apply(AdaptiveSparkPlanExec.scala:173)\n",
      "  at org.apache.spark.sql.SparkSession.withActive(SparkSession.scala:778)\n",
      "  at org.apache.spark.sql.execution.adaptive.AdaptiveSparkPlanExec.finalPhysicalPlan(AdaptiveSparkPlanExec.scala:173)\n",
      "  at org.apache.spark.sql.execution.adaptive.AdaptiveSparkPlanExec.doExecute(AdaptiveSparkPlanExec.scala:178)\n",
      "  at org.apache.spark.sql.execution.SparkPlan$$anonfun$execute$1.apply(SparkPlan.scala:173)\n",
      "  at org.apache.spark.sql.execution.SparkPlan$$anonfun$execute$1.apply(SparkPlan.scala:169)\n",
      "  at org.apache.spark.sql.execution.SparkPlan$$anonfun$executeQuery$1.apply(SparkPlan.scala:197)\n",
      "  at org.apache.spark.rdd.RDDOperationScope$.withScope(RDDOperationScope.scala:151)\n",
      "  at org.apache.spark.sql.execution.SparkPlan.executeQuery(SparkPlan.scala:194)\n",
      "  at org.apache.spark.sql.execution.SparkPlan.execute(SparkPlan.scala:169)\n",
      "  at org.apache.spark.sql.execution.datasources.FileFormatWriter$.write(FileFormatWriter.scala:143)\n",
      "  ... 87 more\n",
      "Caused by: java.io.EOFException: Unexpected end of ZLIB input stream\n",
      "  at java.util.zip.InflaterInputStream.fill(InflaterInputStream.java:240)\n",
      "  at java.util.zip.InflaterInputStream.read(InflaterInputStream.java:158)\n",
      "  at java.util.zip.ZipInputStream.read(ZipInputStream.java:194)\n",
      "  at sun.nio.cs.StreamDecoder.readBytes(StreamDecoder.java:284)\n",
      "  at sun.nio.cs.StreamDecoder.implRead(StreamDecoder.java:326)\n",
      "  at sun.nio.cs.StreamDecoder.read(StreamDecoder.java:178)\n",
      "  at java.io.InputStreamReader.read(InputStreamReader.java:184)\n",
      "  at java.io.BufferedReader.fill(BufferedReader.java:161)\n",
      "  at java.io.BufferedReader.readLine(BufferedReader.java:324)\n",
      "  at java.io.BufferedReader.readLine(BufferedReader.java:389)\n",
      "  at $anonfun$1$$anonfun$apply$3$$anonfun$apply$4.apply(<console>:95)\n",
      "  at $anonfun$1$$anonfun$apply$3$$anonfun$apply$4.apply(<console>:95)\n",
      "  at scala.collection.immutable.Stream$.continually(Stream.scala:1279)\n",
      "  at scala.collection.immutable.Stream$$anonfun$continually$1.apply(Stream.scala:1279)\n",
      "  at scala.collection.immutable.Stream$$anonfun$continually$1.apply(Stream.scala:1279)\n",
      "  at scala.collection.immutable.Stream$Cons.tail(Stream.scala:1233)\n",
      "  at scala.collection.immutable.Stream$Cons.tail(Stream.scala:1223)\n",
      "  at scala.collection.immutable.Stream$$anonfun$takeWhile$1.apply(Stream.scala:941)\n",
      "  at scala.collection.immutable.Stream$$anonfun$takeWhile$1.apply(Stream.scala:941)\n",
      "  at scala.collection.immutable.Stream$Cons.tail(Stream.scala:1233)\n",
      "  at scala.collection.immutable.Stream$Cons.tail(Stream.scala:1223)\n",
      "  at scala.collection.immutable.Stream$$anonfun$append$1.apply(Stream.scala:255)\n",
      "  at scala.collection.immutable.Stream$$anonfun$append$1.apply(Stream.scala:255)\n",
      "  at scala.collection.immutable.Stream$Cons.tail(Stream.scala:1233)\n",
      "  at scala.collection.immutable.Stream$Cons.tail(Stream.scala:1223)\n",
      "  at scala.collection.immutable.StreamIterator$$anonfun$next$1.apply(Stream.scala:1120)\n",
      "  at scala.collection.immutable.StreamIterator$$anonfun$next$1.apply(Stream.scala:1120)\n",
      "  at scala.collection.immutable.StreamIterator$LazyCell.v$lzycompute(Stream.scala:1109)\n",
      "  at scala.collection.immutable.StreamIterator$LazyCell.v(Stream.scala:1109)\n",
      "  at scala.collection.immutable.StreamIterator.hasNext(Stream.scala:1114)\n",
      "  at scala.collection.Iterator$$anon$12.hasNext(Iterator.scala:439)\n",
      "  at scala.collection.Iterator$$anon$11.hasNext(Iterator.scala:409)\n",
      "  at scala.collection.Iterator$$anon$11.hasNext(Iterator.scala:409)\n",
      "  at scala.collection.Iterator$$anon$11.hasNext(Iterator.scala:409)\n",
      "  at scala.collection.Iterator$$anon$11.hasNext(Iterator.scala:409)\n",
      "  at org.apache.spark.sql.catalyst.expressions.GeneratedClass$GeneratedIteratorForCodegenStage3.processNext(Unknown Source)\n",
      "  at org.apache.spark.sql.execution.BufferedRowIterator.hasNext(BufferedRowIterator.java:43)\n",
      "  at org.apache.spark.sql.execution.WholeStageCodegenExec$$anonfun$13$$anon$1.hasNext(WholeStageCodegenExec.scala:585)\n",
      "  at scala.collection.Iterator$$anon$11.hasNext(Iterator.scala:409)\n",
      "  at org.apache.spark.shuffle.sort.BypassMergeSortShuffleWriter.write(BypassMergeSortShuffleWriter.java:154)\n",
      "  at org.apache.spark.scheduler.ShuffleMapTask.runTask(ShuffleMapTask.scala:99)\n",
      "  at org.apache.spark.scheduler.ShuffleMapTask.runTask(ShuffleMapTask.scala:55)\n",
      "  at org.apache.spark.scheduler.Task.run(Task.scala:123)\n",
      "  at org.apache.spark.executor.Executor$TaskRunner$$anonfun$10.apply(Executor.scala:408)\n",
      "  at org.apache.spark.util.Utils$.tryWithSafeFinally(Utils.scala:1405)\n",
      "  at org.apache.spark.executor.Executor$TaskRunner.run(Executor.scala:414)\n",
      "  ... 3 more\n",
      "\n"
     ]
    }
   ],
   "source": [
    "dfFinal.write.json(\"s3://cgl2/json/mars_01/\")   "
   ]
  },
  {
   "cell_type": "code",
   "execution_count": 45,
   "metadata": {},
   "outputs": [
    {
     "data": {
      "application/vnd.jupyter.widget-view+json": {
       "model_id": "c27ffd0b868a4fdb99719c67978e9044",
       "version_major": 2,
       "version_minor": 0
      },
      "text/plain": [
       "VBox()"
      ]
     },
     "metadata": {},
     "output_type": "display_data"
    },
    {
     "data": {
      "application/vnd.jupyter.widget-view+json": {
       "model_id": "",
       "version_major": 2,
       "version_minor": 0
      },
      "text/plain": [
       "FloatProgress(value=0.0, bar_style='info', description='Progress:', layout=Layout(height='25px', width='50%'),…"
      ]
     },
     "metadata": {},
     "output_type": "display_data"
    },
    {
     "name": "stdout",
     "output_type": "stream",
     "text": [
      "dfCovid_Pays: org.apache.spark.sql.DataFrame = [GKGRECORDID: string, V2DATE: string ... 20 more fields]\n",
      "CountEventArticle: org.apache.spark.sql.DataFrame = [day: string, Pays: string ... 3 more fields]\n"
     ]
    }
   ],
   "source": [
    "//--------------------------------------------------------------------->\n",
    "\n",
    "val dfCovid_Pays = dfFinal.\n",
    "      withColumn(\"Pays\", split($\"ActionGeo_Fullname\", \", \")).\n",
    "      withColumn(\"Pays\", element_at($\"Pays\", -1))\n",
    "\n",
    "// 1°) afficher le nombre d’articles/évènements qui parlent de COVID qu’il y a eu pour chaque triplet (jour, pays de l’évènement, langue de l’article).\n",
    "\n",
    "val CountEventArticle = dfCovid_Pays.\n",
    "\tgroupBy(\"day\", \"Pays\", \"Langue\").\n",
    "    agg(countDistinct(\"globaleventID\").alias(\"NbEvent\"),countDistinct(\"GKGRECORDID\").alias(\"NbArticle\"))\n",
    "\n",
    "CountEventArticle.write.csv(\"s3://axel-michalewicz-telecom/requete1/janv10\")"
   ]
  },
  {
   "cell_type": "code",
   "execution_count": null,
   "metadata": {},
   "outputs": [
    {
     "data": {
      "application/vnd.jupyter.widget-view+json": {
       "model_id": "cb56c935df8f41ce87728bb7f6f7d5e4",
       "version_major": 2,
       "version_minor": 0
      },
      "text/plain": [
       "VBox()"
      ]
     },
     "metadata": {},
     "output_type": "display_data"
    },
    {
     "data": {
      "application/vnd.jupyter.widget-view+json": {
       "model_id": "9f6a3bbe7b3c401d882d4a547debb7f8",
       "version_major": 2,
       "version_minor": 0
      },
      "text/plain": [
       "FloatProgress(value=0.0, bar_style='info', description='Progress:', layout=Layout(height='25px', width='50%'),…"
      ]
     },
     "metadata": {},
     "output_type": "display_data"
    }
   ],
   "source": [
    "//--------------------------------------------------------------------->\n",
    "\n",
    "// 2°) pour un pays donné en paramètre,\n",
    "// affichez les évènements qui y ont eu place triées par le nombre de mentions (tri décroissant);\n",
    "// permettez une agrégation par jour/mois/année\n",
    "\n",
    "val dfCovid_Country = dfCovid_Pays.\n",
    "\tgroupBy(\"Pays\",\"day\",\"globaleventID\").\n",
    "    agg(sum(\"NumMentions\").alias(\"countMention\")).\n",
    "    sort($\"countMention\".desc)\n",
    "\n",
    "//Si aggrégation par jour, Mois, Année, utiliser le champs \"day\"\n",
    "\n",
    "//Requête  question 2)\n",
    "//dfCovid_Country.show()\n",
    "\n",
    "dfCovid_Country.write.csv(\"s3://axel-michalewicz-telecom/requete2/janv10\")"
   ]
  },
  {
   "cell_type": "code",
   "execution_count": 32,
   "metadata": {},
   "outputs": [
    {
     "data": {
      "application/vnd.jupyter.widget-view+json": {
       "model_id": "500d2a166e3040868cf534ecb898914c",
       "version_major": 2,
       "version_minor": 0
      },
      "text/plain": [
       "VBox()"
      ]
     },
     "metadata": {},
     "output_type": "display_data"
    },
    {
     "data": {
      "application/vnd.jupyter.widget-view+json": {
       "model_id": "",
       "version_major": 2,
       "version_minor": 0
      },
      "text/plain": [
       "FloatProgress(value=0.0, bar_style='info', description='Progress:', layout=Layout(height='25px', width='50%'),…"
      ]
     },
     "metadata": {},
     "output_type": "display_data"
    },
    {
     "name": "stdout",
     "output_type": "stream",
     "text": [
      "dfGKGQuestion3: org.apache.spark.sql.DataFrame = [GKGRECORDID: string, V2DATE: string ... 11 more fields]\n",
      "dfCovid_1DataSource: org.apache.spark.sql.DataFrame = [Annee: string, Mois: string ... 7 more fields]\n",
      "dfCovid_1DataSourceTheme: org.apache.spark.sql.DataFrame = [V2SOURCECOMMONNAME: string, GKGRECORDID: string ... 5 more fields]\n",
      "dfCovid_1DataSourceThemeGroup: org.apache.spark.sql.DataFrame = [V2SOURCECOMMONNAME: string, Jour: string ... 3 more fields]\n",
      "dfCovid_1DataSourcePersonnes: org.apache.spark.sql.DataFrame = [V2SOURCECOMMONNAME: string, GKGRECORDID: string ... 5 more fields]\n",
      "dfCovid_1DataSourcePersonnesGroup: org.apache.spark.sql.DataFrame = [V2SOURCECOMMONNAME: string, Jour: string ... 3 more fields]\n",
      "dfCovid_1DataSourceLieux: org.apache.spark.sql.DataFrame = [V2SOURCECOMMONNAME: string, GKGRECORDID: string ... 5 more fields]\n",
      "dfCovid_1DataSourceLieuxGroup: org.apache.spark.sql.DataFrame = [V2SOURCECOMMONNAME: string, Jour: string ... 3 more fields]\n",
      "dfCovid_1DataSourceLieuxGroupFinal: org.apache.spark.sql.DataFrame = [V2SOURCECOMMONNAME: string, Jour: string ... 3 more fields]\n"
     ]
    }
   ],
   "source": [
    "//--------------------------------------------------------------------->\n",
    "// 3°) pour une source de données passée en paramètre (gkg.SourceCommonName)\n",
    "// affichez les thèmes (V1THEMES de la table GKG), personnes (V1PERSONS), lieux (V1LOCATIONS plutôt que Actor1Geo_Fullname, Actor2Geo_Fullname, ActionGeo_Fullname) dont les articles de cette source parlent\n",
    "// ainsi que le nombre d’articles (NumArticles dans la table Event ? => NON count juste le nombre de ligne de la table GKG car une ligne est un article) et le ton moyen des articles (AvgTone dans la table Event ? => .agg(mean(V1.TONE) ) (pour chaque thème/personne/lieu);\n",
    "// permettez une agrégation par jour/mois/année (=day).\n",
    "\n",
    "val dfGKGQuestion3 = dfGKG_Covid.\n",
    "\twithColumn(\"Thèmes\", split($\"V1THEMES\", \";\")).\n",
    "    withColumn(\"Personnes\", split($\"V1PERSONS\", \";\")).\n",
    "    withColumn(\"Tons\", split($\"V1TONE\", \",\")).\n",
    "    withColumn(\"Lieux\", split($\"V1LOCATIONS\", \";\"))\n",
    "    \n",
    "val dfCovid_1DataSource = dfGKGQuestion3.\n",
    "    withColumn(\"Annee\", substring($\"V2DATE\", 0,4)).\n",
    "    withColumn(\"Mois\", substring($\"V2DATE\", 0,6)).\n",
    "    withColumn(\"Jour\", substring($\"V2DATE\", 0,8)).\n",
    "    select($\"Annee\",$\"Mois\",$\"Jour\",$\"V2SOURCECOMMONNAME\",$\"GKGRECORDID\",$\"Thèmes\", $\"Personnes\", $\"Lieux\", $\"Tons\".getItem(0).alias(\"AVGTon\"))\n",
    "\n",
    "\n",
    "//Requête  question 3): thèmes\n",
    "val dfCovid_1DataSourceTheme = dfCovid_1DataSource.\n",
    "\tselect($\"V2SOURCECOMMONNAME\",$\"GKGRECORDID\", $\"Annee\", $\"Mois\", $\"Jour\",$\"AVGTon\", explode_outer($\"Thèmes\").alias(\"Thème\"))\n",
    "\n",
    "val dfCovid_1DataSourceThemeGroup = dfCovid_1DataSourceTheme.\n",
    "\tgroupBy(\"V2SOURCECOMMONNAME\",\"Jour\",\"Thème\").\n",
    "    agg(countDistinct(\"GKGRECORDID\").alias(\"NbArticles\"), mean(\"AVGTon\").alias(\"TonMoyen\"))\n",
    "\n",
    "dfCovid_1DataSourceThemeGroup.write.csv(\"s3://axel-michalewicz-telecom/requete3/Theme/janv10\")\n",
    "\n",
    "//dfCovid_1DataSourceThemeGroup.show()\n",
    "\n",
    "//Requête  question 3): personnes\n",
    "val dfCovid_1DataSourcePersonnes = dfCovid_1DataSource.\n",
    "\tselect($\"V2SOURCECOMMONNAME\",$\"GKGRECORDID\", $\"Annee\", $\"Mois\", $\"Jour\",$\"AVGTon\", explode_outer($\"Personnes\").alias(\"Personne\"))\n",
    "\n",
    "val dfCovid_1DataSourcePersonnesGroup = dfCovid_1DataSourcePersonnes.\n",
    "\tgroupBy(\"V2SOURCECOMMONNAME\",\"Jour\",\"Personne\").\n",
    "    agg(countDistinct(\"GKGRECORDID\").alias(\"NbArticles\"), mean(\"AVGTon\").alias(\"TonMoyen\"))\n",
    "\n",
    "//dfCovid_1DataSourcePersonnesGroup.show()\n",
    "\n",
    "dfCovid_1DataSourcePersonnesGroup.write.csv(\"s3://axel-michalewicz-telecom/requete3/Personnes/janv10\")\n",
    "\n",
    "\n",
    "//Requête  question 3): Lieux\n",
    "val dfCovid_1DataSourceLieux = dfCovid_1DataSource.\n",
    "\tselect($\"V2SOURCECOMMONNAME\",$\"GKGRECORDID\", $\"Annee\", $\"Mois\", $\"Jour\",$\"AVGTon\", explode_outer($\"Lieux\").alias(\"Lieu\"))\n",
    "\n",
    "\n",
    "val dfCovid_1DataSourceLieuxGroup = dfCovid_1DataSourceLieux.\n",
    "\tgroupBy(\"V2SOURCECOMMONNAME\",\"Jour\",\"Lieu\").\n",
    "    agg(countDistinct(\"GKGRECORDID\").alias(\"NbArticles\"), mean(\"AVGTon\").alias(\"TonMoyen\"))\n",
    "\n",
    "val dfCovid_1DataSourceLieuxGroupFinal = dfCovid_1DataSourceLieuxGroup.\n",
    "    withColumn(\"locat\", split($\"Lieu\", \"#\")).\n",
    "    select($\"V2SOURCECOMMONNAME\",$\"Jour\",$\"locat\".getItem(1), $\"NbArticles\", $\"TonMoyen\")\n",
    "\n",
    "//dfCovid_1DataSourceLieuxGroupFinal.show()\n",
    "\n",
    "dfCovid_1DataSourceLieuxGroupFinal.write.csv(\"s3://axel-michalewicz-telecom/requete3/Lieux/janv10\")"
   ]
  }
 ],
 "metadata": {
  "kernelspec": {
   "display_name": "Spark",
   "language": "",
   "name": "sparkkernel"
  },
  "language_info": {
   "codemirror_mode": "text/x-scala",
   "mimetype": "text/x-scala",
   "name": "scala",
   "pygments_lexer": "scala"
  }
 },
 "nbformat": 4,
 "nbformat_minor": 4
}
