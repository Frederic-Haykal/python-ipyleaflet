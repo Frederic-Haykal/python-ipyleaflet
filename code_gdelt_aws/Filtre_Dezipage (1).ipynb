{
 "cells": [
  {
   "cell_type": "code",
   "execution_count": 16,
   "metadata": {},
   "outputs": [
    {
     "data": {
      "application/vnd.jupyter.widget-view+json": {
       "model_id": "5154062615b740bd95a9a4311b352d1f",
       "version_major": 2,
       "version_minor": 0
      },
      "text/plain": [
       "VBox()"
      ]
     },
     "metadata": {},
     "output_type": "display_data"
    },
    {
     "data": {
      "application/vnd.jupyter.widget-view+json": {
       "model_id": "",
       "version_major": 2,
       "version_minor": 0
      },
      "text/plain": [
       "FloatProgress(value=0.0, bar_style='info', description='Progress:', layout=Layout(height='25px', width='50%'),…"
      ]
     },
     "metadata": {},
     "output_type": "display_data"
    },
    {
     "name": "stdout",
     "output_type": "stream",
     "text": [
      "import scala.sys.process._\n",
      "import java.net.URL\n",
      "import java.io.File\n",
      "import java.io.File\n",
      "import java.nio.file.{Files, StandardCopyOption}\n",
      "import java.net.HttpURLConnection\n",
      "import org.apache.spark.sql.functions._\n",
      "import org.apache.spark.sql.functions.udf\n",
      "import org.apache.spark.sql.{Row, SparkSession}\n",
      "import org.apache.spark.sql.functions.{col, to_date, to_timestamp}\n",
      "import org.apache.spark.sql.types.DateType\n",
      "import org.apache.spark.sql.functions.{from_unixtime, unix_timestamp, _}\n",
      "import org.apache.spark.sql.types.{IntegerType, StringType, StructType}\n",
      "import org.apache.spark.sql.SaveMode\n",
      "import org.apache.spark.input.PortableDataStream\n",
      "import java.util.zip.ZipInputStream\n",
      "import java.io.BufferedReader\n",
      "import java.io.InputStreamReader\n",
      "import org.apache.spark.sql.SQLContext\n",
      "import com.amazonaws.services.s3.AmazonS3Client\n",
      "import com.amazonaws.auth.BasicAWSCredentials\n",
      "import org.apache.spark.sql.types.IntegerType\n",
      "import com.amazonaws.services.s3.{AmazonS3, AmazonS3ClientBuilder}\n"
     ]
    }
   ],
   "source": [
    "// Imports\n",
    "import scala.sys.process._\n",
    "import java.net.URL\n",
    "import java.io.File\n",
    "import java.io.File\n",
    "import java.nio.file.{Files, StandardCopyOption}\n",
    "import java.net.HttpURLConnection \n",
    "import org.apache.spark.sql.functions._\n",
    "\n",
    "//import scala.sqlContext.implicits._\n",
    "import org.apache.spark.sql.functions.udf\n",
    "import org.apache.spark.sql.{Row, SparkSession}\n",
    "import org.apache.spark.sql.functions.{col, to_date, to_timestamp}\n",
    "import org.apache.spark.sql.types.DateType\n",
    "import org.apache.spark.sql.functions.{from_unixtime, unix_timestamp, _}\n",
    "import org.apache.spark.sql.types.{IntegerType, StringType, StructType}\n",
    "import org.apache.spark.sql.SaveMode\n",
    "\n",
    "import org.apache.spark.input.PortableDataStream\n",
    "import java.util.zip.ZipInputStream\n",
    "import java.io.BufferedReader\n",
    "import java.io.InputStreamReader\n",
    "import org.apache.spark.sql.SQLContext\n",
    "import com.amazonaws.services.s3.AmazonS3Client\n",
    "import com.amazonaws.auth.BasicAWSCredentials\n",
    "\n",
    "//import org.apache.spark.sql.cassandra._\n",
    "\n",
    "//import com.datastax.spark.connector._\n",
    "import org.apache.spark.sql.types.IntegerType\n",
    "\n",
    "\n",
    "import com.amazonaws.services.s3.{AmazonS3, AmazonS3ClientBuilder}\n"
   ]
  },
  {
   "cell_type": "code",
   "execution_count": 2,
   "metadata": {},
   "outputs": [
    {
     "data": {
      "application/vnd.jupyter.widget-view+json": {
       "model_id": "8a2be6f1bcff43daba4c43741d3fc84d",
       "version_major": 2,
       "version_minor": 0
      },
      "text/plain": [
       "VBox()"
      ]
     },
     "metadata": {},
     "output_type": "display_data"
    },
    {
     "data": {
      "application/vnd.jupyter.widget-view+json": {
       "model_id": "",
       "version_major": 2,
       "version_minor": 0
      },
      "text/plain": [
       "FloatProgress(value=0.0, bar_style='info', description='Progress:', layout=Layout(height='25px', width='50%'),…"
      ]
     },
     "metadata": {},
     "output_type": "display_data"
    },
    {
     "name": "stdout",
     "output_type": "stream",
     "text": [
      "warning: there was one feature warning; re-run with -feature for details\n",
      "fileDownloader: (urlOfFileToDownload: String, fileName: String)Any\n"
     ]
    }
   ],
   "source": [
    "def fileDownloader(urlOfFileToDownload: String, fileName: String) = {\n",
    "    val url = new URL(urlOfFileToDownload)\n",
    "    val connection = url.openConnection().asInstanceOf[HttpURLConnection]\n",
    "    connection.setConnectTimeout(5000)\n",
    "    connection.setReadTimeout(5000)\n",
    "    connection.connect()\n",
    "\n",
    "    if (connection.getResponseCode >= 400)\n",
    "        println(\"error\")\n",
    "    else\n",
    "        url #> new File(fileName) !!\n",
    "}"
   ]
  },
  {
   "cell_type": "code",
   "execution_count": 3,
   "metadata": {},
   "outputs": [
    {
     "data": {
      "application/vnd.jupyter.widget-view+json": {
       "model_id": "b61b030a0bc64cb582528be01f627b37",
       "version_major": 2,
       "version_minor": 0
      },
      "text/plain": [
       "VBox()"
      ]
     },
     "metadata": {},
     "output_type": "display_data"
    },
    {
     "data": {
      "application/vnd.jupyter.widget-view+json": {
       "model_id": "",
       "version_major": 2,
       "version_minor": 0
      },
      "text/plain": [
       "FloatProgress(value=0.0, bar_style='info', description='Progress:', layout=Layout(height='25px', width='50%'),…"
      ]
     },
     "metadata": {},
     "output_type": "display_data"
    },
    {
     "name": "stdout",
     "output_type": "stream",
     "text": [
      "StokeFileS3: (URL: String)AnyVal\n"
     ]
    }
   ],
   "source": [
    "def StokeFileS3(URL: String) = {\n",
    "    val fileName = URL.split(\"/\").last\n",
    "    val dir = \"/mnt/tmp/\"\n",
    "    val localFileName = dir + fileName\n",
    "    try {\n",
    "            fileDownloader(URL,  localFileName)\n",
    "            @transient val s3Client: AmazonS3 = AmazonS3ClientBuilder.defaultClient()\n",
    "            val localFile = new File(localFileName)\n",
    "            s3Client.putObject(\"testfuret/Master_file \", fileName, localFile)   \n",
    "            localFile.delete()\n",
    "        \n",
    "    } catch {\n",
    "        case e: java.io.FileNotFoundException => \n",
    "        case e: com.amazonaws.SdkClientException => \n",
    "\n",
    "    }    \n",
    "    \n",
    "    \n",
    "}\n",
    "\n"
   ]
  },
  {
   "cell_type": "markdown",
   "metadata": {},
   "source": [
    "# Decompressage de fichier"
   ]
  },
  {
   "cell_type": "markdown",
   "metadata": {},
   "source": [
    "### Pour Master "
   ]
  },
  {
   "cell_type": "code",
   "execution_count": 4,
   "metadata": {},
   "outputs": [
    {
     "data": {
      "application/vnd.jupyter.widget-view+json": {
       "model_id": "7f6b806d8b66449ea19f292fe5c70fdc",
       "version_major": 2,
       "version_minor": 0
      },
      "text/plain": [
       "VBox()"
      ]
     },
     "metadata": {},
     "output_type": "display_data"
    },
    {
     "data": {
      "application/vnd.jupyter.widget-view+json": {
       "model_id": "",
       "version_major": 2,
       "version_minor": 0
      },
      "text/plain": [
       "FloatProgress(value=0.0, bar_style='info', description='Progress:', layout=Layout(height='25px', width='50%'),…"
      ]
     },
     "metadata": {},
     "output_type": "display_data"
    },
    {
     "name": "stdout",
     "output_type": "stream",
     "text": [
      "list_csv: org.apache.spark.sql.DataFrame = [size: string, hash: string ... 1 more field]\n",
      "list_2020_tot: org.apache.spark.sql.Dataset[org.apache.spark.sql.Row] = [size: string, hash: string ... 1 more field]\n",
      "+-------+--------------------------------+--------------------------------------------------------------------+\n",
      "|size   |hash                            |url                                                                 |\n",
      "+-------+--------------------------------+--------------------------------------------------------------------+\n",
      "|162032 |f7a7e782ee56c9eee521b232e1f8a52e|http://data.gdeltproject.org/gdeltv2/20200101000000.export.CSV.zip  |\n",
      "|131781 |b68d3a524f3238bdd48ea4fa10976ae8|http://data.gdeltproject.org/gdeltv2/20200101000000.mentions.CSV.zip|\n",
      "|5288568|cfa2331d641aca029fea28bebb462ed4|http://data.gdeltproject.org/gdeltv2/20200101000000.gkg.csv.zip     |\n",
      "|142044 |dea3910f2cebdb760c2b7078d56eaed4|http://data.gdeltproject.org/gdeltv2/20200101001500.export.CSV.zip  |\n",
      "|137798 |304b5e7f2b40e43aedf13daf97b65276|http://data.gdeltproject.org/gdeltv2/20200101001500.mentions.CSV.zip|\n",
      "|5437792|75aa9ac51f0be01e66efdfbb9585c387|http://data.gdeltproject.org/gdeltv2/20200101001500.gkg.csv.zip     |\n",
      "|164195 |b5192a9feffb91b229c6330a9d962ded|http://data.gdeltproject.org/gdeltv2/20200101003000.export.CSV.zip  |\n",
      "|187091 |fea84df20fb59b6b50df9562eea9819e|http://data.gdeltproject.org/gdeltv2/20200101003000.mentions.CSV.zip|\n",
      "|6602370|5fd933e1ee4c1868a3cf2e83db36aa4b|http://data.gdeltproject.org/gdeltv2/20200101003000.gkg.csv.zip     |\n",
      "|129729 |b3fa65db5c1a0e67d8cf8a02d35feb78|http://data.gdeltproject.org/gdeltv2/20200101004500.export.CSV.zip  |\n",
      "+-------+--------------------------------+--------------------------------------------------------------------+\n",
      "only showing top 10 rows\n",
      "\n"
     ]
    }
   ],
   "source": [
    "// English Data\n",
    "val list_csv = spark.read.format(\"csv\").option(\"delimiter\", \" \").\n",
    "    csv(\"s3://testfuret/masterfilelist.txt\").\n",
    "    withColumnRenamed(\"_c0\",\"size\").\n",
    "    withColumnRenamed(\"_c1\",\"hash\").\n",
    "    withColumnRenamed(\"_c2\",\"url\")\n",
    "\n",
    "val list_2020_tot = list_csv.where(col(\"url\").like(\"%/2020%\")) \n",
    "//val list_2020_export_tot = list_2020_tot.where(col(\"url\").like(\"%mention%\")) \n",
    "list_2020_tot.show(10,false)"
   ]
  },
  {
   "cell_type": "code",
   "execution_count": 5,
   "metadata": {},
   "outputs": [
    {
     "data": {
      "application/vnd.jupyter.widget-view+json": {
       "model_id": "062b4933ca18479c8b1b62e11e7b8984",
       "version_major": 2,
       "version_minor": 0
      },
      "text/plain": [
       "VBox()"
      ]
     },
     "metadata": {},
     "output_type": "display_data"
    },
    {
     "data": {
      "application/vnd.jupyter.widget-view+json": {
       "model_id": "",
       "version_major": 2,
       "version_minor": 0
      },
      "text/plain": [
       "FloatProgress(value=0.0, bar_style='info', description='Progress:', layout=Layout(height='25px', width='50%'),…"
      ]
     },
     "metadata": {},
     "output_type": "display_data"
    },
    {
     "name": "stdout",
     "output_type": "stream",
     "text": [
      "gkgRDD: org.apache.spark.rdd.RDD[String] = MapPartitionsRDD[15] at flatMap at <console>:56\n",
      "gkgDF: org.apache.spark.sql.DataFrame = [value: array<string>]\n",
      "dfGKG: org.apache.spark.sql.DataFrame = [GKGRECORDID: string, V2DATE: string ... 6 more fields]\n",
      "+-----------------+--------------+--------------------+--------------------+--------------------+--------------------+--------------------+--------------------+\n",
      "|      GKGRECORDID|        V2DATE|  V2SOURCECOMMONNAME|V2DOCUMENTIDENTIFIER|            V1THEMES|         V1LOCATIONS|           V1PERSONS|              V1TONE|\n",
      "+-----------------+--------------+--------------------+--------------------+--------------------+--------------------+--------------------+--------------------+\n",
      "| 20200101000000-0|20200101000000|    savingadvice.com|https://wink.savi...|USPEC_POLICY1;EPU...|                    |                    |2.57731958762887,...|\n",
      "| 20200101000000-1|20200101000000|      torontosun.com|https://torontosu...|TAX_FNCACT;TAX_FN...|1#Canada#CA#CA#60...|david lepofsky;do...|-2.10896309314587...|\n",
      "| 20200101000000-2|20200101000000|        suntimes.com|https://chicago.s...|WB_678_DIGITAL_GO...|3#Cook County, Il...|andrew warren;mar...|-3.1496062992126,...|\n",
      "| 20200101000000-3|20200101000000|   qatar-tribune.com|http://qatar-trib...|WB_135_TRANSPORT;...|1#China#CH#CH#35#...|           hong hong|-5.90551181102362...|\n",
      "| 20200101000000-4|20200101000000|       sunlive.co.nz|https://www.sunli...|UNGP_FORESTS_RIVE...|1#New Zealand#NZ#...| tradestaff tauranga|3.34224598930481,...|\n",
      "| 20200101000000-5|20200101000000|        medscape.com|https://www.medsc...|GENERAL_HEALTH;ME...|2#Maryland, Unite...|jessie buckley;pa...|-2.14592274678112...|\n",
      "| 20200101000000-6|20200101000000|    straitstimes.com|https://www.strai...|PROTEST;TAX_FNCAC...|1#Netherlands#NL#...|     virgil van dijk|3.6036036036036,5...|\n",
      "| 20200101000000-7|20200101000000|       sunlive.co.nz|https://www.sunli...|UNGP_FORESTS_RIVE...|1#New Zealand#NZ#...| tradestaff tauranga|3.34224598930481,...|\n",
      "| 20200101000000-8|20200101000000|   texasguardian.com|https://www.texas...|PROTEST;MEDIA_SOC...|1#New Zealand#NZ#...|                    |2.00501253132832,...|\n",
      "| 20200101000000-9|20200101000000|     dailymail.co.uk|https://www.daily...|TAX_WORLDMAMMALS;...|2#New York, Unite...|shamin abas matt ...|-3.73395565927655...|\n",
      "|20200101000000-10|20200101000000|      seibertron.com|https://www.seibe...|ECON_STOCKMARKET;...|                    |    jelze goldrabbit|-0.24330900243309...|\n",
      "|20200101000000-11|20200101000000|ballinaadvocate.c...|https://www.balli...|                    |1#Norway#NO#NO#62...|mark halsey;bobby...|-0.81632653061224...|\n",
      "|20200101000000-12|20200101000000|    timesofmalta.com|https://timesofma...|LEGISLATION;EPU_P...|1#Malta#MT#MT#35....|joseph muscat;rod...|-1.743264659271,1...|\n",
      "|20200101000000-13|20200101000000| stokesentinel.co.uk|https://www.stoke...|CRISISLEX_T11_UPD...|4#Stoke-On-Trent,...|         james green|0,1.3559322033898...|\n",
      "|20200101000000-14|20200101000000|  starnewsonline.com|https://www.starn...|WB_698_TRADE;EPU_...|4#Beijing, Beijin...|        donald trump|-0.80753701211305...|\n",
      "|20200101000000-15|20200101000000|goldcoastbulletin...|https://www.goldc...|SOC_USSECURITYAGE...|1#Australia#AS#AS...|eva gellar michel...|0,1.7524644030668...|\n",
      "|20200101000000-16|20200101000000|    seattletimes.com|https://www.seatt...|BAN;TAX_FNCACT;TA...|3#Salt Lake City,...|lee bingham redgr...|-4.70459518599562...|\n",
      "|20200101000000-17|20200101000000|       sunlive.co.nz|https://www.sunli...|TAX_FNCACT;TAX_FN...|1#New Zealand#NZ#...| tradestaff tauranga|3.89784946236559,...|\n",
      "|20200101000000-18|20200101000000|   blackhillsfox.com|https://www.black...|TAX_FNCACT;TAX_FN...|3#Dallas, Texas, ...|keith thomas kinn...|-6.99588477366255...|\n",
      "|20200101000000-19|20200101000000|       740thefan.com|https://740thefan...|                    |2#Tennessee, Unit...|dee haslam;derric...|3.85185185185185,...|\n",
      "+-----------------+--------------+--------------------+--------------------+--------------------+--------------------+--------------------+--------------------+\n",
      "only showing top 20 rows\n",
      "\n"
     ]
    }
   ],
   "source": [
    "val gkgRDD = sc.binaryFiles(\"s3://testfuret/Master_file /*gkg*\",100).    \n",
    "   flatMap {  \n",
    "       \n",
    "       // decompresser les fichiers\n",
    "       case (name: String, content: PortableDataStream) =>\n",
    "\n",
    "          val zis = new ZipInputStream(content.open)\n",
    "          Stream.continually(zis.getNextEntry).\n",
    "                takeWhile(_ != null).\n",
    "                flatMap { _ =>\n",
    "                    val br = new BufferedReader(new InputStreamReader(zis))\n",
    "                    Stream.continually(br.readLine()).takeWhile(_ != null)\n",
    "                }\n",
    "\n",
    "    }\n",
    "\n",
    "val gkgDF = gkgRDD.map(x => x.split(\"\\t\")).toDF()//.map(row => row.mkString(\";\")).map(x => x.split(\";\")).toDF()\n",
    "\n",
    "\n",
    "\n",
    "val dfGKG = gkgDF.withColumn(\"_tmp\", $\"value\").select(\n",
    "    $\"_tmp\".getItem(0).as(\"GKGRECORDID\"),\n",
    "    $\"_tmp\".getItem(1).as(\"V2DATE\"),\n",
    "    //$\"_tmp\".getItem(2).as(\"V2SOURCECOLLECTIONIDENTIFIER\"),\n",
    "    $\"_tmp\".getItem(3).as(\"V2SOURCECOMMONNAME\"),\n",
    "    $\"_tmp\".getItem(4).as(\"V2DOCUMENTIDENTIFIER\"),\n",
    "    //$\"_tmp\".getItem(5).as(\"V1COUNTS\"),\n",
    "    //$\"_tmp\".getItem(6).as(\"V2.1COUNTS\"),\n",
    "    $\"_tmp\".getItem(7).as(\"V1THEMES\"),\n",
    "    //$\"_tmp\".getItem(8).as(\"V2ENHANCEDTHEMES\"),\n",
    "    $\"_tmp\".getItem(9).as(\"V1LOCATIONS\"),\n",
    "    //$\"_tmp\".getItem(10).as(\"V2ENHANCEDLOCATIONS\"),\n",
    "    $\"_tmp\".getItem(11).as(\"V1PERSONS\"),\n",
    "    //$\"_tmp\".getItem(12).as(\"V2ENHANCEDPERSONS\"),\n",
    "    //$\"_tmp\".getItem(13).as(\"V1ORGANIZATIONS\"),\n",
    "    //$\"_tmp\".getItem(14).as(\"V2ENHANCEDORGANIZATIONS\"),\n",
    "    $\"_tmp\".getItem(15).as(\"V1TONE\")\n",
    "    //$\"_tmp\".getItem(16).as(\"V2.1ENHANCEDDATES\"),\n",
    "    //$\"_tmp\".getItem(17).as(\"V2GCAM\"),\n",
    "    //$\"_tmp\".getItem(18).as(\"V21SHARINGIMAGE\"),\n",
    "    //$\"_tmp\".getItem(19).as(\"V21RELATEDIMAGES\"),\n",
    "    //$\"_tmp\".getItem(20).as(\"V21SOCIALIMAGEEMBEDS\"),\n",
    "    //$\"_tmp\".getItem(21).as(\"V21SOCIALVIDEOEMBEDS\"),\n",
    "    //$\"_tmp\".getItem(22).as(\"V21QUOTATIONS\"),\n",
    "    //$\"_tmp\".getItem(23).as(\"V21ALLNAMES\"),\n",
    "    //$\"_tmp\".getItem(24).as(\"V21AMOUNTS\"),\n",
    "    //$\"_tmp\".getItem(25).as(\"V21TRANSLATIONINFO\"),\n",
    "    //$\"_tmp\".getItem(26).as(\"V2EXTRASXML\")\n",
    "    )\n",
    "dfGKG.show()\n"
   ]
  },
  {
   "cell_type": "code",
   "execution_count": 6,
   "metadata": {},
   "outputs": [
    {
     "data": {
      "application/vnd.jupyter.widget-view+json": {
       "model_id": "2ac21e216f164b64aaf9f20f0b9961f5",
       "version_major": 2,
       "version_minor": 0
      },
      "text/plain": [
       "VBox()"
      ]
     },
     "metadata": {},
     "output_type": "display_data"
    },
    {
     "data": {
      "application/vnd.jupyter.widget-view+json": {
       "model_id": "",
       "version_major": 2,
       "version_minor": 0
      },
      "text/plain": [
       "FloatProgress(value=0.0, bar_style='info', description='Progress:', layout=Layout(height='25px', width='50%'),…"
      ]
     },
     "metadata": {},
     "output_type": "display_data"
    },
    {
     "name": "stdout",
     "output_type": "stream",
     "text": [
      "mentionRDD: org.apache.spark.rdd.RDD[String] = MapPartitionsRDD[22] at flatMap at <console>:56\n",
      "mentionDF: org.apache.spark.sql.DataFrame = [value: array<string>]\n",
      "dfMention: org.apache.spark.sql.DataFrame = [globaleventID: string, MentionSourceName: string ... 2 more fields]\n",
      "+-------------+--------------------+--------------------+-------------------------+\n",
      "|globaleventID|   MentionSourceName|   MentionIdentifier|MentionDocTranslationInfo|\n",
      "+-------------+--------------------+--------------------+-------------------------+\n",
      "|    813459872|          whas11.com|https://www.whas1...|                     null|\n",
      "|    896047517|          whas11.com|https://www.whas1...|                     null|\n",
      "|    813505048|          whas11.com|https://www.whas1...|                     null|\n",
      "|    896047518|         recorder.ca|https://www.recor...|                     null|\n",
      "|    896047519|          smh.com.au|https://www.smh.c...|                     null|\n",
      "|    896047520|     dailymail.co.uk|https://www.daily...|                     null|\n",
      "|    896047521|      indiatimes.com|https://timesofin...|                     null|\n",
      "|    896047522|      indiatimes.com|https://timesofin...|                     null|\n",
      "|    896047523|         recorder.ca|https://www.recor...|                     null|\n",
      "|    896047524|         recorder.ca|https://www.recor...|                     null|\n",
      "|    896047525|          smh.com.au|https://www.smh.c...|                     null|\n",
      "|    896047526|          smh.com.au|https://www.smh.c...|                     null|\n",
      "|    896047527|     dailymail.co.uk|https://www.daily...|                     null|\n",
      "|    813491134|     theartsdesk.com|https://www.thear...|                     null|\n",
      "|    896047528|     theartsdesk.com|https://www.thear...|                     null|\n",
      "|    813447660|goldcoastbulletin...|https://www.goldc...|                     null|\n",
      "|    813447660|goldcoastbulletin...|https://www.goldc...|                     null|\n",
      "|    896047529|     theartsdesk.com|https://www.thear...|                     null|\n",
      "|    896047530|     theartsdesk.com|https://www.thear...|                     null|\n",
      "|    813424248|goldcoastbulletin...|https://www.goldc...|                     null|\n",
      "+-------------+--------------------+--------------------+-------------------------+\n",
      "only showing top 20 rows\n",
      "\n"
     ]
    }
   ],
   "source": [
    "val mentionRDD = sc.binaryFiles(\"s3://testfuret/Master_file /*mentions*\",100).    \n",
    "   flatMap {  \n",
    "       \n",
    "       // decompresser les fichiers\n",
    "       case (name: String, content: PortableDataStream) =>\n",
    "\n",
    "          val zis = new ZipInputStream(content.open)\n",
    "          Stream.continually(zis.getNextEntry).\n",
    "                takeWhile(_ != null).\n",
    "                flatMap { _ =>\n",
    "                    val br = new BufferedReader(new InputStreamReader(zis))\n",
    "                    Stream.continually(br.readLine()).takeWhile(_ != null)\n",
    "                }\n",
    "\n",
    "    }\n",
    "\n",
    "val mentionDF = mentionRDD.map(x => x.split(\"\\t\")).map(row => row.mkString(\";\")).map(x => x.split(\";\")).toDF()\n",
    "\n",
    "\n",
    "\n",
    "val dfMention = mentionDF.withColumn(\"_tmp\", $\"value\").select(\n",
    "     $\"_tmp\".getItem(0).as(\"globaleventID\"),\n",
    "     //$\"_tmp\".getItem(1).as(\"EventTimeDate\"),\n",
    "     //$\"_tmp\".getItem(2).as(\"MentionTimeDate\"),\n",
    "     //$\"_tmp\".getItem(3).as(\"MentionType\"),\n",
    "     $\"_tmp\".getItem(4).as(\"MentionSourceName\"),\n",
    "     $\"_tmp\".getItem(5).as(\"MentionIdentifier\"),\n",
    "     //$\"_tmp\".getItem(6).as(\"SentenceID\"),\n",
    "     //$\"_tmp\".getItem(7).as(\"Actor1CharOffset\"),\n",
    "     //$\"_tmp\".getItem(8).as(\"Actor2CharOffset\"),\n",
    "     //$\"_tmp\".getItem(9).as(\"ActionCharOffset\"),\n",
    "     //$\"_tmp\".getItem(10).as(\"InRawText\"),\n",
    "     //$\"_tmp\".getItem(11).as(\"Confidence\"),\n",
    "     //$\"_tmp\".getItem(12).as(\"MentionDocLen\"),\n",
    "     //$\"_tmp\".getItem(13).as(\"MentionDocTone\"),\n",
    "     $\"_tmp\".getItem(14).as(\"MentionDocTranslationInfo\")\n",
    "     //$\"_tmp\".getItem(15).as(\"Extras\")\n",
    "     )\n",
    "\n",
    "dfMention.show()"
   ]
  },
  {
   "cell_type": "code",
   "execution_count": 7,
   "metadata": {},
   "outputs": [
    {
     "data": {
      "application/vnd.jupyter.widget-view+json": {
       "model_id": "a3147da84316468ca596f374392500d9",
       "version_major": 2,
       "version_minor": 0
      },
      "text/plain": [
       "VBox()"
      ]
     },
     "metadata": {},
     "output_type": "display_data"
    },
    {
     "data": {
      "application/vnd.jupyter.widget-view+json": {
       "model_id": "",
       "version_major": 2,
       "version_minor": 0
      },
      "text/plain": [
       "FloatProgress(value=0.0, bar_style='info', description='Progress:', layout=Layout(height='25px', width='50%'),…"
      ]
     },
     "metadata": {},
     "output_type": "display_data"
    },
    {
     "name": "stdout",
     "output_type": "stream",
     "text": [
      "EventRDD: org.apache.spark.rdd.RDD[String] = MapPartitionsRDD[31] at flatMap at <console>:56\n",
      "eventDF: org.apache.spark.sql.DataFrame = [value: array<string>]\n",
      "dfEvent: org.apache.spark.sql.DataFrame = [globaleventID: string, day: string ... 7 more fields]\n",
      "+-------------+--------+------+----+-----------+----------+-----------+------------------+--------------------+\n",
      "|globaleventID|     day| month|year|NumMentions|NumSources|NumArticles|           AvgTone|  ActionGeo_Fullname|\n",
      "+-------------+--------+------+----+-----------+----------+-----------+------------------+--------------------+\n",
      "|    896047517|20190101|201901|2019|          2|         1|          2|                 0|Kentucky, United ...|\n",
      "|    896047518|20190101|201901|2019|          1|         1|          1|  -0.7164790174002|Thousand Islands,...|\n",
      "|    896047519|20190101|201901|2019|          5|         1|          5| -0.95238095238095|Sydney, New South...|\n",
      "|    896047520|20190101|201901|2019|          8|         1|          8| -3.75985445724681|Aylesbury, Buckin...|\n",
      "|    896047521|20190101|201901|2019|          2|         1|          2| -6.20067643742954|            Ethiopia|\n",
      "|    896047522|20190101|201901|2019|          2|         1|          2| -6.20067643742954|               India|\n",
      "|    896047523|20190101|201901|2019|          2|         1|          2|  -0.7164790174002|Thousand Islands,...|\n",
      "|    896047524|20190101|201901|2019|          2|         1|          2|  -0.7164790174002|Thousand Islands,...|\n",
      "|    896047525|20190101|201901|2019|          4|         1|          4| -0.95238095238095|London, London, C...|\n",
      "|    896047526|20190101|201901|2019|          1|         1|          1| -0.95238095238095|Sydney, New South...|\n",
      "|    896047527|20190101|201901|2019|          8|         1|          8| -3.75985445724681|Ben Gurion, HaMer...|\n",
      "|    896047528|20190101|201901|2019|          3|         1|          3|-0.993377483443711|              Russia|\n",
      "|    896047529|20190101|201901|2019|          4|         1|          4|-0.993377483443711|              Russia|\n",
      "|    896047530|20190101|201901|2019|          4|         1|          4|-0.993377483443711|              Russia|\n",
      "|    896047531|20190101|201901|2019|          2|         1|          2|                 0|Kentucky, United ...|\n",
      "|    896047532|20190101|201901|2019|         14|         1|         14|  0.75187969924812|New York, United ...|\n",
      "|    896047533|20191202|201912|2019|         10|         1|         10|                 0|Syracuse, New Yor...|\n",
      "|    896047534|20191202|201912|2019|          2|         1|          2| -6.59050966608084|Baghdad, Baghdad,...|\n",
      "|    896047535|20191202|201912|2019|          6|         1|          6| -6.59050966608084|Najaf, Az¯arbayja...|\n",
      "|    896047536|20191225|201912|2019|          4|         2|          4| -1.28270340801026|Falcon Heights, M...|\n",
      "+-------------+--------+------+----+-----------+----------+-----------+------------------+--------------------+\n",
      "only showing top 20 rows\n",
      "\n"
     ]
    }
   ],
   "source": [
    "val EventRDD = sc.binaryFiles(\"s3://testfuret/Master_file /*export*\",100).    \n",
    "   flatMap {  \n",
    "       \n",
    "       // decompresser les fichiers\n",
    "       case (name: String, content: PortableDataStream) =>\n",
    "\n",
    "          val zis = new ZipInputStream(content.open)\n",
    "          Stream.continually(zis.getNextEntry).\n",
    "             takeWhile(_ != null).\n",
    "             flatMap { _ =>\n",
    "                val br = new BufferedReader(new InputStreamReader(zis))\n",
    "                Stream.continually(br.readLine()).takeWhile(_ != null)\n",
    "                }\n",
    "         \n",
    "        \n",
    "           \n",
    "\n",
    "    }\n",
    "\n",
    "\n",
    "\n",
    "\n",
    "\n",
    "val eventDF = EventRDD.map(x => x.split(\"\\t\")).map(row => row.mkString(\";\")).map(x => x.split(\";\")).toDF()\n",
    "\n",
    "\n",
    "val dfEvent = eventDF.withColumn(\"_tmp\", $\"value\").select(\n",
    "     $\"_tmp\".getItem(0).as(\"globaleventID\"),\n",
    "     $\"_tmp\".getItem(1).as(\"day\"),\n",
    "     $\"_tmp\".getItem(2).as(\"month\"),\n",
    "     $\"_tmp\".getItem(3).as(\"year\"),\n",
    "     //$\"_tmp\".getItem(4).as(\"fractiondate\"),\n",
    "     //$\"_tmp\".getItem(5).as(\"Actor1code\"),\n",
    "     //$\"_tmp\".getItem(6).as(\"Actor1Name\"),\n",
    "     //$\"_tmp\".getItem(7).as(\"Actor1ContryCode\"),\n",
    "     //$\"_tmp\".getItem(8).as(\"actor1KnownGroupeCode\"),\n",
    "     //$\"_tmp\".getItem(9).as(\"Actor1EthnicCode\"),\n",
    "     //$\"_tmp\".getItem(10).as(\"Actor1Religion1Code\"),\n",
    "     //$\"_tmp\".getItem(11).as(\"Actor1Religion2code\"),\n",
    "     //$\"_tmp\".getItem(12).as(\"Actor1type1Code\"),\n",
    "     //$\"_tmp\".getItem(13).as(\"Actor1Type2code\"),\n",
    "     //$\"_tmp\".getItem(14).as(\"Actor1Type3code\"),\n",
    "     //$\"_tmp\".getItem(15).as(\"Actor2code\"),\n",
    "     //$\"_tmp\".getItem(16).as(\"Actor2Name\"),\n",
    "     //$\"_tmp\".getItem(17).as(\"Actor2ContryCode\"),\n",
    "     //$\"_tmp\".getItem(18).as(\"Actor2KnownGroupeCode\"),\n",
    "     //$\"_tmp\".getItem(19).as(\"Actor2EthnicCode\"),\n",
    "     //$\"_tmp\".getItem(20).as(\"Actor2Religion1Code\"),\n",
    "     //$\"_tmp\".getItem(21).as(\"Actor2Religion2code\"),\n",
    "     //$\"_tmp\".getItem(22).as(\"Actor2type1Code\"),\n",
    "     //$\"_tmp\".getItem(23).as(\"Actor2Type2code\"),\n",
    "     //$\"_tmp\".getItem(24).as(\"Actor2Type3code\"),\n",
    "     //$\"_tmp\".getItem(25).as(\"IsRootEvent\"),\n",
    "     //$\"_tmp\".getItem(26).as(\"EventCode\"),\n",
    "     //$\"_tmp\".getItem(27).as(\"EventBaseCode\"),\n",
    "     //$\"_tmp\".getItem(28).as(\"EventRootCode\"),\n",
    "     //$\"_tmp\".getItem(29).as(\"QuadClass\"),\n",
    "     //$\"_tmp\".getItem(30).as(\"GoldsteinScale\"),\n",
    "     $\"_tmp\".getItem(31).as(\"NumMentions\"),\n",
    "     $\"_tmp\".getItem(32).as(\"NumSources\"),\n",
    "     $\"_tmp\".getItem(33).as(\"NumArticles\"),\n",
    "     $\"_tmp\".getItem(34).as(\"AvgTone\"),\n",
    "     //$\"_tmp\".getItem(35).as(\"Actor1Geo_Type\"),\n",
    "     //$\"_tmp\".getItem(36).as(\"Actor1Geo_Fullname\"),\n",
    "     //$\"_tmp\".getItem(37).as(\"Actor1Geo_CountryCode\"),\n",
    "     //$\"_tmp\".getItem(38).as(\"Actor1Geo_ADM1Code\"),\n",
    "     //$\"_tmp\".getItem(39).as(\"Actor1Geo_ADM2Code\"),\n",
    "     //$\"_tmp\".getItem(40).as(\"Actor1Geo_Lat\"),\n",
    "     //$\"_tmp\".getItem(41).as(\"Actor1Geo_Long\"),\n",
    "     //$\"_tmp\".getItem(42).as(\"Actor1Geo_FeatureID\"),\n",
    "     //$\"_tmp\".getItem(43).as(\"Actor2Geo_Type\"),\n",
    "     //$\"_tmp\".getItem(44).as(\"Actor2Geo_Fullname\"),\n",
    "     //$\"_tmp\".getItem(45).as(\"Actor2Geo_CountryCode\"),\n",
    "     //$\"_tmp\".getItem(46).as(\"Actor2Geo_ADM1Code\"),\n",
    "     //$\"_tmp\".getItem(47).as(\"Actor2Geo_ADM2Code\"),\n",
    "     //$\"_tmp\".getItem(48).as(\"Actor2Geo_Lat\"),\n",
    "     //$\"_tmp\".getItem(49).as(\"Actor2Geo_Long\"),\n",
    "     //$\"_tmp\".getItem(50).as(\"Actor2Geo_FeatureID\"),\n",
    "     //$\"_tmp\".getItem(51).as(\"ActionGeo_Type\"),\n",
    "     $\"_tmp\".getItem(52).as(\"ActionGeo_Fullname\")\n",
    "     //$\"_tmp\".getItem(53).as(\"ActionGeo_CountryCode\"),\n",
    "     //$\"_tmp\".getItem(54).as(\"ActionGeo_ADM1Code\"),\n",
    "     //$\"_tmp\".getItem(55).as(\"ActionGeo_ADM2Code\"),\n",
    "     //$\"_tmp\".getItem(56).as(\"ActionGeo_Lat\"),\n",
    "     //$\"_tmp\".getItem(57).as(\"ActionGeo_Long\"),\n",
    "     //$\"_tmp\".getItem(58).as(\"ActionGeo_FeatureID\"),\n",
    "     //$\"_tmp\".getItem(59).as(\"DATEADDED\")\n",
    "    )\n",
    "\n",
    "\n",
    "dfEvent.show()"
   ]
  },
  {
   "cell_type": "markdown",
   "metadata": {},
   "source": [
    "# Filtre Coronavirus du la datframe GKG"
   ]
  },
  {
   "cell_type": "markdown",
   "metadata": {},
   "source": [
    "### \"V1THEMES In lowercasr "
   ]
  },
  {
   "cell_type": "code",
   "execution_count": 8,
   "metadata": {},
   "outputs": [
    {
     "data": {
      "application/vnd.jupyter.widget-view+json": {
       "model_id": "427472cf60964ad8bad28e7d5b4b5dea",
       "version_major": 2,
       "version_minor": 0
      },
      "text/plain": [
       "VBox()"
      ]
     },
     "metadata": {},
     "output_type": "display_data"
    },
    {
     "data": {
      "application/vnd.jupyter.widget-view+json": {
       "model_id": "",
       "version_major": 2,
       "version_minor": 0
      },
      "text/plain": [
       "FloatProgress(value=0.0, bar_style='info', description='Progress:', layout=Layout(height='25px', width='50%'),…"
      ]
     },
     "metadata": {},
     "output_type": "display_data"
    },
    {
     "name": "stdout",
     "output_type": "stream",
     "text": [
      "GKG2_low: org.apache.spark.sql.DataFrame = [GKGRECORDID: string, V2DATE: string ... 6 more fields]\n",
      "GKG2_low_coro: org.apache.spark.sql.Dataset[org.apache.spark.sql.Row] = [GKGRECORDID: string, V2DATE: string ... 6 more fields]\n"
     ]
    }
   ],
   "source": [
    "// on met toute la colonne V1THEMES en minuscule\n",
    "val GKG2_low = dfGKG.withColumn(\"V1THEMES\",lower($\"V1THEMES\")) \n",
    "\n",
    "val GKG2_low_coro = GKG2_low.filter($\"V1THEMES\".like(\"%coronavirus%\"))"
   ]
  },
  {
   "cell_type": "code",
   "execution_count": 9,
   "metadata": {},
   "outputs": [
    {
     "data": {
      "application/vnd.jupyter.widget-view+json": {
       "model_id": "c0e3901fde77408ab7c87bb1f171eccc",
       "version_major": 2,
       "version_minor": 0
      },
      "text/plain": [
       "VBox()"
      ]
     },
     "metadata": {},
     "output_type": "display_data"
    },
    {
     "data": {
      "application/vnd.jupyter.widget-view+json": {
       "model_id": "",
       "version_major": 2,
       "version_minor": 0
      },
      "text/plain": [
       "FloatProgress(value=0.0, bar_style='info', description='Progress:', layout=Layout(height='25px', width='50%'),…"
      ]
     },
     "metadata": {},
     "output_type": "display_data"
    },
    {
     "name": "stdout",
     "output_type": "stream",
     "text": [
      "+--------------------+\n",
      "|            V1THEMES|\n",
      "+--------------------+\n",
      "|tax_ethnicity;tax...|\n",
      "|general_health;me...|\n",
      "|tax_disease;tax_d...|\n",
      "|general_health;me...|\n",
      "|tourism;tax_fncac...|\n",
      "|soc_quarantine;ta...|\n",
      "|soc_quarantine;ta...|\n",
      "|soc_quarantine;ta...|\n",
      "|soc_quarantine;ta...|\n",
      "|soc_quarantine;ta...|\n",
      "|soc_quarantine;ta...|\n",
      "|soc_quarantine;ta...|\n",
      "|general_health;me...|\n",
      "|soc_quarantine;ta...|\n",
      "|soc_quarantine;ta...|\n",
      "|soc_quarantine;ta...|\n",
      "|soc_quarantine;ta...|\n",
      "|soc_quarantine;ta...|\n",
      "|soc_quarantine;ta...|\n",
      "|soc_quarantine;ta...|\n",
      "+--------------------+\n",
      "only showing top 20 rows\n",
      "\n"
     ]
    }
   ],
   "source": [
    "GKG2_low_coro.select(\"V1THEMES\").show()"
   ]
  },
  {
   "cell_type": "markdown",
   "metadata": {},
   "source": [
    "# Join  dfEvent dfGKG dfMention"
   ]
  },
  {
   "cell_type": "code",
   "execution_count": 10,
   "metadata": {},
   "outputs": [
    {
     "data": {
      "application/vnd.jupyter.widget-view+json": {
       "model_id": "9bd90d1058f742af8bb4a54206f5771d",
       "version_major": 2,
       "version_minor": 0
      },
      "text/plain": [
       "VBox()"
      ]
     },
     "metadata": {},
     "output_type": "display_data"
    },
    {
     "data": {
      "application/vnd.jupyter.widget-view+json": {
       "model_id": "",
       "version_major": 2,
       "version_minor": 0
      },
      "text/plain": [
       "FloatProgress(value=0.0, bar_style='info', description='Progress:', layout=Layout(height='25px', width='50%'),…"
      ]
     },
     "metadata": {},
     "output_type": "display_data"
    },
    {
     "name": "stdout",
     "output_type": "stream",
     "text": [
      "dfGKG_Pand: org.apache.spark.sql.DataFrame = [GKGRECORDID: string, V2DATE: string ... 7 more fields]\n",
      "+-----------------+--------------+--------------------+--------------------+--------------------+--------------------+--------------------+--------------------+----------+\n",
      "|      GKGRECORDID|        V2DATE|  V2SOURCECOMMONNAME|V2DOCUMENTIDENTIFIER|            V1THEMES|         V1LOCATIONS|           V1PERSONS|              V1TONE|CheckCOVID|\n",
      "+-----------------+--------------+--------------------+--------------------+--------------------+--------------------+--------------------+--------------------+----------+\n",
      "| 20200101000000-0|20200101000000|    savingadvice.com|https://wink.savi...|USPEC_POLICY1;EPU...|                    |                    |2.57731958762887,...|     false|\n",
      "| 20200101000000-1|20200101000000|      torontosun.com|https://torontosu...|TAX_FNCACT;TAX_FN...|1#Canada#CA#CA#60...|david lepofsky;do...|-2.10896309314587...|     false|\n",
      "| 20200101000000-2|20200101000000|        suntimes.com|https://chicago.s...|WB_678_DIGITAL_GO...|3#Cook County, Il...|andrew warren;mar...|-3.1496062992126,...|     false|\n",
      "| 20200101000000-3|20200101000000|   qatar-tribune.com|http://qatar-trib...|WB_135_TRANSPORT;...|1#China#CH#CH#35#...|           hong hong|-5.90551181102362...|     false|\n",
      "| 20200101000000-4|20200101000000|       sunlive.co.nz|https://www.sunli...|UNGP_FORESTS_RIVE...|1#New Zealand#NZ#...| tradestaff tauranga|3.34224598930481,...|     false|\n",
      "| 20200101000000-5|20200101000000|        medscape.com|https://www.medsc...|GENERAL_HEALTH;ME...|2#Maryland, Unite...|jessie buckley;pa...|-2.14592274678112...|     false|\n",
      "| 20200101000000-6|20200101000000|    straitstimes.com|https://www.strai...|PROTEST;TAX_FNCAC...|1#Netherlands#NL#...|     virgil van dijk|3.6036036036036,5...|     false|\n",
      "| 20200101000000-7|20200101000000|       sunlive.co.nz|https://www.sunli...|UNGP_FORESTS_RIVE...|1#New Zealand#NZ#...| tradestaff tauranga|3.34224598930481,...|     false|\n",
      "| 20200101000000-8|20200101000000|   texasguardian.com|https://www.texas...|PROTEST;MEDIA_SOC...|1#New Zealand#NZ#...|                    |2.00501253132832,...|     false|\n",
      "| 20200101000000-9|20200101000000|     dailymail.co.uk|https://www.daily...|TAX_WORLDMAMMALS;...|2#New York, Unite...|shamin abas matt ...|-3.73395565927655...|     false|\n",
      "|20200101000000-10|20200101000000|      seibertron.com|https://www.seibe...|ECON_STOCKMARKET;...|                    |    jelze goldrabbit|-0.24330900243309...|     false|\n",
      "|20200101000000-11|20200101000000|ballinaadvocate.c...|https://www.balli...|                    |1#Norway#NO#NO#62...|mark halsey;bobby...|-0.81632653061224...|     false|\n",
      "|20200101000000-12|20200101000000|    timesofmalta.com|https://timesofma...|LEGISLATION;EPU_P...|1#Malta#MT#MT#35....|joseph muscat;rod...|-1.743264659271,1...|     false|\n",
      "|20200101000000-13|20200101000000| stokesentinel.co.uk|https://www.stoke...|CRISISLEX_T11_UPD...|4#Stoke-On-Trent,...|         james green|0,1.3559322033898...|     false|\n",
      "|20200101000000-14|20200101000000|  starnewsonline.com|https://www.starn...|WB_698_TRADE;EPU_...|4#Beijing, Beijin...|        donald trump|-0.80753701211305...|     false|\n",
      "|20200101000000-15|20200101000000|goldcoastbulletin...|https://www.goldc...|SOC_USSECURITYAGE...|1#Australia#AS#AS...|eva gellar michel...|0,1.7524644030668...|     false|\n",
      "|20200101000000-16|20200101000000|    seattletimes.com|https://www.seatt...|BAN;TAX_FNCACT;TA...|3#Salt Lake City,...|lee bingham redgr...|-4.70459518599562...|     false|\n",
      "|20200101000000-17|20200101000000|       sunlive.co.nz|https://www.sunli...|TAX_FNCACT;TAX_FN...|1#New Zealand#NZ#...| tradestaff tauranga|3.89784946236559,...|     false|\n",
      "|20200101000000-18|20200101000000|   blackhillsfox.com|https://www.black...|TAX_FNCACT;TAX_FN...|3#Dallas, Texas, ...|keith thomas kinn...|-6.99588477366255...|     false|\n",
      "|20200101000000-19|20200101000000|       740thefan.com|https://740thefan...|                    |2#Tennessee, Unit...|dee haslam;derric...|3.85185185185185,...|     false|\n",
      "+-----------------+--------------+--------------------+--------------------+--------------------+--------------------+--------------------+--------------------+----------+\n",
      "only showing top 20 rows\n",
      "\n"
     ]
    }
   ],
   "source": [
    "val dfGKG_Pand = dfGKG.\n",
    "        withColumn(\"CheckCOVID\", $\"V1THEMES\".like(\"%PANDEMIC%\"))\n",
    "dfGKG_Pand.show()"
   ]
  },
  {
   "cell_type": "code",
   "execution_count": 11,
   "metadata": {},
   "outputs": [
    {
     "data": {
      "application/vnd.jupyter.widget-view+json": {
       "model_id": "4c1dda3cb7fe4fe5b44f185926edddc6",
       "version_major": 2,
       "version_minor": 0
      },
      "text/plain": [
       "VBox()"
      ]
     },
     "metadata": {},
     "output_type": "display_data"
    },
    {
     "data": {
      "application/vnd.jupyter.widget-view+json": {
       "model_id": "",
       "version_major": 2,
       "version_minor": 0
      },
      "text/plain": [
       "FloatProgress(value=0.0, bar_style='info', description='Progress:', layout=Layout(height='25px', width='50%'),…"
      ]
     },
     "metadata": {},
     "output_type": "display_data"
    },
    {
     "name": "stdout",
     "output_type": "stream",
     "text": [
      "dfGKG_Pandemic: org.apache.spark.sql.Dataset[org.apache.spark.sql.Row] = [GKGRECORDID: string, V2DATE: string ... 7 more fields]\n",
      "+------------------+--------------+--------------------+--------------------+--------------------+--------------------+--------------------+--------------------+----------+\n",
      "|       GKGRECORDID|        V2DATE|  V2SOURCECOMMONNAME|V2DOCUMENTIDENTIFIER|            V1THEMES|         V1LOCATIONS|           V1PERSONS|              V1TONE|CheckCOVID|\n",
      "+------------------+--------------+--------------------+--------------------+--------------------+--------------------+--------------------+--------------------+----------+\n",
      "| 20200101000000-25|20200101000000|           axios.com|https://www.axios...|TAX_FNCACT;TAX_FN...|1#China#CH#CH#35#...|alibaba xianyu;yi...|-5.02283105022831...|      true|\n",
      "| 20200101000000-44|20200101000000|    bendbulletin.com|https://www.bendb...|TAX_FNCACT;TAX_FN...|3#Siskiyou Mounta...|lonnie seiders;ne...|-1.07744107744108...|      true|\n",
      "| 20200101000000-67|20200101000000|         tribdem.com|https://www.tribd...|TAX_FNCACT;TAX_FN...|1#United States#U...|john loiodici;all...|0.446827524575514...|      true|\n",
      "|20200101000000-119|20200101000000|        mymoinfo.com|https://www.mymoi...|MEDIA_SOCIAL;GENE...|3#Washington, Was...|bob menendez;devo...|-3.18471337579618...|      true|\n",
      "|20200101000000-147|20200101000000|      bendsource.com|https://www.bends...|GENERAL_GOVERNMEN...|2#Oregon, United ...|kate brown;mitch ...|-3.80499405469679...|      true|\n",
      "|20200101000000-168|20200101000000|   chinadaily.com.cn|http://global.chi...|TAX_FOODSTAPLES;T...|4#Kunlun, Zhejian...|            li weili|0.269541778975741...|      true|\n",
      "|20200101000000-180|20200101000000|caledonianrecord.com|https://www.caled...|TAX_DISEASE;TAX_D...|2#New Hampshire, ...|        chris pappas|-0.95693779904306...|      true|\n",
      "|20200101000000-215|20200101000000|     madrock1025.com|https://www.madro...|MEDIA_SOCIAL;GENE...|3#Washington, Was...|bob menendez;devo...|-3.18471337579618...|      true|\n",
      "|20200101000000-270|20200101000000|          iheart.com|https://ktrh.ihea...|CRISISLEX_CRISISL...|3#Houston, Texas,...|        david persse|-3.23275862068965...|      true|\n",
      "|20200101000000-363|20200101000000|stourbridgenews.c...|https://www.stour...|WB_678_DIGITAL_GO...|1#Australia#AS#AS...|hong kong hong ko...|0,3.6662452591656...|      true|\n",
      "|20200101000000-369|20200101000000|     dailymail.co.uk|https://www.daily...|TAX_FNCACT;TAX_FN...|1#Germany#GM#GM#5...|winston churchill...|-3.14606741573034...|      true|\n",
      "|20200101000000-399|20200101000000|brainerddispatch.com|https://www.brain...|TAX_DISEASE;TAX_D...|2#Minnesota, Unit...|joni scheftel;chr...|-1.60550458715596...|      true|\n",
      "|20200101000000-465|20200101000000|thetelegraphandar...|https://www.thete...|CRISISLEX_C07_SAF...|1#Australia#AS#AS...|hong kong hong ko...|0,3.8978494623655...|      true|\n",
      "|20200101000000-476|20200101000000|     theadvocate.com|https://www.thead...|SECURITY_SERVICES...|1#Netherlands#NL#...|bobby webre;quint...|0.396825396825397...|      true|\n",
      "|20200101000000-533|20200101000000|          agweek.com|https://www.agwee...|GENERAL_HEALTH;ME...|2#Minnesota, Unit...|joni scheftel;chr...|-0.97799511002444...|      true|\n",
      "|20200101000000-628|20200101000000| columbiatribune.com|https://www.colum...|TAX_FNCACT;TAX_FN...|5#Auckland, Auckl...|masashi ogami;emp...|-2.6344676180022,...|      true|\n",
      "|20200101000000-637|20200101000000|   dailytimes.com.pk|https://dailytime...|EPU_POLICY;EPU_PO...|1#Malaysia#MY#MY#...|junaid hafeez;jus...|-2.15311004784689...|      true|\n",
      "|20200101000000-664|20200101000000|             umn.edu|http://www.cidrap...|TAX_ETHNICITY;TAX...|1#Taiwan#TW#TW#24...|            leo poon|-4.02298850574713...|      true|\n",
      "|20200101000000-690|20200101000000|       itnonline.com|https://www.itnon...|TAX_ETHNICITY;TAX...|1#Germany#GM#GM#5...|                    |-2.10280373831776...|      true|\n",
      "|20200101000000-715|20200101000000|      nbcchicago.com|https://www.nbcch...|TAX_FNCACT;TAX_FN...|2#Illinois, Unite...|        bruce rauner|-7.74193548387097...|      true|\n",
      "+------------------+--------------+--------------------+--------------------+--------------------+--------------------+--------------------+--------------------+----------+\n",
      "only showing top 20 rows\n",
      "\n"
     ]
    }
   ],
   "source": [
    "val dfGKG_Pandemic = dfGKG_Pand.\n",
    "    filter((dfGKG_Pand(\"CheckCOVID\") === \"true\"))\n",
    "dfGKG_Pandemic.show()"
   ]
  },
  {
   "cell_type": "code",
   "execution_count": 12,
   "metadata": {},
   "outputs": [
    {
     "data": {
      "application/vnd.jupyter.widget-view+json": {
       "model_id": "eecb5abc7ac4474e88ff8a2bd267d970",
       "version_major": 2,
       "version_minor": 0
      },
      "text/plain": [
       "VBox()"
      ]
     },
     "metadata": {},
     "output_type": "display_data"
    },
    {
     "data": {
      "application/vnd.jupyter.widget-view+json": {
       "model_id": "",
       "version_major": 2,
       "version_minor": 0
      },
      "text/plain": [
       "FloatProgress(value=0.0, bar_style='info', description='Progress:', layout=Layout(height='25px', width='50%'),…"
      ]
     },
     "metadata": {},
     "output_type": "display_data"
    },
    {
     "name": "stdout",
     "output_type": "stream",
     "text": [
      "dfGKG_CO: org.apache.spark.sql.DataFrame = [GKGRECORDID: string, V2DATE: string ... 7 more fields]\n",
      "+-----------------+--------------+--------------------+--------------------+--------------------+--------------------+--------------------+--------------------+----------+\n",
      "|      GKGRECORDID|        V2DATE|  V2SOURCECOMMONNAME|V2DOCUMENTIDENTIFIER|            V1THEMES|         V1LOCATIONS|           V1PERSONS|              V1TONE|CheckCOVID|\n",
      "+-----------------+--------------+--------------------+--------------------+--------------------+--------------------+--------------------+--------------------+----------+\n",
      "| 20200101000000-0|20200101000000|    savingadvice.com|https://wink.savi...|USPEC_POLICY1;EPU...|                    |                    |2.57731958762887,...|     false|\n",
      "| 20200101000000-1|20200101000000|      torontosun.com|https://torontosu...|TAX_FNCACT;TAX_FN...|1#Canada#CA#CA#60...|david lepofsky;do...|-2.10896309314587...|     false|\n",
      "| 20200101000000-2|20200101000000|        suntimes.com|https://chicago.s...|WB_678_DIGITAL_GO...|3#Cook County, Il...|andrew warren;mar...|-3.1496062992126,...|     false|\n",
      "| 20200101000000-3|20200101000000|   qatar-tribune.com|http://qatar-trib...|WB_135_TRANSPORT;...|1#China#CH#CH#35#...|           hong hong|-5.90551181102362...|     false|\n",
      "| 20200101000000-4|20200101000000|       sunlive.co.nz|https://www.sunli...|UNGP_FORESTS_RIVE...|1#New Zealand#NZ#...| tradestaff tauranga|3.34224598930481,...|     false|\n",
      "| 20200101000000-5|20200101000000|        medscape.com|https://www.medsc...|GENERAL_HEALTH;ME...|2#Maryland, Unite...|jessie buckley;pa...|-2.14592274678112...|     false|\n",
      "| 20200101000000-6|20200101000000|    straitstimes.com|https://www.strai...|PROTEST;TAX_FNCAC...|1#Netherlands#NL#...|     virgil van dijk|3.6036036036036,5...|     false|\n",
      "| 20200101000000-7|20200101000000|       sunlive.co.nz|https://www.sunli...|UNGP_FORESTS_RIVE...|1#New Zealand#NZ#...| tradestaff tauranga|3.34224598930481,...|     false|\n",
      "| 20200101000000-8|20200101000000|   texasguardian.com|https://www.texas...|PROTEST;MEDIA_SOC...|1#New Zealand#NZ#...|                    |2.00501253132832,...|     false|\n",
      "| 20200101000000-9|20200101000000|     dailymail.co.uk|https://www.daily...|TAX_WORLDMAMMALS;...|2#New York, Unite...|shamin abas matt ...|-3.73395565927655...|     false|\n",
      "|20200101000000-10|20200101000000|      seibertron.com|https://www.seibe...|ECON_STOCKMARKET;...|                    |    jelze goldrabbit|-0.24330900243309...|     false|\n",
      "|20200101000000-11|20200101000000|ballinaadvocate.c...|https://www.balli...|                    |1#Norway#NO#NO#62...|mark halsey;bobby...|-0.81632653061224...|     false|\n",
      "|20200101000000-12|20200101000000|    timesofmalta.com|https://timesofma...|LEGISLATION;EPU_P...|1#Malta#MT#MT#35....|joseph muscat;rod...|-1.743264659271,1...|     false|\n",
      "|20200101000000-13|20200101000000| stokesentinel.co.uk|https://www.stoke...|CRISISLEX_T11_UPD...|4#Stoke-On-Trent,...|         james green|0,1.3559322033898...|     false|\n",
      "|20200101000000-14|20200101000000|  starnewsonline.com|https://www.starn...|WB_698_TRADE;EPU_...|4#Beijing, Beijin...|        donald trump|-0.80753701211305...|     false|\n",
      "|20200101000000-15|20200101000000|goldcoastbulletin...|https://www.goldc...|SOC_USSECURITYAGE...|1#Australia#AS#AS...|eva gellar michel...|0,1.7524644030668...|     false|\n",
      "|20200101000000-16|20200101000000|    seattletimes.com|https://www.seatt...|BAN;TAX_FNCACT;TA...|3#Salt Lake City,...|lee bingham redgr...|-4.70459518599562...|     false|\n",
      "|20200101000000-17|20200101000000|       sunlive.co.nz|https://www.sunli...|TAX_FNCACT;TAX_FN...|1#New Zealand#NZ#...| tradestaff tauranga|3.89784946236559,...|     false|\n",
      "|20200101000000-18|20200101000000|   blackhillsfox.com|https://www.black...|TAX_FNCACT;TAX_FN...|3#Dallas, Texas, ...|keith thomas kinn...|-6.99588477366255...|     false|\n",
      "|20200101000000-19|20200101000000|       740thefan.com|https://740thefan...|                    |2#Tennessee, Unit...|dee haslam;derric...|3.85185185185185,...|     false|\n",
      "+-----------------+--------------+--------------------+--------------------+--------------------+--------------------+--------------------+--------------------+----------+\n",
      "only showing top 20 rows\n",
      "\n"
     ]
    }
   ],
   "source": [
    "val dfGKG_CO = dfGKG.\n",
    "    withColumn(\"CheckCOVID\", $\"V1THEMES\".like(\"%CORONAVIRUS%\"))\n",
    "dfGKG_CO.show()"
   ]
  },
  {
   "cell_type": "code",
   "execution_count": 13,
   "metadata": {},
   "outputs": [
    {
     "data": {
      "application/vnd.jupyter.widget-view+json": {
       "model_id": "9e9d8ffac11e4cc1b430dd14268e9b72",
       "version_major": 2,
       "version_minor": 0
      },
      "text/plain": [
       "VBox()"
      ]
     },
     "metadata": {},
     "output_type": "display_data"
    },
    {
     "data": {
      "application/vnd.jupyter.widget-view+json": {
       "model_id": "",
       "version_major": 2,
       "version_minor": 0
      },
      "text/plain": [
       "FloatProgress(value=0.0, bar_style='info', description='Progress:', layout=Layout(height='25px', width='50%'),…"
      ]
     },
     "metadata": {},
     "output_type": "display_data"
    },
    {
     "name": "stdout",
     "output_type": "stream",
     "text": [
      "dfGKG_Corona: org.apache.spark.sql.Dataset[org.apache.spark.sql.Row] = [GKGRECORDID: string, V2DATE: string ... 7 more fields]\n",
      "+-------------------+--------------+--------------------+--------------------+--------------------+--------------------+--------------------+--------------------+----------+\n",
      "|        GKGRECORDID|        V2DATE|  V2SOURCECOMMONNAME|V2DOCUMENTIDENTIFIER|            V1THEMES|         V1LOCATIONS|           V1PERSONS|              V1TONE|CheckCOVID|\n",
      "+-------------------+--------------+--------------------+--------------------+--------------------+--------------------+--------------------+--------------------+----------+\n",
      "| 20200101000000-664|20200101000000|             umn.edu|http://www.cidrap...|TAX_ETHNICITY;TAX...|1#Taiwan#TW#TW#24...|            leo poon|-4.02298850574713...|      true|\n",
      "| 20200101021500-680|20200101021500|           3seer.net|https://www.3seer...|GENERAL_HEALTH;ME...|1#Saudi Arabia#SA...|                    |-1.72413793103448...|      true|\n",
      "|20200101200000-1148|20200101200000|  thestandard.com.hk|http://www.thesta...|TAX_DISEASE;TAX_D...|4#Beijing, Beijin...|yuen kwok-yung;ja...|-4.78170478170478...|      true|\n",
      "| 20200102044500-687|20200102044500|         asiaone.com|https://beta.asia...|GENERAL_HEALTH;ME...|4#Chengdu, Sichua...|paige snider;yuen...|-3.84068278805121...|      true|\n",
      "| 20200102084500-178|20200102084500|thehimalayantimes...|https://thehimala...|TOURISM;TAX_FNCAC...|4#Kathmandu, Bagm...|baburam marasini;...|-3.99159663865546...|      true|\n",
      "| 20200102090000-277|20200102090000|themorningbulleti...|https://www.themo...|SOC_QUARANTINE;TA...|4#Guangzhou, Guan...|zhang wenkang;pai...|-5.95744680851064...|      true|\n",
      "| 20200102090000-317|20200102090000|tweeddailynews.co...|https://www.tweed...|SOC_QUARANTINE;TA...|4#Guangzhou, Guan...|zhang wenkang;pai...|-5.95744680851064...|      true|\n",
      "| 20200102090000-404|20200102090000|dailyexaminer.com.au|https://www.daily...|SOC_QUARANTINE;TA...|4#Guangzhou, Guan...|zhang wenkang;pai...|-5.95744680851064...|      true|\n",
      "| 20200102091500-848|20200102091500|gladstoneobserver...|https://www.glads...|SOC_QUARANTINE;TA...|4#Guangzhou, Guan...|zhang wenkang;pai...|-5.95744680851064...|      true|\n",
      "|20200102093000-1087|20200102093000| thechronicle.com.au|https://www.thech...|SOC_QUARANTINE;TA...|4#Guangzhou, Guan...|zhang wenkang;pai...|-5.95744680851064...|      true|\n",
      "| 20200102094500-926|20200102094500|warwickdailynews....|https://www.warwi...|SOC_QUARANTINE;TA...|4#Guangzhou, Guan...|zhang wenkang;pai...|-5.95744680851064...|      true|\n",
      "| 20200102100000-815|20200102100000|centraltelegraph....|https://www.centr...|SOC_QUARANTINE;TA...|4#Guangzhou, Guan...|zhang wenkang;pai...|-5.95744680851064...|      true|\n",
      "| 20200102103000-301|20200102103000|         news.com.au|https://www.news....|GENERAL_HEALTH;ME...|4#Guangzhou, Guan...|zhang wenkang;pai...|-5.18934081346424...|      true|\n",
      "|20200102103000-1081|20200102103000|sunshinecoastdail...|https://www.sunsh...|SOC_QUARANTINE;TA...|4#Guangzhou, Guan...|zhang wenkang;pai...|-5.95744680851064...|      true|\n",
      "|20200102103000-1406|20200102103000|     echonews.com.au|https://www.echon...|SOC_QUARANTINE;TA...|4#Guangzhou, Guan...|zhang wenkang;pai...|-5.95744680851064...|      true|\n",
      "|  20200102104500-71|20200102104500|   gattonstar.com.au|https://www.gatto...|SOC_QUARANTINE;TA...|4#Guangzhou, Guan...|zhang wenkang;pai...|-5.95744680851064...|      true|\n",
      "| 20200102104500-710|20200102104500|    noosanews.com.au|https://www.noosa...|SOC_QUARANTINE;TA...|4#Guangzhou, Guan...|zhang wenkang;pai...|-5.95744680851064...|      true|\n",
      "|20200102104500-1106|20200102104500| dailymercury.com.au|https://www.daily...|SOC_QUARANTINE;TA...|4#Guangzhou, Guan...|zhang wenkang;pai...|-5.95744680851064...|      true|\n",
      "| 20200102111500-536|20200102111500|whitsundaytimes.c...|https://www.whits...|SOC_QUARANTINE;TA...|4#Guangzhou, Guan...|zhang wenkang;pai...|-5.95744680851064...|      true|\n",
      "| 20200102111500-742|20200102111500|coffscoastadvocat...|https://www.coffs...|SOC_QUARANTINE;TA...|4#Guangzhou, Guan...|zhang wenkang;pai...|-5.95744680851064...|      true|\n",
      "+-------------------+--------------+--------------------+--------------------+--------------------+--------------------+--------------------+--------------------+----------+\n",
      "only showing top 20 rows\n",
      "\n"
     ]
    }
   ],
   "source": [
    "val dfGKG_Corona = dfGKG_CO.\n",
    "    filter((dfGKG_CO(\"CheckCOVID\") === \"true\"))\n",
    "dfGKG_Corona.show()"
   ]
  },
  {
   "cell_type": "code",
   "execution_count": 14,
   "metadata": {},
   "outputs": [
    {
     "data": {
      "application/vnd.jupyter.widget-view+json": {
       "model_id": "fc6c6df78f144241b18ac4fbcb94237c",
       "version_major": 2,
       "version_minor": 0
      },
      "text/plain": [
       "VBox()"
      ]
     },
     "metadata": {},
     "output_type": "display_data"
    },
    {
     "data": {
      "application/vnd.jupyter.widget-view+json": {
       "model_id": "",
       "version_major": 2,
       "version_minor": 0
      },
      "text/plain": [
       "FloatProgress(value=0.0, bar_style='info', description='Progress:', layout=Layout(height='25px', width='50%'),…"
      ]
     },
     "metadata": {},
     "output_type": "display_data"
    },
    {
     "name": "stdout",
     "output_type": "stream",
     "text": [
      "dfGKG_Covid: org.apache.spark.sql.Dataset[org.apache.spark.sql.Row] = [GKGRECORDID: string, V2DATE: string ... 7 more fields]\n"
     ]
    }
   ],
   "source": [
    "val dfGKG_Covid = dfGKG_Pandemic.union(dfGKG_Corona).distinct()\n",
    "//dfGKG_Covid.show()\n",
    "//val dfGKG_Covid=dfGKG_Pandemic.union( broadcast(dfGKG_Corona)).distinct()\n",
    "//val brod_fGKG_Covid=broadcast(dfGKG_Covid)"
   ]
  },
  {
   "cell_type": "code",
   "execution_count": 25,
   "metadata": {},
   "outputs": [
    {
     "data": {
      "application/vnd.jupyter.widget-view+json": {
       "model_id": "fb0807c2dde347249e4c40071c6c9c4e",
       "version_major": 2,
       "version_minor": 0
      },
      "text/plain": [
       "VBox()"
      ]
     },
     "metadata": {},
     "output_type": "display_data"
    },
    {
     "data": {
      "application/vnd.jupyter.widget-view+json": {
       "model_id": "7effb6c708c6408aa283d93e261c9797",
       "version_major": 2,
       "version_minor": 0
      },
      "text/plain": [
       "FloatProgress(value=0.0, bar_style='info', description='Progress:', layout=Layout(height='25px', width='50%'),…"
      ]
     },
     "metadata": {},
     "output_type": "display_data"
    },
    {
     "ename": "KeyboardInterrupt",
     "evalue": "",
     "output_type": "error",
     "traceback": [
      "\u001b[0;31m---------------------------------------------------------------------------\u001b[0m",
      "\u001b[0;31mKeyboardInterrupt\u001b[0m                         Traceback (most recent call last)",
      "\u001b[0;32m<ipython-input-25-bb33f4438090>\u001b[0m in \u001b[0;36m<module>\u001b[0;34m\u001b[0m\n\u001b[0;32m----> 1\u001b[0;31m \u001b[0mget_ipython\u001b[0m\u001b[0;34m(\u001b[0m\u001b[0;34m)\u001b[0m\u001b[0;34m.\u001b[0m\u001b[0mrun_cell_magic\u001b[0m\u001b[0;34m(\u001b[0m\u001b[0;34m'spark'\u001b[0m\u001b[0;34m,\u001b[0m \u001b[0;34m''\u001b[0m\u001b[0;34m,\u001b[0m \u001b[0;34m'//dfGKG_Covid.write.mode(SaveMode.Overwrite).format(\"parquet\").saveAsTable(\"s3://testfuret/result/dfGKG_Corona.parquet\")\\n//dfGKG_Covid.write.mode.save(\"s3://testfuret/result/dfGKG_Corona.parquet\", SaveMode.Append )\\ndfGKG_Covid.write.format(\"parquet\").mode(\"append\").save(\"dfGKG_Covid.parquet\")\\n'\u001b[0m\u001b[0;34m)\u001b[0m\u001b[0;34m\u001b[0m\u001b[0;34m\u001b[0m\u001b[0m\n\u001b[0m",
      "\u001b[0;32m/mnt/notebook-env/lib/python3.7/site-packages/IPython/core/interactiveshell.py\u001b[0m in \u001b[0;36mrun_cell_magic\u001b[0;34m(self, magic_name, line, cell)\u001b[0m\n\u001b[1;32m   2379\u001b[0m             \u001b[0;32mwith\u001b[0m \u001b[0mself\u001b[0m\u001b[0;34m.\u001b[0m\u001b[0mbuiltin_trap\u001b[0m\u001b[0;34m:\u001b[0m\u001b[0;34m\u001b[0m\u001b[0;34m\u001b[0m\u001b[0m\n\u001b[1;32m   2380\u001b[0m                 \u001b[0margs\u001b[0m \u001b[0;34m=\u001b[0m \u001b[0;34m(\u001b[0m\u001b[0mmagic_arg_s\u001b[0m\u001b[0;34m,\u001b[0m \u001b[0mcell\u001b[0m\u001b[0;34m)\u001b[0m\u001b[0;34m\u001b[0m\u001b[0;34m\u001b[0m\u001b[0m\n\u001b[0;32m-> 2381\u001b[0;31m                 \u001b[0mresult\u001b[0m \u001b[0;34m=\u001b[0m \u001b[0mfn\u001b[0m\u001b[0;34m(\u001b[0m\u001b[0;34m*\u001b[0m\u001b[0margs\u001b[0m\u001b[0;34m,\u001b[0m \u001b[0;34m**\u001b[0m\u001b[0mkwargs\u001b[0m\u001b[0;34m)\u001b[0m\u001b[0;34m\u001b[0m\u001b[0;34m\u001b[0m\u001b[0m\n\u001b[0m\u001b[1;32m   2382\u001b[0m             \u001b[0;32mreturn\u001b[0m \u001b[0mresult\u001b[0m\u001b[0;34m\u001b[0m\u001b[0;34m\u001b[0m\u001b[0m\n\u001b[1;32m   2383\u001b[0m \u001b[0;34m\u001b[0m\u001b[0m\n",
      "\u001b[0;32m<decorator-gen-116>\u001b[0m in \u001b[0;36mspark\u001b[0;34m(self, *args, **kwargs)\u001b[0m\n",
      "\u001b[0;32m/mnt/notebook-env/lib/python3.7/site-packages/IPython/core/magic.py\u001b[0m in \u001b[0;36m<lambda>\u001b[0;34m(f, *a, **k)\u001b[0m\n\u001b[1;32m    185\u001b[0m     \u001b[0;31m# but it's overkill for just that one bit of state.\u001b[0m\u001b[0;34m\u001b[0m\u001b[0;34m\u001b[0m\u001b[0;34m\u001b[0m\u001b[0m\n\u001b[1;32m    186\u001b[0m     \u001b[0;32mdef\u001b[0m \u001b[0mmagic_deco\u001b[0m\u001b[0;34m(\u001b[0m\u001b[0marg\u001b[0m\u001b[0;34m)\u001b[0m\u001b[0;34m:\u001b[0m\u001b[0;34m\u001b[0m\u001b[0;34m\u001b[0m\u001b[0m\n\u001b[0;32m--> 187\u001b[0;31m         \u001b[0mcall\u001b[0m \u001b[0;34m=\u001b[0m \u001b[0;32mlambda\u001b[0m \u001b[0mf\u001b[0m\u001b[0;34m,\u001b[0m \u001b[0;34m*\u001b[0m\u001b[0ma\u001b[0m\u001b[0;34m,\u001b[0m \u001b[0;34m**\u001b[0m\u001b[0mk\u001b[0m\u001b[0;34m:\u001b[0m \u001b[0mf\u001b[0m\u001b[0;34m(\u001b[0m\u001b[0;34m*\u001b[0m\u001b[0ma\u001b[0m\u001b[0;34m,\u001b[0m \u001b[0;34m**\u001b[0m\u001b[0mk\u001b[0m\u001b[0;34m)\u001b[0m\u001b[0;34m\u001b[0m\u001b[0;34m\u001b[0m\u001b[0m\n\u001b[0m\u001b[1;32m    188\u001b[0m \u001b[0;34m\u001b[0m\u001b[0m\n\u001b[1;32m    189\u001b[0m         \u001b[0;32mif\u001b[0m \u001b[0mcallable\u001b[0m\u001b[0;34m(\u001b[0m\u001b[0marg\u001b[0m\u001b[0;34m)\u001b[0m\u001b[0;34m:\u001b[0m\u001b[0;34m\u001b[0m\u001b[0;34m\u001b[0m\u001b[0m\n",
      "\u001b[0;32m/mnt/notebook-env/lib/python3.7/site-packages/sparkmagic/livyclientlib/exceptions.py\u001b[0m in \u001b[0;36mwrapped\u001b[0;34m(self, *args, **kwargs)\u001b[0m\n\u001b[1;32m    105\u001b[0m     \u001b[0;32mdef\u001b[0m \u001b[0mwrapped\u001b[0m\u001b[0;34m(\u001b[0m\u001b[0mself\u001b[0m\u001b[0;34m,\u001b[0m \u001b[0;34m*\u001b[0m\u001b[0margs\u001b[0m\u001b[0;34m,\u001b[0m \u001b[0;34m**\u001b[0m\u001b[0mkwargs\u001b[0m\u001b[0;34m)\u001b[0m\u001b[0;34m:\u001b[0m\u001b[0;34m\u001b[0m\u001b[0;34m\u001b[0m\u001b[0m\n\u001b[1;32m    106\u001b[0m         \u001b[0;32mtry\u001b[0m\u001b[0;34m:\u001b[0m\u001b[0;34m\u001b[0m\u001b[0;34m\u001b[0m\u001b[0m\n\u001b[0;32m--> 107\u001b[0;31m             \u001b[0mout\u001b[0m \u001b[0;34m=\u001b[0m \u001b[0mf\u001b[0m\u001b[0;34m(\u001b[0m\u001b[0mself\u001b[0m\u001b[0;34m,\u001b[0m \u001b[0;34m*\u001b[0m\u001b[0margs\u001b[0m\u001b[0;34m,\u001b[0m \u001b[0;34m**\u001b[0m\u001b[0mkwargs\u001b[0m\u001b[0;34m)\u001b[0m\u001b[0;34m\u001b[0m\u001b[0;34m\u001b[0m\u001b[0m\n\u001b[0m\u001b[1;32m    108\u001b[0m         \u001b[0;32mexcept\u001b[0m \u001b[0mException\u001b[0m \u001b[0;32mas\u001b[0m \u001b[0merr\u001b[0m\u001b[0;34m:\u001b[0m\u001b[0;34m\u001b[0m\u001b[0;34m\u001b[0m\u001b[0m\n\u001b[1;32m    109\u001b[0m             \u001b[0;32mif\u001b[0m \u001b[0mconf\u001b[0m\u001b[0;34m.\u001b[0m\u001b[0mall_errors_are_fatal\u001b[0m\u001b[0;34m(\u001b[0m\u001b[0;34m)\u001b[0m\u001b[0;34m:\u001b[0m\u001b[0;34m\u001b[0m\u001b[0;34m\u001b[0m\u001b[0m\n",
      "\u001b[0;32m/mnt/notebook-env/lib/python3.7/site-packages/sparkmagic/livyclientlib/exceptions.py\u001b[0m in \u001b[0;36mwrapped\u001b[0;34m(self, *args, **kwargs)\u001b[0m\n\u001b[1;32m     72\u001b[0m     \u001b[0;32mdef\u001b[0m \u001b[0mwrapped\u001b[0m\u001b[0;34m(\u001b[0m\u001b[0mself\u001b[0m\u001b[0;34m,\u001b[0m \u001b[0;34m*\u001b[0m\u001b[0margs\u001b[0m\u001b[0;34m,\u001b[0m \u001b[0;34m**\u001b[0m\u001b[0mkwargs\u001b[0m\u001b[0;34m)\u001b[0m\u001b[0;34m:\u001b[0m\u001b[0;34m\u001b[0m\u001b[0;34m\u001b[0m\u001b[0m\n\u001b[1;32m     73\u001b[0m         \u001b[0;32mtry\u001b[0m\u001b[0;34m:\u001b[0m\u001b[0;34m\u001b[0m\u001b[0;34m\u001b[0m\u001b[0m\n\u001b[0;32m---> 74\u001b[0;31m             \u001b[0mout\u001b[0m \u001b[0;34m=\u001b[0m \u001b[0mf\u001b[0m\u001b[0;34m(\u001b[0m\u001b[0mself\u001b[0m\u001b[0;34m,\u001b[0m \u001b[0;34m*\u001b[0m\u001b[0margs\u001b[0m\u001b[0;34m,\u001b[0m \u001b[0;34m**\u001b[0m\u001b[0mkwargs\u001b[0m\u001b[0;34m)\u001b[0m\u001b[0;34m\u001b[0m\u001b[0;34m\u001b[0m\u001b[0m\n\u001b[0m\u001b[1;32m     75\u001b[0m         \u001b[0;32mexcept\u001b[0m \u001b[0mexceptions_to_handle\u001b[0m \u001b[0;32mas\u001b[0m \u001b[0merr\u001b[0m\u001b[0;34m:\u001b[0m\u001b[0;34m\u001b[0m\u001b[0;34m\u001b[0m\u001b[0m\n\u001b[1;32m     76\u001b[0m             \u001b[0;32mif\u001b[0m \u001b[0mconf\u001b[0m\u001b[0;34m.\u001b[0m\u001b[0mall_errors_are_fatal\u001b[0m\u001b[0;34m(\u001b[0m\u001b[0;34m)\u001b[0m\u001b[0;34m:\u001b[0m\u001b[0;34m\u001b[0m\u001b[0;34m\u001b[0m\u001b[0m\n",
      "\u001b[0;32m/mnt/notebook-env/lib/python3.7/site-packages/sparkmagic/kernels/kernelmagics.py\u001b[0m in \u001b[0;36mspark\u001b[0;34m(self, line, cell, local_ns)\u001b[0m\n\u001b[1;32m    276\u001b[0m             \u001b[0mcoerce\u001b[0m \u001b[0;34m=\u001b[0m \u001b[0mget_coerce_value\u001b[0m\u001b[0;34m(\u001b[0m\u001b[0margs\u001b[0m\u001b[0;34m.\u001b[0m\u001b[0mcoerce\u001b[0m\u001b[0;34m)\u001b[0m\u001b[0;34m\u001b[0m\u001b[0;34m\u001b[0m\u001b[0m\n\u001b[1;32m    277\u001b[0m \u001b[0;34m\u001b[0m\u001b[0m\n\u001b[0;32m--> 278\u001b[0;31m             \u001b[0mself\u001b[0m\u001b[0;34m.\u001b[0m\u001b[0mexecute_spark\u001b[0m\u001b[0;34m(\u001b[0m\u001b[0mcell\u001b[0m\u001b[0;34m,\u001b[0m \u001b[0margs\u001b[0m\u001b[0;34m.\u001b[0m\u001b[0moutput\u001b[0m\u001b[0;34m,\u001b[0m \u001b[0margs\u001b[0m\u001b[0;34m.\u001b[0m\u001b[0msamplemethod\u001b[0m\u001b[0;34m,\u001b[0m \u001b[0margs\u001b[0m\u001b[0;34m.\u001b[0m\u001b[0mmaxrows\u001b[0m\u001b[0;34m,\u001b[0m \u001b[0margs\u001b[0m\u001b[0;34m.\u001b[0m\u001b[0msamplefraction\u001b[0m\u001b[0;34m,\u001b[0m \u001b[0;32mNone\u001b[0m\u001b[0;34m,\u001b[0m \u001b[0mcoerce\u001b[0m\u001b[0;34m)\u001b[0m\u001b[0;34m\u001b[0m\u001b[0;34m\u001b[0m\u001b[0m\n\u001b[0m\u001b[1;32m    279\u001b[0m         \u001b[0;32melse\u001b[0m\u001b[0;34m:\u001b[0m\u001b[0;34m\u001b[0m\u001b[0;34m\u001b[0m\u001b[0m\n\u001b[1;32m    280\u001b[0m             \u001b[0;32mreturn\u001b[0m\u001b[0;34m\u001b[0m\u001b[0;34m\u001b[0m\u001b[0m\n",
      "\u001b[0;32m/mnt/notebook-env/lib/python3.7/site-packages/sparkmagic/magics/sparkmagicsbase.py\u001b[0m in \u001b[0;36mexecute_spark\u001b[0;34m(self, cell, output_var, samplemethod, maxrows, samplefraction, session_name, coerce)\u001b[0m\n\u001b[1;32m     80\u001b[0m \u001b[0;34m\u001b[0m\u001b[0m\n\u001b[1;32m     81\u001b[0m     \u001b[0;32mdef\u001b[0m \u001b[0mexecute_spark\u001b[0m\u001b[0;34m(\u001b[0m\u001b[0mself\u001b[0m\u001b[0;34m,\u001b[0m \u001b[0mcell\u001b[0m\u001b[0;34m,\u001b[0m \u001b[0moutput_var\u001b[0m\u001b[0;34m,\u001b[0m \u001b[0msamplemethod\u001b[0m\u001b[0;34m,\u001b[0m \u001b[0mmaxrows\u001b[0m\u001b[0;34m,\u001b[0m \u001b[0msamplefraction\u001b[0m\u001b[0;34m,\u001b[0m \u001b[0msession_name\u001b[0m\u001b[0;34m,\u001b[0m \u001b[0mcoerce\u001b[0m\u001b[0;34m)\u001b[0m\u001b[0;34m:\u001b[0m\u001b[0;34m\u001b[0m\u001b[0;34m\u001b[0m\u001b[0m\n\u001b[0;32m---> 82\u001b[0;31m         \u001b[0;34m(\u001b[0m\u001b[0msuccess\u001b[0m\u001b[0;34m,\u001b[0m \u001b[0mout\u001b[0m\u001b[0;34m,\u001b[0m \u001b[0mmimetype\u001b[0m\u001b[0;34m)\u001b[0m \u001b[0;34m=\u001b[0m \u001b[0mself\u001b[0m\u001b[0;34m.\u001b[0m\u001b[0mspark_controller\u001b[0m\u001b[0;34m.\u001b[0m\u001b[0mrun_command\u001b[0m\u001b[0;34m(\u001b[0m\u001b[0mCommand\u001b[0m\u001b[0;34m(\u001b[0m\u001b[0mcell\u001b[0m\u001b[0;34m)\u001b[0m\u001b[0;34m,\u001b[0m \u001b[0msession_name\u001b[0m\u001b[0;34m)\u001b[0m\u001b[0;34m\u001b[0m\u001b[0;34m\u001b[0m\u001b[0m\n\u001b[0m\u001b[1;32m     83\u001b[0m         \u001b[0;32mif\u001b[0m \u001b[0;32mnot\u001b[0m \u001b[0msuccess\u001b[0m\u001b[0;34m:\u001b[0m\u001b[0;34m\u001b[0m\u001b[0;34m\u001b[0m\u001b[0m\n\u001b[1;32m     84\u001b[0m             \u001b[0;32mif\u001b[0m \u001b[0mconf\u001b[0m\u001b[0;34m.\u001b[0m\u001b[0mshutdown_session_on_spark_statement_errors\u001b[0m\u001b[0;34m(\u001b[0m\u001b[0;34m)\u001b[0m\u001b[0;34m:\u001b[0m\u001b[0;34m\u001b[0m\u001b[0;34m\u001b[0m\u001b[0m\n",
      "\u001b[0;32m/mnt/notebook-env/lib/python3.7/site-packages/sparkmagic/livyclientlib/sparkcontroller.py\u001b[0m in \u001b[0;36mrun_command\u001b[0;34m(self, command, client_name)\u001b[0m\n\u001b[1;32m     40\u001b[0m     \u001b[0;32mdef\u001b[0m \u001b[0mrun_command\u001b[0m\u001b[0;34m(\u001b[0m\u001b[0mself\u001b[0m\u001b[0;34m,\u001b[0m \u001b[0mcommand\u001b[0m\u001b[0;34m,\u001b[0m \u001b[0mclient_name\u001b[0m\u001b[0;34m=\u001b[0m\u001b[0;32mNone\u001b[0m\u001b[0;34m)\u001b[0m\u001b[0;34m:\u001b[0m\u001b[0;34m\u001b[0m\u001b[0;34m\u001b[0m\u001b[0m\n\u001b[1;32m     41\u001b[0m         \u001b[0msession_to_use\u001b[0m \u001b[0;34m=\u001b[0m \u001b[0mself\u001b[0m\u001b[0;34m.\u001b[0m\u001b[0mget_session_by_name_or_default\u001b[0m\u001b[0;34m(\u001b[0m\u001b[0mclient_name\u001b[0m\u001b[0;34m)\u001b[0m\u001b[0;34m\u001b[0m\u001b[0;34m\u001b[0m\u001b[0m\n\u001b[0;32m---> 42\u001b[0;31m         \u001b[0;32mreturn\u001b[0m \u001b[0mcommand\u001b[0m\u001b[0;34m.\u001b[0m\u001b[0mexecute\u001b[0m\u001b[0;34m(\u001b[0m\u001b[0msession_to_use\u001b[0m\u001b[0;34m)\u001b[0m\u001b[0;34m\u001b[0m\u001b[0;34m\u001b[0m\u001b[0m\n\u001b[0m\u001b[1;32m     43\u001b[0m \u001b[0;34m\u001b[0m\u001b[0m\n\u001b[1;32m     44\u001b[0m     \u001b[0;32mdef\u001b[0m \u001b[0mrun_sqlquery\u001b[0m\u001b[0;34m(\u001b[0m\u001b[0mself\u001b[0m\u001b[0;34m,\u001b[0m \u001b[0msqlquery\u001b[0m\u001b[0;34m,\u001b[0m \u001b[0mclient_name\u001b[0m\u001b[0;34m=\u001b[0m\u001b[0;32mNone\u001b[0m\u001b[0;34m)\u001b[0m\u001b[0;34m:\u001b[0m\u001b[0;34m\u001b[0m\u001b[0;34m\u001b[0m\u001b[0m\n",
      "\u001b[0;32m/mnt/notebook-env/lib/python3.7/site-packages/sparkmagic/livyclientlib/command.py\u001b[0m in \u001b[0;36mexecute\u001b[0;34m(self, session)\u001b[0m\n\u001b[1;32m     42\u001b[0m             \u001b[0mresponse\u001b[0m \u001b[0;34m=\u001b[0m \u001b[0msession\u001b[0m\u001b[0;34m.\u001b[0m\u001b[0mhttp_client\u001b[0m\u001b[0;34m.\u001b[0m\u001b[0mpost_statement\u001b[0m\u001b[0;34m(\u001b[0m\u001b[0msession\u001b[0m\u001b[0;34m.\u001b[0m\u001b[0mid\u001b[0m\u001b[0;34m,\u001b[0m \u001b[0mdata\u001b[0m\u001b[0;34m)\u001b[0m\u001b[0;34m\u001b[0m\u001b[0;34m\u001b[0m\u001b[0m\n\u001b[1;32m     43\u001b[0m             \u001b[0mstatement_id\u001b[0m \u001b[0;34m=\u001b[0m \u001b[0mresponse\u001b[0m\u001b[0;34m[\u001b[0m\u001b[0;34mu'id'\u001b[0m\u001b[0;34m]\u001b[0m\u001b[0;34m\u001b[0m\u001b[0;34m\u001b[0m\u001b[0m\n\u001b[0;32m---> 44\u001b[0;31m             \u001b[0moutput\u001b[0m \u001b[0;34m=\u001b[0m \u001b[0mself\u001b[0m\u001b[0;34m.\u001b[0m\u001b[0m_get_statement_output\u001b[0m\u001b[0;34m(\u001b[0m\u001b[0msession\u001b[0m\u001b[0;34m,\u001b[0m \u001b[0mstatement_id\u001b[0m\u001b[0;34m)\u001b[0m\u001b[0;34m\u001b[0m\u001b[0;34m\u001b[0m\u001b[0m\n\u001b[0m\u001b[1;32m     45\u001b[0m         \u001b[0;32mexcept\u001b[0m \u001b[0mException\u001b[0m \u001b[0;32mas\u001b[0m \u001b[0me\u001b[0m\u001b[0;34m:\u001b[0m\u001b[0;34m\u001b[0m\u001b[0;34m\u001b[0m\u001b[0m\n\u001b[1;32m     46\u001b[0m             self._spark_events.emit_statement_execution_end_event(session.guid, session.kind, session.id,\n",
      "\u001b[0;32m/mnt/notebook-env/lib/python3.7/site-packages/sparkmagic/livyclientlib/command.py\u001b[0m in \u001b[0;36m_get_statement_output\u001b[0;34m(self, session, statement_id)\u001b[0m\n\u001b[1;32m     74\u001b[0m             \u001b[0;32mif\u001b[0m \u001b[0mstatus\u001b[0m \u001b[0;32mnot\u001b[0m \u001b[0;32min\u001b[0m \u001b[0mFINAL_STATEMENT_STATUS\u001b[0m\u001b[0;34m:\u001b[0m\u001b[0;34m\u001b[0m\u001b[0;34m\u001b[0m\u001b[0m\n\u001b[1;32m     75\u001b[0m                 \u001b[0mprogress\u001b[0m\u001b[0;34m.\u001b[0m\u001b[0mvalue\u001b[0m \u001b[0;34m=\u001b[0m \u001b[0mstatement\u001b[0m\u001b[0;34m.\u001b[0m\u001b[0mget\u001b[0m\u001b[0;34m(\u001b[0m\u001b[0;34m'progress'\u001b[0m\u001b[0;34m,\u001b[0m \u001b[0;36m0.0\u001b[0m\u001b[0;34m)\u001b[0m\u001b[0;34m\u001b[0m\u001b[0;34m\u001b[0m\u001b[0m\n\u001b[0;32m---> 76\u001b[0;31m                 \u001b[0msession\u001b[0m\u001b[0;34m.\u001b[0m\u001b[0msleep\u001b[0m\u001b[0;34m(\u001b[0m\u001b[0mretries\u001b[0m\u001b[0;34m)\u001b[0m\u001b[0;34m\u001b[0m\u001b[0;34m\u001b[0m\u001b[0m\n\u001b[0m\u001b[1;32m     77\u001b[0m                 \u001b[0mretries\u001b[0m \u001b[0;34m+=\u001b[0m \u001b[0;36m1\u001b[0m\u001b[0;34m\u001b[0m\u001b[0;34m\u001b[0m\u001b[0m\n\u001b[1;32m     78\u001b[0m             \u001b[0;32melse\u001b[0m\u001b[0;34m:\u001b[0m\u001b[0;34m\u001b[0m\u001b[0;34m\u001b[0m\u001b[0m\n",
      "\u001b[0;32m/mnt/notebook-env/lib/python3.7/site-packages/sparkmagic/livyclientlib/livysession.py\u001b[0m in \u001b[0;36msleep\u001b[0;34m(self, retries)\u001b[0m\n\u001b[1;32m    283\u001b[0m \u001b[0;34m\u001b[0m\u001b[0m\n\u001b[1;32m    284\u001b[0m     \u001b[0;32mdef\u001b[0m \u001b[0msleep\u001b[0m\u001b[0;34m(\u001b[0m\u001b[0mself\u001b[0m\u001b[0;34m,\u001b[0m \u001b[0mretries\u001b[0m\u001b[0;34m)\u001b[0m\u001b[0;34m:\u001b[0m\u001b[0;34m\u001b[0m\u001b[0;34m\u001b[0m\u001b[0m\n\u001b[0;32m--> 285\u001b[0;31m         \u001b[0msleep\u001b[0m\u001b[0;34m(\u001b[0m\u001b[0mself\u001b[0m\u001b[0;34m.\u001b[0m\u001b[0m_policy\u001b[0m\u001b[0;34m.\u001b[0m\u001b[0mseconds_to_sleep\u001b[0m\u001b[0;34m(\u001b[0m\u001b[0mretries\u001b[0m\u001b[0;34m)\u001b[0m\u001b[0;34m)\u001b[0m\u001b[0;34m\u001b[0m\u001b[0;34m\u001b[0m\u001b[0m\n\u001b[0m\u001b[1;32m    286\u001b[0m \u001b[0;34m\u001b[0m\u001b[0m\n\u001b[1;32m    287\u001b[0m     \u001b[0;31m# This function will refresh the status and get the logs in a single call.\u001b[0m\u001b[0;34m\u001b[0m\u001b[0;34m\u001b[0m\u001b[0;34m\u001b[0m\u001b[0m\n",
      "\u001b[0;31mKeyboardInterrupt\u001b[0m: "
     ]
    }
   ],
   "source": [
    "//dfGKG_Covid.write.mode(SaveMode.Overwrite).format(\"parquet\").saveAsTable(\"s3://testfuret/result/dfGKG_Corona.parquet\")\n",
    "//dfGKG_Covid.write.mode.save(\"s3://testfuret/result/dfGKG_Corona.parquet\", SaveMode.Append )\n",
    "dfGKG_Covid.write.format(\"parquet\").mode(\"append\").save(\"dfGKG_Covid.parquet\")"
   ]
  },
  {
   "cell_type": "code",
   "execution_count": 12,
   "metadata": {},
   "outputs": [
    {
     "data": {
      "application/vnd.jupyter.widget-view+json": {
       "model_id": "5df6c64883e44007ba6f836bebce2620",
       "version_major": 2,
       "version_minor": 0
      },
      "text/plain": [
       "VBox()"
      ]
     },
     "metadata": {},
     "output_type": "display_data"
    },
    {
     "data": {
      "application/vnd.jupyter.widget-view+json": {
       "model_id": "",
       "version_major": 2,
       "version_minor": 0
      },
      "text/plain": [
       "FloatProgress(value=0.0, bar_style='info', description='Progress:', layout=Layout(height='25px', width='50%'),…"
      ]
     },
     "metadata": {},
     "output_type": "display_data"
    },
    {
     "name": "stdout",
     "output_type": "stream",
     "text": [
      "import org.apache.spark.sql.functions.{concat_ws, col}\n",
      "import org.apache.spark.sql.Row\n",
      "expr: org.apache.spark.sql.Column = concat_ws(,, GKGRECORDID, V2DATE, V2SOURCECOMMONNAME, V2DOCUMENTIDENTIFIER, V1THEMES, V1LOCATIONS, V1PERSONS, V1TONE, CheckCOVID)\n"
     ]
    }
   ],
   "source": [
    "import org.apache.spark.sql.functions.{concat_ws, col}\n",
    "import org.apache.spark.sql.Row\n",
    "\n",
    "val expr = concat_ws(\",\", dfGKG_Covid.columns.map(col): _*)\n",
    "//df.select(expr).map(_.getString(0)).saveAsTextFile(\"some_path\")"
   ]
  },
  {
   "cell_type": "code",
   "execution_count": 13,
   "metadata": {},
   "outputs": [
    {
     "data": {
      "application/vnd.jupyter.widget-view+json": {
       "model_id": "f71db60b93104797bb33a76edf2d2aa6",
       "version_major": 2,
       "version_minor": 0
      },
      "text/plain": [
       "VBox()"
      ]
     },
     "metadata": {},
     "output_type": "display_data"
    },
    {
     "data": {
      "application/vnd.jupyter.widget-view+json": {
       "model_id": "b2f0122ce2f949f685be35488796ca5a",
       "version_major": 2,
       "version_minor": 0
      },
      "text/plain": [
       "FloatProgress(value=0.0, bar_style='info', description='Progress:', layout=Layout(height='25px', width='50%'),…"
      ]
     },
     "metadata": {},
     "output_type": "display_data"
    },
    {
     "name": "stderr",
     "output_type": "stream",
     "text": [
      "An error was encountered:\n",
      "Invalid status code '404' from http://localhost:8998/sessions/0/statements/13 with error payload: {\"msg\":\"Session '0' not found.\"}\n"
     ]
    }
   ],
   "source": [
    "dfGKG_Covid.select(expr).map(_.getString(0)).rdd.saveAsTextFile(\"s3://testfuret/result/dfGKG_Corona.csv\")"
   ]
  },
  {
   "cell_type": "code",
   "execution_count": null,
   "metadata": {},
   "outputs": [],
   "source": []
  },
  {
   "cell_type": "code",
   "execution_count": null,
   "metadata": {},
   "outputs": [],
   "source": []
  },
  {
   "cell_type": "code",
   "execution_count": null,
   "metadata": {},
   "outputs": [],
   "source": []
  },
  {
   "cell_type": "code",
   "execution_count": 10,
   "metadata": {},
   "outputs": [
    {
     "data": {
      "application/vnd.jupyter.widget-view+json": {
       "model_id": "a5b05cce39184865bf8fd01fe98dece5",
       "version_major": 2,
       "version_minor": 0
      },
      "text/plain": [
       "VBox()"
      ]
     },
     "metadata": {},
     "output_type": "display_data"
    },
    {
     "data": {
      "application/vnd.jupyter.widget-view+json": {
       "model_id": "83297aef86df492aae4e0f720af5a817",
       "version_major": 2,
       "version_minor": 0
      },
      "text/plain": [
       "FloatProgress(value=0.0, bar_style='info', description='Progress:', layout=Layout(height='25px', width='50%'),…"
      ]
     },
     "metadata": {},
     "output_type": "display_data"
    },
    {
     "name": "stderr",
     "output_type": "stream",
     "text": [
      "An error was encountered:\n",
      "Invalid status code '404' from http://localhost:8998/sessions/1/statements/10 with error payload: {\"msg\":\"Session '1' not found.\"}\n"
     ]
    }
   ],
   "source": [
    "dfGKG_Covid.write.csv(\"s3://testfuret/result/dfGKG_Corona.csv\")"
   ]
  },
  {
   "cell_type": "code",
   "execution_count": 8,
   "metadata": {},
   "outputs": [
    {
     "data": {
      "application/vnd.jupyter.widget-view+json": {
       "model_id": "8a7d8c7c397948af937f0a8c340b881c",
       "version_major": 2,
       "version_minor": 0
      },
      "text/plain": [
       "VBox()"
      ]
     },
     "metadata": {},
     "output_type": "display_data"
    },
    {
     "data": {
      "application/vnd.jupyter.widget-view+json": {
       "model_id": "",
       "version_major": 2,
       "version_minor": 0
      },
      "text/plain": [
       "FloatProgress(value=0.0, bar_style='info', description='Progress:', layout=Layout(height='25px', width='50%'),…"
      ]
     },
     "metadata": {},
     "output_type": "display_data"
    },
    {
     "name": "stdout",
     "output_type": "stream",
     "text": [
      "joinedDF: org.apache.spark.sql.DataFrame = [globaleventID: string, MentionSourceName: string ... 10 more fields]\n",
      "dfGKG_Pand: org.apache.spark.sql.DataFrame = [GKGRECORDID: string, V2DATE: string ... 7 more fields]\n",
      "dfGKG_Pandemic: org.apache.spark.sql.Dataset[org.apache.spark.sql.Row] = [GKGRECORDID: string, V2DATE: string ... 7 more fields]\n",
      "dfGKG_CO: org.apache.spark.sql.DataFrame = [GKGRECORDID: string, V2DATE: string ... 7 more fields]\n",
      "dfGKG_Corona: org.apache.spark.sql.Dataset[org.apache.spark.sql.Row] = [GKGRECORDID: string, V2DATE: string ... 7 more fields]\n",
      "dfGKG_Covid: org.apache.spark.sql.Dataset[org.apache.spark.sql.Row] = [GKGRECORDID: string, V2DATE: string ... 7 more fields]\n",
      "dfGKGCovidWithMentionEvent: org.apache.spark.sql.DataFrame = [GKGRECORDID: string, V2DATE: string ... 19 more fields]\n",
      "dfCovid_Pays: org.apache.spark.sql.DataFrame = [GKGRECORDID: string, V2DATE: string ... 20 more fields]\n"
     ]
    }
   ],
   "source": [
    "\n",
    "val joinedDF = dfMention.join(dfEvent, dfMention(\"globaleventID\")===dfEvent(\"globaleventID\"), \"inner\").  //prob\n",
    "\tdrop(dfEvent(\"globaleventID\"))\n",
    "\n",
    "\n",
    "    val dfGKG_Pand = dfGKG.\n",
    "        withColumn(\"CheckCOVID\", $\"V1THEMES\".like(\"%PANDEMIC%\"))\n",
    "\n",
    "val dfGKG_Pandemic = dfGKG_Pand.\n",
    "    filter((dfGKG_Pand(\"CheckCOVID\") === \"true\"))\n",
    "\n",
    "val dfGKG_CO = dfGKG.\n",
    "    withColumn(\"CheckCOVID\", $\"V1THEMES\".like(\"%CORONAVIRUS%\"))\n",
    "\n",
    "//refaire la même avec le thème \"COVID-19\", \"COVID19\"\n",
    "\n",
    "val dfGKG_Corona = dfGKG_CO.\n",
    "    filter((dfGKG_CO(\"CheckCOVID\") === \"true\"))\n",
    "\n",
    "val dfGKG_Covid = dfGKG_Pandemic.union(dfGKG_Corona).distinct()\n",
    "\n",
    "\n",
    "val dfGKGCovidWithMentionEvent = dfGKG_Covid.join(joinedDF, dfGKG_Covid(\"V2DOCUMENTIDENTIFIER\")===joinedDF(\"MentionIdentifier\"), \"inner\")\n",
    "\n",
    "val dfCovid_Pays = dfGKGCovidWithMentionEvent.\n",
    "\twithColumn(\"Pays\", split($\"ActionGeo_Fullname\", \", \")).\n",
    "    withColumn(\"Pays\", element_at($\"Pays\", -1))\n",
    "    \n",
    "\n",
    "//TRANSFORMATION EN JSON\n",
    "//dfCovid_Pays.write.json(\"/Users/amandineguignard/Documents/ROLLY/Telecom/CoursTelecom/BDD_non_relationnelles/Projet/JsonDF\")\n",
    "//dfCovid_Pays.coalesce(1).write.json(\"/Users/amandineguignard/Documents/ROLLY/Telecom/CoursTelecom/BDD_non_relationnelles/Projet/Json1File\")\n",
    "\n",
    "//TRANSFORMATION EN CSV\n",
    "//dfGKGCovidWithMentionEvent.write.csv(\"/Users/amandineguignard/Documents/ROLLY/Telecom/CoursTelecom/BDD_non_relationnelles/Projet/csvDF\")\n",
    "\n",
    "//TRANSFORMATION EN PARQUET\n",
    "//dfGKGCovidWithMentionEvent.write.parquet(\"/Users/amandineguignard/Documents/ROLLY/Telecom/CoursTelecom/BDD_non_relationnelles/Projet/Parquet\")\n",
    "\n",
    "\n"
   ]
  },
  {
   "cell_type": "code",
   "execution_count": 9,
   "metadata": {},
   "outputs": [
    {
     "data": {
      "application/vnd.jupyter.widget-view+json": {
       "model_id": "e8abc0cd6723434292f593ede0b4aea1",
       "version_major": 2,
       "version_minor": 0
      },
      "text/plain": [
       "VBox()"
      ]
     },
     "metadata": {},
     "output_type": "display_data"
    },
    {
     "data": {
      "application/vnd.jupyter.widget-view+json": {
       "model_id": "",
       "version_major": 2,
       "version_minor": 0
      },
      "text/plain": [
       "FloatProgress(value=0.0, bar_style='info', description='Progress:', layout=Layout(height='25px', width='50%'),…"
      ]
     },
     "metadata": {},
     "output_type": "display_data"
    },
    {
     "name": "stdout",
     "output_type": "stream",
     "text": [
      "cleanLangue: (langue: String)String\n",
      "cleanLangueUdf: org.apache.spark.sql.expressions.UserDefinedFunction = UserDefinedFunction(<function1>,StringType,Some(List(StringType)))\n",
      "dfLangue: org.apache.spark.sql.DataFrame = [GKGRECORDID: string, V2DATE: string ... 20 more fields]\n",
      "CountEventArticle: org.apache.spark.sql.DataFrame = [day: string, Pays: string ... 3 more fields]\n"
     ]
    }
   ],
   "source": [
    "// 1°) afficher le nombre d’articles/évènements qui parlent de COVID qu’il y a eu pour chaque triplet (jour, pays de l’évènement, langue de l’article).\n",
    "\n",
    "def cleanLangue(langue: String): String = {\n",
    "\tif (langue == null)\n",
    "    \t\"ENG\" \n",
    "\telse\n",
    "        langue.slice(langue.length -7,langue.length -4)\n",
    "}\n",
    "\n",
    "val cleanLangueUdf = udf(cleanLangue _)\n",
    "\n",
    "val dfLangue= dfCovid_Pays.\n",
    "\twithColumn(\"Langue\", cleanLangueUdf($\"MentionDocTranslationInfo\")).\n",
    "    drop($\"MentionDocTranslationInfo\")\n",
    "\n",
    "val CountEventArticle = dfLangue.\n",
    "\tgroupBy(\"day\", \"Pays\", \"Langue\").\n",
    "    agg(countDistinct(\"globaleventID\").alias(\"NbEvent\"),countDistinct(\"GKGRECORDID\").alias(\"NbArticle\"))\n",
    "\n",
    "//Requête Question 1)\n",
    "//CountEventArticle.show()\n"
   ]
  },
  {
   "cell_type": "code",
   "execution_count": 10,
   "metadata": {},
   "outputs": [
    {
     "data": {
      "application/vnd.jupyter.widget-view+json": {
       "model_id": "09fc8ae214d14fcba0b76272a44f6e7f",
       "version_major": 2,
       "version_minor": 0
      },
      "text/plain": [
       "VBox()"
      ]
     },
     "metadata": {},
     "output_type": "display_data"
    },
    {
     "data": {
      "application/vnd.jupyter.widget-view+json": {
       "model_id": "",
       "version_major": 2,
       "version_minor": 0
      },
      "text/plain": [
       "FloatProgress(value=0.0, bar_style='info', description='Progress:', layout=Layout(height='25px', width='50%'),…"
      ]
     },
     "metadata": {},
     "output_type": "display_data"
    },
    {
     "name": "stderr",
     "output_type": "stream",
     "text": [
      "An error was encountered:\n",
      "org.apache.spark.SparkException: Job aborted due to stage failure: Task 22 in stage 6.0 failed 4 times, most recent failure: Lost task 22.3 in stage 6.0 (TID 32, ip-172-31-45-251.ec2.internal, executor 3): java.io.EOFException: Unexpected end of ZLIB input stream\n",
      "\tat java.util.zip.InflaterInputStream.fill(InflaterInputStream.java:240)\n",
      "\tat java.util.zip.InflaterInputStream.read(InflaterInputStream.java:158)\n",
      "\tat java.util.zip.ZipInputStream.read(ZipInputStream.java:194)\n",
      "\tat sun.nio.cs.StreamDecoder.readBytes(StreamDecoder.java:284)\n",
      "\tat sun.nio.cs.StreamDecoder.implRead(StreamDecoder.java:326)\n",
      "\tat sun.nio.cs.StreamDecoder.read(StreamDecoder.java:178)\n",
      "\tat java.io.InputStreamReader.read(InputStreamReader.java:184)\n",
      "\tat java.io.BufferedReader.fill(BufferedReader.java:161)\n",
      "\tat java.io.BufferedReader.readLine(BufferedReader.java:324)\n",
      "\tat java.io.BufferedReader.readLine(BufferedReader.java:389)\n",
      "\tat $anonfun$1$$anonfun$apply$3$$anonfun$apply$4.apply(<console>:66)\n",
      "\tat $anonfun$1$$anonfun$apply$3$$anonfun$apply$4.apply(<console>:66)\n",
      "\tat scala.collection.immutable.Stream$.continually(Stream.scala:1279)\n",
      "\tat scala.collection.immutable.Stream$$anonfun$continually$1.apply(Stream.scala:1279)\n",
      "\tat scala.collection.immutable.Stream$$anonfun$continually$1.apply(Stream.scala:1279)\n",
      "\tat scala.collection.immutable.Stream$Cons.tail(Stream.scala:1233)\n",
      "\tat scala.collection.immutable.Stream$Cons.tail(Stream.scala:1223)\n",
      "\tat scala.collection.immutable.Stream$$anonfun$takeWhile$1.apply(Stream.scala:941)\n",
      "\tat scala.collection.immutable.Stream$$anonfun$takeWhile$1.apply(Stream.scala:941)\n",
      "\tat scala.collection.immutable.Stream$Cons.tail(Stream.scala:1233)\n",
      "\tat scala.collection.immutable.Stream$Cons.tail(Stream.scala:1223)\n",
      "\tat scala.collection.immutable.Stream$$anonfun$append$1.apply(Stream.scala:255)\n",
      "\tat scala.collection.immutable.Stream$$anonfun$append$1.apply(Stream.scala:255)\n",
      "\tat scala.collection.immutable.Stream$Cons.tail(Stream.scala:1233)\n",
      "\tat scala.collection.immutable.Stream$Cons.tail(Stream.scala:1223)\n",
      "\tat scala.collection.immutable.StreamIterator$$anonfun$next$1.apply(Stream.scala:1120)\n",
      "\tat scala.collection.immutable.StreamIterator$$anonfun$next$1.apply(Stream.scala:1120)\n",
      "\tat scala.collection.immutable.StreamIterator$LazyCell.v$lzycompute(Stream.scala:1109)\n",
      "\tat scala.collection.immutable.StreamIterator$LazyCell.v(Stream.scala:1109)\n",
      "\tat scala.collection.immutable.StreamIterator.hasNext(Stream.scala:1114)\n",
      "\tat scala.collection.Iterator$$anon$12.hasNext(Iterator.scala:439)\n",
      "\tat scala.collection.Iterator$$anon$11.hasNext(Iterator.scala:409)\n",
      "\tat scala.collection.Iterator$$anon$11.hasNext(Iterator.scala:409)\n",
      "\tat scala.collection.Iterator$$anon$11.hasNext(Iterator.scala:409)\n",
      "\tat scala.collection.Iterator$$anon$11.hasNext(Iterator.scala:409)\n",
      "\tat org.apache.spark.sql.catalyst.expressions.GeneratedClass$GeneratedIteratorForCodegenStage5.processNext(Unknown Source)\n",
      "\tat org.apache.spark.sql.execution.BufferedRowIterator.hasNext(BufferedRowIterator.java:43)\n",
      "\tat org.apache.spark.sql.execution.WholeStageCodegenExec$$anonfun$13$$anon$1.hasNext(WholeStageCodegenExec.scala:585)\n",
      "\tat scala.collection.Iterator$$anon$11.hasNext(Iterator.scala:409)\n",
      "\tat org.apache.spark.shuffle.sort.UnsafeShuffleWriter.write(UnsafeShuffleWriter.java:188)\n",
      "\tat org.apache.spark.scheduler.ShuffleMapTask.runTask(ShuffleMapTask.scala:99)\n",
      "\tat org.apache.spark.scheduler.ShuffleMapTask.runTask(ShuffleMapTask.scala:55)\n",
      "\tat org.apache.spark.scheduler.Task.run(Task.scala:123)\n",
      "\tat org.apache.spark.executor.Executor$TaskRunner$$anonfun$10.apply(Executor.scala:408)\n",
      "\tat org.apache.spark.util.Utils$.tryWithSafeFinally(Utils.scala:1405)\n",
      "\tat org.apache.spark.executor.Executor$TaskRunner.run(Executor.scala:414)\n",
      "\tat java.util.concurrent.ThreadPoolExecutor.runWorker(ThreadPoolExecutor.java:1149)\n",
      "\tat java.util.concurrent.ThreadPoolExecutor$Worker.run(ThreadPoolExecutor.java:624)\n",
      "\tat java.lang.Thread.run(Thread.java:748)\n",
      "\n",
      "Driver stacktrace:\n",
      "  at org.apache.spark.scheduler.DAGScheduler.org$apache$spark$scheduler$DAGScheduler$$failJobAndIndependentStages(DAGScheduler.scala:2080)\n",
      "  at org.apache.spark.scheduler.DAGScheduler$$anonfun$abortStage$1.apply(DAGScheduler.scala:2068)\n",
      "  at org.apache.spark.scheduler.DAGScheduler$$anonfun$abortStage$1.apply(DAGScheduler.scala:2067)\n",
      "  at scala.collection.mutable.ResizableArray$class.foreach(ResizableArray.scala:59)\n",
      "  at scala.collection.mutable.ArrayBuffer.foreach(ArrayBuffer.scala:48)\n",
      "  at org.apache.spark.scheduler.DAGScheduler.abortStage(DAGScheduler.scala:2067)\n",
      "  at org.apache.spark.scheduler.DAGScheduler$$anonfun$handleTaskSetFailed$1.apply(DAGScheduler.scala:988)\n",
      "  at org.apache.spark.scheduler.DAGScheduler$$anonfun$handleTaskSetFailed$1.apply(DAGScheduler.scala:988)\n",
      "  at scala.Option.foreach(Option.scala:257)\n",
      "  at org.apache.spark.scheduler.DAGScheduler.handleTaskSetFailed(DAGScheduler.scala:988)\n",
      "  at org.apache.spark.scheduler.DAGSchedulerEventProcessLoop.doOnReceive(DAGScheduler.scala:2301)\n",
      "  at org.apache.spark.scheduler.DAGSchedulerEventProcessLoop.onReceive(DAGScheduler.scala:2250)\n",
      "  at org.apache.spark.scheduler.DAGSchedulerEventProcessLoop.onReceive(DAGScheduler.scala:2239)\n",
      "  at org.apache.spark.util.EventLoop$$anon$1.run(EventLoop.scala:49)\n",
      "  at org.apache.spark.sql.execution.adaptive.AdaptiveExecutor.checkNoFailures(AdaptiveExecutor.scala:146)\n",
      "  at org.apache.spark.sql.execution.adaptive.AdaptiveExecutor.doRun(AdaptiveExecutor.scala:88)\n",
      "  at org.apache.spark.sql.execution.adaptive.AdaptiveExecutor.tryRunningAndGetFuture(AdaptiveExecutor.scala:66)\n",
      "  at org.apache.spark.sql.execution.adaptive.AdaptiveExecutor.execute(AdaptiveExecutor.scala:57)\n",
      "  at org.apache.spark.sql.execution.adaptive.AdaptiveSparkPlanExec$$anonfun$finalPhysicalPlan$1.apply(AdaptiveSparkPlanExec.scala:174)\n",
      "  at org.apache.spark.sql.execution.adaptive.AdaptiveSparkPlanExec$$anonfun$finalPhysicalPlan$1.apply(AdaptiveSparkPlanExec.scala:173)\n",
      "  at org.apache.spark.sql.SparkSession.withActive(SparkSession.scala:778)\n",
      "  at org.apache.spark.sql.execution.adaptive.AdaptiveSparkPlanExec.finalPhysicalPlan(AdaptiveSparkPlanExec.scala:173)\n",
      "  at org.apache.spark.sql.execution.adaptive.AdaptiveSparkPlanExec.executeCollect(AdaptiveSparkPlanExec.scala:180)\n",
      "  at org.apache.spark.sql.Dataset.org$apache$spark$sql$Dataset$$collectFromPlan(Dataset.scala:3416)\n",
      "  at org.apache.spark.sql.Dataset$$anonfun$head$1.apply(Dataset.scala:2553)\n",
      "  at org.apache.spark.sql.Dataset$$anonfun$head$1.apply(Dataset.scala:2553)\n",
      "  at org.apache.spark.sql.Dataset$$anonfun$52.apply(Dataset.scala:3391)\n",
      "  at org.apache.spark.sql.execution.SQLExecution$.org$apache$spark$sql$execution$SQLExecution$$executeQuery$1(SQLExecution.scala:83)\n",
      "  at org.apache.spark.sql.execution.SQLExecution$$anonfun$withNewExecutionId$1$$anonfun$apply$1.apply(SQLExecution.scala:94)\n",
      "  at org.apache.spark.sql.execution.QueryExecutionMetrics$.withMetrics(QueryExecutionMetrics.scala:141)\n",
      "  at org.apache.spark.sql.execution.SQLExecution$.org$apache$spark$sql$execution$SQLExecution$$withMetrics(SQLExecution.scala:178)\n",
      "  at org.apache.spark.sql.execution.SQLExecution$$anonfun$withNewExecutionId$1.apply(SQLExecution.scala:93)\n",
      "  at org.apache.spark.sql.execution.SQLExecution$.withSQLConfPropagated(SQLExecution.scala:200)\n",
      "  at org.apache.spark.sql.execution.SQLExecution$.withNewExecutionId(SQLExecution.scala:92)\n",
      "  at org.apache.spark.sql.Dataset.org$apache$spark$sql$Dataset$$withAction(Dataset.scala:3390)\n",
      "  at org.apache.spark.sql.Dataset.head(Dataset.scala:2553)\n",
      "  at org.apache.spark.sql.Dataset.take(Dataset.scala:2767)\n",
      "  at org.apache.spark.sql.Dataset.getRows(Dataset.scala:256)\n",
      "  at org.apache.spark.sql.Dataset.showString(Dataset.scala:293)\n",
      "  at org.apache.spark.sql.Dataset.show(Dataset.scala:754)\n",
      "  at org.apache.spark.sql.Dataset.show(Dataset.scala:713)\n",
      "  at org.apache.spark.sql.Dataset.show(Dataset.scala:722)\n",
      "  ... 58 elided\n",
      "Caused by: java.io.EOFException: Unexpected end of ZLIB input stream\n",
      "  at java.util.zip.InflaterInputStream.fill(InflaterInputStream.java:240)\n",
      "  at java.util.zip.InflaterInputStream.read(InflaterInputStream.java:158)\n",
      "  at java.util.zip.ZipInputStream.read(ZipInputStream.java:194)\n",
      "  at sun.nio.cs.StreamDecoder.readBytes(StreamDecoder.java:284)\n",
      "  at sun.nio.cs.StreamDecoder.implRead(StreamDecoder.java:326)\n",
      "  at sun.nio.cs.StreamDecoder.read(StreamDecoder.java:178)\n",
      "  at java.io.InputStreamReader.read(InputStreamReader.java:184)\n",
      "  at java.io.BufferedReader.fill(BufferedReader.java:161)\n",
      "  at java.io.BufferedReader.readLine(BufferedReader.java:324)\n",
      "  at java.io.BufferedReader.readLine(BufferedReader.java:389)\n",
      "  at $anonfun$1$$anonfun$apply$3$$anonfun$apply$4.apply(<console>:66)\n",
      "  at $anonfun$1$$anonfun$apply$3$$anonfun$apply$4.apply(<console>:66)\n",
      "  at scala.collection.immutable.Stream$.continually(Stream.scala:1279)\n",
      "  at scala.collection.immutable.Stream$$anonfun$continually$1.apply(Stream.scala:1279)\n",
      "  at scala.collection.immutable.Stream$$anonfun$continually$1.apply(Stream.scala:1279)\n",
      "  at scala.collection.immutable.Stream$Cons.tail(Stream.scala:1233)\n",
      "  at scala.collection.immutable.Stream$Cons.tail(Stream.scala:1223)\n",
      "  at scala.collection.immutable.Stream$$anonfun$takeWhile$1.apply(Stream.scala:941)\n",
      "  at scala.collection.immutable.Stream$$anonfun$takeWhile$1.apply(Stream.scala:941)\n",
      "  at scala.collection.immutable.Stream$Cons.tail(Stream.scala:1233)\n",
      "  at scala.collection.immutable.Stream$Cons.tail(Stream.scala:1223)\n",
      "  at scala.collection.immutable.Stream$$anonfun$append$1.apply(Stream.scala:255)\n",
      "  at scala.collection.immutable.Stream$$anonfun$append$1.apply(Stream.scala:255)\n",
      "  at scala.collection.immutable.Stream$Cons.tail(Stream.scala:1233)\n",
      "  at scala.collection.immutable.Stream$Cons.tail(Stream.scala:1223)\n",
      "  at scala.collection.immutable.StreamIterator$$anonfun$next$1.apply(Stream.scala:1120)\n",
      "  at scala.collection.immutable.StreamIterator$$anonfun$next$1.apply(Stream.scala:1120)\n",
      "  at scala.collection.immutable.StreamIterator$LazyCell.v$lzycompute(Stream.scala:1109)\n",
      "  at scala.collection.immutable.StreamIterator$LazyCell.v(Stream.scala:1109)\n",
      "  at scala.collection.immutable.StreamIterator.hasNext(Stream.scala:1114)\n",
      "  at scala.collection.Iterator$$anon$12.hasNext(Iterator.scala:439)\n",
      "  at scala.collection.Iterator$$anon$11.hasNext(Iterator.scala:409)\n",
      "  at scala.collection.Iterator$$anon$11.hasNext(Iterator.scala:409)\n",
      "  at scala.collection.Iterator$$anon$11.hasNext(Iterator.scala:409)\n",
      "  at scala.collection.Iterator$$anon$11.hasNext(Iterator.scala:409)\n",
      "  at org.apache.spark.sql.catalyst.expressions.GeneratedClass$GeneratedIteratorForCodegenStage5.processNext(Unknown Source)\n",
      "  at org.apache.spark.sql.execution.BufferedRowIterator.hasNext(BufferedRowIterator.java:43)\n",
      "  at org.apache.spark.sql.execution.WholeStageCodegenExec$$anonfun$13$$anon$1.hasNext(WholeStageCodegenExec.scala:585)\n",
      "  at scala.collection.Iterator$$anon$11.hasNext(Iterator.scala:409)\n",
      "  at org.apache.spark.shuffle.sort.UnsafeShuffleWriter.write(UnsafeShuffleWriter.java:188)\n",
      "  at org.apache.spark.scheduler.ShuffleMapTask.runTask(ShuffleMapTask.scala:99)\n",
      "  at org.apache.spark.scheduler.ShuffleMapTask.runTask(ShuffleMapTask.scala:55)\n",
      "  at org.apache.spark.scheduler.Task.run(Task.scala:123)\n",
      "  at org.apache.spark.executor.Executor$TaskRunner$$anonfun$10.apply(Executor.scala:408)\n",
      "  at org.apache.spark.util.Utils$.tryWithSafeFinally(Utils.scala:1405)\n",
      "  at org.apache.spark.executor.Executor$TaskRunner.run(Executor.scala:414)\n",
      "  ... 3 more\n",
      "\n"
     ]
    }
   ],
   "source": [
    "CountEventArticle.show()"
   ]
  },
  {
   "cell_type": "code",
   "execution_count": null,
   "metadata": {},
   "outputs": [],
   "source": []
  }
 ],
 "metadata": {
  "kernelspec": {
   "display_name": "Spark",
   "language": "",
   "name": "sparkkernel"
  },
  "language_info": {
   "codemirror_mode": "text/x-scala",
   "mimetype": "text/x-scala",
   "name": "scala",
   "pygments_lexer": "scala"
  }
 },
 "nbformat": 4,
 "nbformat_minor": 4
}
