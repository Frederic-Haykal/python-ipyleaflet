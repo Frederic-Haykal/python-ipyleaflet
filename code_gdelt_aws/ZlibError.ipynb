{
 "cells": [
  {
   "cell_type": "code",
   "execution_count": 1,
   "metadata": {},
   "outputs": [
    {
     "data": {
      "application/vnd.jupyter.widget-view+json": {
       "model_id": "cea2200315b1448daf459912c1316f8a",
       "version_major": 2,
       "version_minor": 0
      },
      "text/plain": [
       "VBox()"
      ]
     },
     "metadata": {},
     "output_type": "display_data"
    },
    {
     "name": "stdout",
     "output_type": "stream",
     "text": [
      "Starting Spark application\n"
     ]
    },
    {
     "data": {
      "text/html": [
       "<table>\n",
       "<tr><th>ID</th><th>YARN Application ID</th><th>Kind</th><th>State</th><th>Spark UI</th><th>Driver log</th><th>Current session?</th></tr><tr><td>5</td><td>application_1611184029712_0010</td><td>spark</td><td>idle</td><td></td><td></td><td>✔</td></tr></table>"
      ],
      "text/plain": [
       "<IPython.core.display.HTML object>"
      ]
     },
     "metadata": {},
     "output_type": "display_data"
    },
    {
     "data": {
      "application/vnd.jupyter.widget-view+json": {
       "model_id": "",
       "version_major": 2,
       "version_minor": 0
      },
      "text/plain": [
       "FloatProgress(value=0.0, bar_style='info', description='Progress:', layout=Layout(height='25px', width='50%'),…"
      ]
     },
     "metadata": {},
     "output_type": "display_data"
    },
    {
     "name": "stdout",
     "output_type": "stream",
     "text": [
      "SparkSession available as 'spark'.\n"
     ]
    },
    {
     "data": {
      "application/vnd.jupyter.widget-view+json": {
       "model_id": "",
       "version_major": 2,
       "version_minor": 0
      },
      "text/plain": [
       "FloatProgress(value=0.0, bar_style='info', description='Progress:', layout=Layout(height='25px', width='50%'),…"
      ]
     },
     "metadata": {},
     "output_type": "display_data"
    },
    {
     "name": "stdout",
     "output_type": "stream",
     "text": [
      "import scala.sys.process._\n",
      "import java.net.URL\n",
      "import java.io.File\n",
      "import java.io.File\n",
      "import java.nio.file.{Files, StandardCopyOption}\n",
      "import java.net.HttpURLConnection\n",
      "import org.apache.spark.sql.functions._\n",
      "import org.apache.spark.sql.functions.udf\n",
      "import org.apache.spark.sql.{Row, SparkSession}\n",
      "import org.apache.spark.sql.functions.{col, to_date, to_timestamp}\n",
      "import org.apache.spark.sql.types.DateType\n",
      "import java.util.zip.ZipInputStream\n",
      "import java.io.BufferedReader\n",
      "import java.io.InputStreamReader\n",
      "import org.apache.spark.sql.SQLContext\n",
      "import com.amazonaws.services.s3.AmazonS3Client\n",
      "import org.apache.spark.sql.functions.{from_unixtime, unix_timestamp, _}\n",
      "import org.apache.spark.sql.types.{IntegerType, StringType, StructType}\n",
      "import org.apache.spark.sql.SaveMode\n",
      "import org.apache.spark.input.PortableDataStream\n",
      "import com.amazonaws.auth.BasicAWSCredentials\n",
      "import org.apache.spark.sql.types.IntegerType\n",
      "import com.amazonaws.services.s3.{AmazonS3, AmazonS3ClientBuilder}\n"
     ]
    }
   ],
   "source": [
    "// Imports\n",
    "import scala.sys.process._\n",
    "import java.net.URL\n",
    "import java.io.File\n",
    "import java.io.File\n",
    "import java.nio.file.{Files, StandardCopyOption}\n",
    "import java.net.HttpURLConnection \n",
    "import org.apache.spark.sql.functions._\n",
    "\n",
    "//import scala.sqlContext.implicits._\n",
    "import org.apache.spark.sql.functions.udf\n",
    "import org.apache.spark.sql.{Row, SparkSession}\n",
    "import org.apache.spark.sql.functions.{col, to_date, to_timestamp}\n",
    "import org.apache.spark.sql.types.DateType\n",
    "import java.util.zip.ZipInputStream\n",
    "import java.io.BufferedReader\n",
    "import java.io.InputStreamReader\n",
    "import org.apache.spark.sql.SQLContext\n",
    "import com.amazonaws.services.s3.AmazonS3Client\n",
    "import org.apache.spark.sql.functions.{from_unixtime, unix_timestamp, _}\n",
    "import org.apache.spark.sql.types.{IntegerType, StringType, StructType}\n",
    "import org.apache.spark.sql.SaveMode\n",
    "\n",
    "import org.apache.spark.input.PortableDataStream\n",
    "import com.amazonaws.auth.BasicAWSCredentials\n",
    "\n",
    "//import org.apache.spark.sql.cassandra._\n",
    "\n",
    "//import com.datastax.spark.connector._\n",
    "import org.apache.spark.sql.types.IntegerType\n",
    "\n",
    "\n",
    "import com.amazonaws.services.s3.{AmazonS3, AmazonS3ClientBuilder}\n"
   ]
  },
  {
   "cell_type": "code",
   "execution_count": 17,
   "metadata": {},
   "outputs": [
    {
     "data": {
      "application/vnd.jupyter.widget-view+json": {
       "model_id": "ba613c101cbb42d2abdf10549ca37c2a",
       "version_major": 2,
       "version_minor": 0
      },
      "text/plain": [
       "VBox()"
      ]
     },
     "metadata": {},
     "output_type": "display_data"
    },
    {
     "data": {
      "application/vnd.jupyter.widget-view+json": {
       "model_id": "",
       "version_major": 2,
       "version_minor": 0
      },
      "text/plain": [
       "FloatProgress(value=0.0, bar_style='info', description='Progress:', layout=Layout(height='25px', width='50%'),…"
      ]
     },
     "metadata": {},
     "output_type": "display_data"
    },
    {
     "name": "stdout",
     "output_type": "stream",
     "text": [
      "list_csv_translate: org.apache.spark.sql.DataFrame = [size: string, hash: string ... 1 more field]\n",
      "list_2020_translate_tot: org.apache.spark.sql.Dataset[org.apache.spark.sql.Row] = [size: string, hash: string ... 1 more field]\n",
      "+-------+--------------------------------+--------------------------------------------------------------------+\n",
      "|size   |hash                            |url                                                                 |\n",
      "+-------+--------------------------------+--------------------------------------------------------------------+\n",
      "|337832 |4c6c9046800dce050fdb3dd0290723fa|http://data.gdeltproject.org/gdeltv2/20200201000000.export.CSV.zip  |\n",
      "|290210 |a2ffbcb5923e757db91ea26cdccc598c|http://data.gdeltproject.org/gdeltv2/20200201000000.mentions.CSV.zip|\n",
      "|9183323|8a2afba1124753a43496084e289fad44|http://data.gdeltproject.org/gdeltv2/20200201000000.gkg.csv.zip     |\n",
      "|190230 |386424c5c343769e0257b07dba03cce3|http://data.gdeltproject.org/gdeltv2/20200201001500.export.CSV.zip  |\n",
      "|236110 |adf8dc0ee2fc57e75f73f3cacf9dbc50|http://data.gdeltproject.org/gdeltv2/20200201001500.mentions.CSV.zip|\n",
      "|8060242|38bc569ec9a5a115dbbda9ab9419b5ce|http://data.gdeltproject.org/gdeltv2/20200201001500.gkg.csv.zip     |\n",
      "|176889 |283ff1bd308560faf3b6ef1744264dc6|http://data.gdeltproject.org/gdeltv2/20200201003000.export.CSV.zip  |\n",
      "|243960 |03c79621d8043cfa702fa8d99376836b|http://data.gdeltproject.org/gdeltv2/20200201003000.mentions.CSV.zip|\n",
      "|7935496|82e0b737dc4637f98aa2d317246b0e43|http://data.gdeltproject.org/gdeltv2/20200201003000.gkg.csv.zip     |\n",
      "|167497 |7828e5f692b4d83d64460160d38af2f0|http://data.gdeltproject.org/gdeltv2/20200201004500.export.CSV.zip  |\n",
      "|246569 |341ba6e8914c59fbadbe28e2c670ec02|http://data.gdeltproject.org/gdeltv2/20200201004500.mentions.CSV.zip|\n",
      "|8298805|14429b1cd02943d71a5ff990ded8e90f|http://data.gdeltproject.org/gdeltv2/20200201004500.gkg.csv.zip     |\n",
      "|170867 |240ebf0dbd81747b929d7047dc2e0b75|http://data.gdeltproject.org/gdeltv2/20200201010000.export.CSV.zip  |\n",
      "|254233 |2d343b816e2613648962ded1d6f9147b|http://data.gdeltproject.org/gdeltv2/20200201010000.mentions.CSV.zip|\n",
      "|8423464|6ee8837b89a0e97e9b7f5c07b009157f|http://data.gdeltproject.org/gdeltv2/20200201010000.gkg.csv.zip     |\n",
      "|137040 |3cd49488a6b5540a4d02a31643ccc021|http://data.gdeltproject.org/gdeltv2/20200201011500.export.CSV.zip  |\n",
      "|220211 |e96d71d30e42f00816e390b2592c0bcf|http://data.gdeltproject.org/gdeltv2/20200201011500.mentions.CSV.zip|\n",
      "|7351659|617fde4ed95e49767fbb98490c3c2957|http://data.gdeltproject.org/gdeltv2/20200201011500.gkg.csv.zip     |\n",
      "|146989 |435c728f85c7bf80a1558fabbb2ea2b0|http://data.gdeltproject.org/gdeltv2/20200201013000.export.CSV.zip  |\n",
      "|264610 |4dfbe93feb24801e9b9ea769af53206e|http://data.gdeltproject.org/gdeltv2/20200201013000.mentions.CSV.zip|\n",
      "|8248939|3719eed72ac6a7a19d0fc156fff16b38|http://data.gdeltproject.org/gdeltv2/20200201013000.gkg.csv.zip     |\n",
      "|123827 |535c99f045ed5d45cfdac58fdf027511|http://data.gdeltproject.org/gdeltv2/20200201014500.export.CSV.zip  |\n",
      "|245491 |66270a933efc1386c697f454667baffc|http://data.gdeltproject.org/gdeltv2/20200201014500.mentions.CSV.zip|\n",
      "|7649340|522460f4acc1c63618c764d2f6b9efce|http://data.gdeltproject.org/gdeltv2/20200201014500.gkg.csv.zip     |\n",
      "|140225 |8e8aadf864ecb78c6b63756fcd615aa3|http://data.gdeltproject.org/gdeltv2/20200201020000.export.CSV.zip  |\n",
      "|225697 |3cc988312f490571e839f85ee0be95a5|http://data.gdeltproject.org/gdeltv2/20200201020000.mentions.CSV.zip|\n",
      "|7018444|95d17ce34c0bc0dfeca4f0077bed6f5b|http://data.gdeltproject.org/gdeltv2/20200201020000.gkg.csv.zip     |\n",
      "|105323 |adf37d52b7db48dd5cd9b8c804f514b7|http://data.gdeltproject.org/gdeltv2/20200201021500.export.CSV.zip  |\n",
      "|204880 |ef1098655acb8b73b1e8c10feb5aeb93|http://data.gdeltproject.org/gdeltv2/20200201021500.mentions.CSV.zip|\n",
      "|6631424|39b41c8bac9c62fd8ac683d6f086a108|http://data.gdeltproject.org/gdeltv2/20200201021500.gkg.csv.zip     |\n",
      "|104160 |564e8d3dd0197f94a30489b773429f36|http://data.gdeltproject.org/gdeltv2/20200201023000.export.CSV.zip  |\n",
      "|208518 |565cc4046592bf1588a5dbca7b3996b7|http://data.gdeltproject.org/gdeltv2/20200201023000.mentions.CSV.zip|\n",
      "|6421370|293632c966dc9cc29f322061b4cecc25|http://data.gdeltproject.org/gdeltv2/20200201023000.gkg.csv.zip     |\n",
      "|121287 |e52f5468f4d0521047088985b462a066|http://data.gdeltproject.org/gdeltv2/20200201024500.export.CSV.zip  |\n",
      "|227890 |2353e03e7954e0e06497a89258efc849|http://data.gdeltproject.org/gdeltv2/20200201024500.mentions.CSV.zip|\n",
      "|7221192|df2dd75b28ee97cf9d0604ddf9579d7a|http://data.gdeltproject.org/gdeltv2/20200201024500.gkg.csv.zip     |\n",
      "|100890 |0f65b3389a18f1e4ffa4f3153f953798|http://data.gdeltproject.org/gdeltv2/20200201030000.export.CSV.zip  |\n",
      "|206883 |ef90e8d51ee4a1b3cb842c0591e903a5|http://data.gdeltproject.org/gdeltv2/20200201030000.mentions.CSV.zip|\n",
      "|7497518|5457824be6507f4a86ca703a1cc07043|http://data.gdeltproject.org/gdeltv2/20200201030000.gkg.csv.zip     |\n",
      "|95077  |dd3d63f2cfe8c389f37bd18b5a58cb87|http://data.gdeltproject.org/gdeltv2/20200201031500.export.CSV.zip  |\n",
      "|174870 |ee445a5601d4017491ebc1df11729851|http://data.gdeltproject.org/gdeltv2/20200201031500.mentions.CSV.zip|\n",
      "|6071983|47e1d484b5af686f4085e410bbed7966|http://data.gdeltproject.org/gdeltv2/20200201031500.gkg.csv.zip     |\n",
      "|86880  |0bf92f681468752d5a4ec4daed76a377|http://data.gdeltproject.org/gdeltv2/20200201033000.export.CSV.zip  |\n",
      "|182431 |c443f7f656a474f7b2fcacc941288399|http://data.gdeltproject.org/gdeltv2/20200201033000.mentions.CSV.zip|\n",
      "|6140523|3300f878dc7148d052cde3756edd0a6a|http://data.gdeltproject.org/gdeltv2/20200201033000.gkg.csv.zip     |\n",
      "|92300  |d6a539356a7e7ac9fd24e225d6c7db9e|http://data.gdeltproject.org/gdeltv2/20200201034500.export.CSV.zip  |\n",
      "|206402 |5df68a388fcd01f3a80ad91339798bb9|http://data.gdeltproject.org/gdeltv2/20200201034500.mentions.CSV.zip|\n",
      "|5863833|589ae75f71dd92c12b3cf3c4bbd6515e|http://data.gdeltproject.org/gdeltv2/20200201034500.gkg.csv.zip     |\n",
      "|96603  |91c1f0064c67becacbda14d848e18a83|http://data.gdeltproject.org/gdeltv2/20200201040000.export.CSV.zip  |\n",
      "|191597 |b864252af691d5fb2f02085237756030|http://data.gdeltproject.org/gdeltv2/20200201040000.mentions.CSV.zip|\n",
      "|5876638|a1dbb6f29c98943f139da15c0e54b888|http://data.gdeltproject.org/gdeltv2/20200201040000.gkg.csv.zip     |\n",
      "|78808  |fefbb92bc39eb5044517f67512f4a249|http://data.gdeltproject.org/gdeltv2/20200201041500.export.CSV.zip  |\n",
      "|150283 |bdd8dc50ce1574635ea92c75e9c65388|http://data.gdeltproject.org/gdeltv2/20200201041500.mentions.CSV.zip|\n",
      "|5027941|3799f8fc6898a3ee038a36ee73fafa5e|http://data.gdeltproject.org/gdeltv2/20200201041500.gkg.csv.zip     |\n",
      "|71434  |25c904ab121c5e596b6275c9fc4a3723|http://data.gdeltproject.org/gdeltv2/20200201043000.export.CSV.zip  |\n",
      "|125782 |5c0a141ab5731fe77ba07bb7517e1dbe|http://data.gdeltproject.org/gdeltv2/20200201043000.mentions.CSV.zip|\n",
      "|4028513|ffb2e02a886cae9e05a96851ac050922|http://data.gdeltproject.org/gdeltv2/20200201043000.gkg.csv.zip     |\n",
      "|69953  |491f4f4a2783218004cf6aa46d142e5c|http://data.gdeltproject.org/gdeltv2/20200201044500.export.CSV.zip  |\n",
      "|155201 |a18725d215f83dbb5ded9d22c270b9b6|http://data.gdeltproject.org/gdeltv2/20200201044500.mentions.CSV.zip|\n",
      "|5633446|d86f610b1e862698f78869717ed97e93|http://data.gdeltproject.org/gdeltv2/20200201044500.gkg.csv.zip     |\n",
      "|77390  |05c469151abb0b72e7cddc924347f0d0|http://data.gdeltproject.org/gdeltv2/20200201050000.export.CSV.zip  |\n",
      "|146250 |79a96077ed3dfb90812e2493f3c2e700|http://data.gdeltproject.org/gdeltv2/20200201050000.mentions.CSV.zip|\n",
      "|4369681|6c6e50a358649643a5144fa4a5be8b1f|http://data.gdeltproject.org/gdeltv2/20200201050000.gkg.csv.zip     |\n",
      "|74298  |1d8eed3e41d5947340e55639dbcdee6c|http://data.gdeltproject.org/gdeltv2/20200201051500.export.CSV.zip  |\n",
      "|153124 |65c2db61da24fe5db3480a7e04a650f8|http://data.gdeltproject.org/gdeltv2/20200201051500.mentions.CSV.zip|\n",
      "|4864791|4d01661961748b6edb011e2acb686a69|http://data.gdeltproject.org/gdeltv2/20200201051500.gkg.csv.zip     |\n",
      "|87517  |33c01e5a5bfd0fce83edd19dbf6589ef|http://data.gdeltproject.org/gdeltv2/20200201053000.export.CSV.zip  |\n",
      "|140833 |635a75ffc6da3ffd535d1862f2efd173|http://data.gdeltproject.org/gdeltv2/20200201053000.mentions.CSV.zip|\n",
      "|4377680|cb2778abb46d7197e6ae9277db2f56c1|http://data.gdeltproject.org/gdeltv2/20200201053000.gkg.csv.zip     |\n",
      "|62102  |23ec216d5704f29f638b01bf3cc7db90|http://data.gdeltproject.org/gdeltv2/20200201054500.export.CSV.zip  |\n",
      "|107641 |45374ba8ec274be021bb0a5fa9cd9d8b|http://data.gdeltproject.org/gdeltv2/20200201054500.mentions.CSV.zip|\n",
      "|3892379|cc420368ccd7090323b32155fb806e69|http://data.gdeltproject.org/gdeltv2/20200201054500.gkg.csv.zip     |\n",
      "|68894  |356473e8f69779b1a52536fb413e1922|http://data.gdeltproject.org/gdeltv2/20200201060000.export.CSV.zip  |\n",
      "|118716 |40894d43154596127b0158bd579b20ad|http://data.gdeltproject.org/gdeltv2/20200201060000.mentions.CSV.zip|\n",
      "|4190626|386ec5dba6a3dbb48ab6bdb8a977833e|http://data.gdeltproject.org/gdeltv2/20200201060000.gkg.csv.zip     |\n",
      "|60388  |82ff17e137f9774d20ca54045016e69e|http://data.gdeltproject.org/gdeltv2/20200201061500.export.CSV.zip  |\n",
      "|121891 |ce130a6ba1023ba1f4daa1af1a235284|http://data.gdeltproject.org/gdeltv2/20200201061500.mentions.CSV.zip|\n",
      "|4066359|8a5c5486f95e92dfa0e084fbb81edc1a|http://data.gdeltproject.org/gdeltv2/20200201061500.gkg.csv.zip     |\n",
      "|77425  |ef69f04402c62343f15f8dd273a07b8d|http://data.gdeltproject.org/gdeltv2/20200201063000.export.CSV.zip  |\n",
      "|141452 |65d78489065a76634e0da3c307c9f774|http://data.gdeltproject.org/gdeltv2/20200201063000.mentions.CSV.zip|\n",
      "|4930634|263b5e9ab873e66a99f46db74d99242e|http://data.gdeltproject.org/gdeltv2/20200201063000.gkg.csv.zip     |\n",
      "|68938  |5cea526d9182bc6e3f31a884e9cb921a|http://data.gdeltproject.org/gdeltv2/20200201064500.export.CSV.zip  |\n",
      "|108091 |054ef0e125a44cc1b82fbc520f2e7daf|http://data.gdeltproject.org/gdeltv2/20200201064500.mentions.CSV.zip|\n",
      "|4127404|97e8b2d0e7be9f993679d7d3ce0f7465|http://data.gdeltproject.org/gdeltv2/20200201064500.gkg.csv.zip     |\n",
      "|53373  |f9e505ca7778aeaf287c49e303c02398|http://data.gdeltproject.org/gdeltv2/20200201070000.export.CSV.zip  |\n",
      "|106629 |2febd2d269d3aeb6019a520435c26fb7|http://data.gdeltproject.org/gdeltv2/20200201070000.mentions.CSV.zip|\n",
      "|4298023|fa6a95b93b59663e9a34aeb0a405c74c|http://data.gdeltproject.org/gdeltv2/20200201070000.gkg.csv.zip     |\n",
      "|60241  |4a21a825f40fbbd2168524c4053d09cf|http://data.gdeltproject.org/gdeltv2/20200201071500.export.CSV.zip  |\n",
      "|100453 |65f7637ad9ac0b5b84984cfdc1fe115b|http://data.gdeltproject.org/gdeltv2/20200201071500.mentions.CSV.zip|\n",
      "|4213517|6f61f6a9301fb2ff3701193b4430a512|http://data.gdeltproject.org/gdeltv2/20200201071500.gkg.csv.zip     |\n",
      "|73980  |9e6a9154d998b15d825c940cd1d78b2e|http://data.gdeltproject.org/gdeltv2/20200201073000.export.CSV.zip  |\n",
      "|120517 |0ea97c5a4075ebb374e83d5881da863e|http://data.gdeltproject.org/gdeltv2/20200201073000.mentions.CSV.zip|\n",
      "|4477948|b4d41ecadcb9fd08a6453e1831bb9874|http://data.gdeltproject.org/gdeltv2/20200201073000.gkg.csv.zip     |\n",
      "|68915  |07ae30f422c12fabbfefa4f68f0bd432|http://data.gdeltproject.org/gdeltv2/20200201074500.export.CSV.zip  |\n",
      "|114317 |5ec45891ed14d95332328f7c5047711d|http://data.gdeltproject.org/gdeltv2/20200201074500.mentions.CSV.zip|\n",
      "|4456151|4a6b4b124f4ab057fb1fa2b889f9d7c8|http://data.gdeltproject.org/gdeltv2/20200201074500.gkg.csv.zip     |\n",
      "|52930  |85ee0ca60b67763be0421dc0ec1685c4|http://data.gdeltproject.org/gdeltv2/20200201080000.export.CSV.zip  |\n",
      "|98138  |008c400e85dcad2bfdd4e0a19b805bf4|http://data.gdeltproject.org/gdeltv2/20200201080000.mentions.CSV.zip|\n",
      "|3933737|31a3ab5157aedd56278118d4e754fedd|http://data.gdeltproject.org/gdeltv2/20200201080000.gkg.csv.zip     |\n",
      "|58923  |7b477a22bb8f71bfd61996c2ce622c77|http://data.gdeltproject.org/gdeltv2/20200201081500.export.CSV.zip  |\n",
      "+-------+--------------------------------+--------------------------------------------------------------------+\n",
      "only showing top 100 rows\n",
      "\n"
     ]
    }
   ],
   "source": [
    "// English Data\n",
    "val list_csv_translate = spark.read.format(\"csv\").option(\"delimiter\", \" \").\n",
    "    csv(\"s3://testfuret/masterfilelist.txt\").   \n",
    "    withColumnRenamed(\"_c0\",\"size\").\n",
    "    withColumnRenamed(\"_c1\",\"hash\").\n",
    "    withColumnRenamed(\"_c2\",\"url\")\n",
    "\n",
    "\n",
    "val list_2020_translate_tot = list_csv_translate.where(col(\"url\").like(\"%202002%\"))   \n",
    "list_2020_translate_tot.show(100,false)"
   ]
  },
  {
   "cell_type": "code",
   "execution_count": 14,
   "metadata": {},
   "outputs": [
    {
     "data": {
      "application/vnd.jupyter.widget-view+json": {
       "model_id": "151c695c27e4431cb57ea2ec6d7b04a4",
       "version_major": 2,
       "version_minor": 0
      },
      "text/plain": [
       "VBox()"
      ]
     },
     "metadata": {},
     "output_type": "display_data"
    },
    {
     "data": {
      "application/vnd.jupyter.widget-view+json": {
       "model_id": "",
       "version_major": 2,
       "version_minor": 0
      },
      "text/plain": [
       "FloatProgress(value=0.0, bar_style='info', description='Progress:', layout=Layout(height='25px', width='50%'),…"
      ]
     },
     "metadata": {},
     "output_type": "display_data"
    },
    {
     "name": "stdout",
     "output_type": "stream",
     "text": [
      "gkgRDD: org.apache.spark.rdd.RDD[String] = MapPartitionsRDD[107] at flatMap at <console>:57\n",
      "gkgDF: org.apache.spark.sql.DataFrame = [value: array<string>]\n",
      "dfGKG: org.apache.spark.sql.DataFrame = [GKGRECORDID: string, V2DATE: string ... 6 more fields]\n",
      "mentionRDD: org.apache.spark.rdd.RDD[String] = MapPartitionsRDD[110] at flatMap at <console>:60\n",
      "mentionDF: org.apache.spark.sql.DataFrame = [value: array<string>]\n",
      "dfMention: org.apache.spark.sql.DataFrame = [globaleventID: string, MentionSourceName: string ... 2 more fields]\n",
      "EventRDD: org.apache.spark.rdd.RDD[String] = MapPartitionsRDD[115] at flatMap at <console>:62\n",
      "eventDF: org.apache.spark.sql.DataFrame = [value: array<string>]\n",
      "dfEvent: org.apache.spark.sql.DataFrame = [globaleventID: string, day: string ... 7 more fields]\n"
     ]
    }
   ],
   "source": [
    "\n",
    "val gkgRDD = sc.binaryFiles(\"s3://testfuret/Master_file /20200201004500.gkg.csv.zip\",100).    \n",
    "   flatMap {  \n",
    "       \n",
    "       // decompresser les fichiers\n",
    "       case (name: String, content: PortableDataStream) =>\n",
    "\n",
    "          val zis = new ZipInputStream(content.open)\n",
    "          Stream.continually(zis.getNextEntry).\n",
    "                takeWhile(_ != null).\n",
    "                flatMap { _ =>\n",
    "                    val br = new BufferedReader(new InputStreamReader(zis))\n",
    "                    Stream.continually(br.readLine()).takeWhile(_ != null)\n",
    "                }\n",
    "\n",
    "    }\n",
    "\n",
    "val gkgDF = gkgRDD.map(x => x.split(\"\\t\")).toDF()//.map(row => row.mkString(\";\")).map(x => x.split(\";\")).toDF()\n",
    "\n",
    "\n",
    "\n",
    "val dfGKG = gkgDF.withColumn(\"_tmp\", $\"value\").select(\n",
    "    $\"_tmp\".getItem(0).as(\"GKGRECORDID\"),\n",
    "    $\"_tmp\".getItem(1).as(\"V2DATE\"),\n",
    "    //$\"_tmp\".getItem(2).as(\"V2SOURCECOLLECTIONIDENTIFIER\"),\n",
    "    $\"_tmp\".getItem(3).as(\"V2SOURCECOMMONNAME\"),\n",
    "    $\"_tmp\".getItem(4).as(\"V2DOCUMENTIDENTIFIER\"),\n",
    "    //$\"_tmp\".getItem(5).as(\"V1COUNTS\"),\n",
    "    //$\"_tmp\".getItem(6).as(\"V2.1COUNTS\"),\n",
    "    $\"_tmp\".getItem(7).as(\"V1THEMES\"),\n",
    "    //$\"_tmp\".getItem(8).as(\"V2ENHANCEDTHEMES\"),\n",
    "    $\"_tmp\".getItem(9).as(\"V1LOCATIONS\"),\n",
    "    //$\"_tmp\".getItem(10).as(\"V2ENHANCEDLOCATIONS\"),\n",
    "    $\"_tmp\".getItem(11).as(\"V1PERSONS\"),\n",
    "    //$\"_tmp\".getItem(12).as(\"V2ENHANCEDPERSONS\"),\n",
    "    //$\"_tmp\".getItem(13).as(\"V1ORGANIZATIONS\"),\n",
    "    //$\"_tmp\".getItem(14).as(\"V2ENHANCEDORGANIZATIONS\"),\n",
    "    $\"_tmp\".getItem(15).as(\"V1TONE\")\n",
    "    //$\"_tmp\".getItem(16).as(\"V2.1ENHANCEDDATES\"),\n",
    "    //$\"_tmp\".getItem(17).as(\"V2GCAM\"),\n",
    "    //$\"_tmp\".getItem(18).as(\"V21SHARINGIMAGE\"),\n",
    "    //$\"_tmp\".getItem(19).as(\"V21RELATEDIMAGES\"),\n",
    "    //$\"_tmp\".getItem(20).as(\"V21SOCIALIMAGEEMBEDS\"),\n",
    "    //$\"_tmp\".getItem(21).as(\"V21SOCIALVIDEOEMBEDS\"),\n",
    "    //$\"_tmp\".getItem(22).as(\"V21QUOTATIONS\"),\n",
    "    //$\"_tmp\".getItem(23).as(\"V21ALLNAMES\"),\n",
    "    //$\"_tmp\".getItem(24).as(\"V21AMOUNTS\"),\n",
    "    //$\"_tmp\".getItem(25).as(\"V21TRANSLATIONINFO\"),\n",
    "    //$\"_tmp\".getItem(26).as(\"V2EXTRASXML\")\n",
    "    )\n",
    "\n",
    "\n",
    "\n",
    "val mentionRDD = sc.binaryFiles(\"s3://testfuret/Master_file /20200201004500.mentions.CSV.zip\",100).    \n",
    "   flatMap {  \n",
    "       \n",
    "       // decompresser les fichiers\n",
    "       case (name: String, content: PortableDataStream) =>\n",
    "\n",
    "          val zis = new ZipInputStream(content.open)\n",
    "          Stream.continually(zis.getNextEntry).\n",
    "                takeWhile(_ != null).\n",
    "                flatMap { _ =>\n",
    "                    val br = new BufferedReader(new InputStreamReader(zis))\n",
    "                    Stream.continually(br.readLine()).takeWhile(_ != null)\n",
    "                }\n",
    "\n",
    "    }\n",
    "\n",
    "\n",
    "\n",
    "\n",
    "val mentionDF = mentionRDD.map(x => x.split(\"\\t\")).map(row => row.mkString(\";\")).map(x => x.split(\";\")).toDF()\n",
    "\n",
    "\n",
    "\n",
    "val dfMention = mentionDF.withColumn(\"_tmp\", $\"value\").select(\n",
    "     $\"_tmp\".getItem(0).as(\"globaleventID\"),\n",
    "     //$\"_tmp\".getItem(1).as(\"EventTimeDate\"),\n",
    "     //$\"_tmp\".getItem(2).as(\"MentionTimeDate\"),\n",
    "     //$\"_tmp\".getItem(3).as(\"MentionType\"),\n",
    "     $\"_tmp\".getItem(4).as(\"MentionSourceName\"),\n",
    "     $\"_tmp\".getItem(5).as(\"MentionIdentifier\"),\n",
    "     //$\"_tmp\".getItem(6).as(\"SentenceID\"),\n",
    "     //$\"_tmp\".getItem(7).as(\"Actor1CharOffset\"),\n",
    "     //$\"_tmp\".getItem(8).as(\"Actor2CharOffset\"),\n",
    "     //$\"_tmp\".getItem(9).as(\"ActionCharOffset\"),\n",
    "     //$\"_tmp\".getItem(10).as(\"InRawText\"),\n",
    "     //$\"_tmp\".getItem(11).as(\"Confidence\"),\n",
    "     //$\"_tmp\".getItem(12).as(\"MentionDocLen\"),\n",
    "     //$\"_tmp\".getItem(13).as(\"MentionDocTone\"),\n",
    "     $\"_tmp\".getItem(14).as(\"MentionDocTranslationInfo\")\n",
    "     //$\"_tmp\".getItem(15).as(\"Extras\")\n",
    "     )\n",
    "\n",
    "//dfMention.show()\n",
    "\n",
    "\n",
    "\n",
    "val EventRDD = sc.binaryFiles(\"s3://testfuret/Master_file /20200201004500.export.CSV.zip\",100).    \n",
    "   flatMap {  \n",
    "       \n",
    "       // decompresser les fichiers\n",
    "       case (name: String, content: PortableDataStream) =>\n",
    "\n",
    "          val zis = new ZipInputStream(content.open)\n",
    "          Stream.continually(zis.getNextEntry).\n",
    "             takeWhile(_ != null).\n",
    "             flatMap { _ =>\n",
    "                val br = new BufferedReader(new InputStreamReader(zis))\n",
    "                Stream.continually(br.readLine()).takeWhile(_ != null)\n",
    "                }\n",
    "         \n",
    "        \n",
    "           \n",
    "\n",
    "    }\n",
    "\n",
    "\n",
    "\n",
    "\n",
    "\n",
    "val eventDF = EventRDD.map(x => x.split(\"\\t\")).map(row => row.mkString(\";\")).map(x => x.split(\";\")).toDF()\n",
    "\n",
    "\n",
    "val dfEvent = eventDF.withColumn(\"_tmp\", $\"value\").select(\n",
    "     $\"_tmp\".getItem(0).as(\"globaleventID\"),\n",
    "     $\"_tmp\".getItem(1).as(\"day\"),\n",
    "     $\"_tmp\".getItem(2).as(\"month\"),\n",
    "     $\"_tmp\".getItem(3).as(\"year\"),\n",
    "     //$\"_tmp\".getItem(4).as(\"fractiondate\"),\n",
    "     //$\"_tmp\".getItem(5).as(\"Actor1code\"),\n",
    "     //$\"_tmp\".getItem(6).as(\"Actor1Name\"),\n",
    "     //$\"_tmp\".getItem(7).as(\"Actor1ContryCode\"),\n",
    "     //$\"_tmp\".getItem(8).as(\"actor1KnownGroupeCode\"),\n",
    "     //$\"_tmp\".getItem(9).as(\"Actor1EthnicCode\"),\n",
    "     //$\"_tmp\".getItem(10).as(\"Actor1Religion1Code\"),\n",
    "     //$\"_tmp\".getItem(11).as(\"Actor1Religion2code\"),\n",
    "     //$\"_tmp\".getItem(12).as(\"Actor1type1Code\"),\n",
    "     //$\"_tmp\".getItem(13).as(\"Actor1Type2code\"),\n",
    "     //$\"_tmp\".getItem(14).as(\"Actor1Type3code\"),\n",
    "     //$\"_tmp\".getItem(15).as(\"Actor2code\"),\n",
    "     //$\"_tmp\".getItem(16).as(\"Actor2Name\"),\n",
    "     //$\"_tmp\".getItem(17).as(\"Actor2ContryCode\"),\n",
    "     //$\"_tmp\".getItem(18).as(\"Actor2KnownGroupeCode\"),\n",
    "     //$\"_tmp\".getItem(19).as(\"Actor2EthnicCode\"),\n",
    "     //$\"_tmp\".getItem(20).as(\"Actor2Religion1Code\"),\n",
    "     //$\"_tmp\".getItem(21).as(\"Actor2Religion2code\"),\n",
    "     //$\"_tmp\".getItem(22).as(\"Actor2type1Code\"),\n",
    "     //$\"_tmp\".getItem(23).as(\"Actor2Type2code\"),\n",
    "     //$\"_tmp\".getItem(24).as(\"Actor2Type3code\"),\n",
    "     //$\"_tmp\".getItem(25).as(\"IsRootEvent\"),\n",
    "     //$\"_tmp\".getItem(26).as(\"EventCode\"),\n",
    "     //$\"_tmp\".getItem(27).as(\"EventBaseCode\"),\n",
    "     //$\"_tmp\".getItem(28).as(\"EventRootCode\"),\n",
    "     //$\"_tmp\".getItem(29).as(\"QuadClass\"),\n",
    "     //$\"_tmp\".getItem(30).as(\"GoldsteinScale\"),\n",
    "     $\"_tmp\".getItem(31).as(\"NumMentions\"),\n",
    "     $\"_tmp\".getItem(32).as(\"NumSources\"),\n",
    "     $\"_tmp\".getItem(33).as(\"NumArticles\"),\n",
    "     $\"_tmp\".getItem(34).as(\"AvgTone\"),\n",
    "     //$\"_tmp\".getItem(35).as(\"Actor1Geo_Type\"),\n",
    "     //$\"_tmp\".getItem(36).as(\"Actor1Geo_Fullname\"),\n",
    "     //$\"_tmp\".getItem(37).as(\"Actor1Geo_CountryCode\"),\n",
    "     //$\"_tmp\".getItem(38).as(\"Actor1Geo_ADM1Code\"),\n",
    "     //$\"_tmp\".getItem(39).as(\"Actor1Geo_ADM2Code\"),\n",
    "     //$\"_tmp\".getItem(40).as(\"Actor1Geo_Lat\"),\n",
    "     //$\"_tmp\".getItem(41).as(\"Actor1Geo_Long\"),\n",
    "     //$\"_tmp\".getItem(42).as(\"Actor1Geo_FeatureID\"),\n",
    "     //$\"_tmp\".getItem(43).as(\"Actor2Geo_Type\"),\n",
    "     //$\"_tmp\".getItem(44).as(\"Actor2Geo_Fullname\"),\n",
    "     //$\"_tmp\".getItem(45).as(\"Actor2Geo_CountryCode\"),\n",
    "     //$\"_tmp\".getItem(46).as(\"Actor2Geo_ADM1Code\"),\n",
    "     //$\"_tmp\".getItem(47).as(\"Actor2Geo_ADM2Code\"),\n",
    "     //$\"_tmp\".getItem(48).as(\"Actor2Geo_Lat\"),\n",
    "     //$\"_tmp\".getItem(49).as(\"Actor2Geo_Long\"),\n",
    "     //$\"_tmp\".getItem(50).as(\"Actor2Geo_FeatureID\"),\n",
    "     //$\"_tmp\".getItem(51).as(\"ActionGeo_Type\"),\n",
    "     $\"_tmp\".getItem(52).as(\"ActionGeo_Fullname\")\n",
    "     //$\"_tmp\".getItem(53).as(\"ActionGeo_CountryCode\"),\n",
    "     //$\"_tmp\".getItem(54).as(\"ActionGeo_ADM1Code\"),\n",
    "     //$\"_tmp\".getItem(55).as(\"ActionGeo_ADM2Code\"),\n",
    "     //$\"_tmp\".getItem(56).as(\"ActionGeo_Lat\"),\n",
    "     //$\"_tmp\".getItem(57).as(\"ActionGeo_Long\"),\n",
    "     //$\"_tmp\".getItem(58).as(\"ActionGeo_FeatureID\"),\n",
    "     //$\"_tmp\".getItem(59).as(\"DATEADDED\")\n",
    "    )\n",
    "\n",
    "\n",
    "//dfEvent.show()\n"
   ]
  },
  {
   "cell_type": "code",
   "execution_count": 15,
   "metadata": {},
   "outputs": [
    {
     "data": {
      "application/vnd.jupyter.widget-view+json": {
       "model_id": "94c8ca8577614e6894a0f67fa7c8f1f3",
       "version_major": 2,
       "version_minor": 0
      },
      "text/plain": [
       "VBox()"
      ]
     },
     "metadata": {},
     "output_type": "display_data"
    },
    {
     "data": {
      "application/vnd.jupyter.widget-view+json": {
       "model_id": "",
       "version_major": 2,
       "version_minor": 0
      },
      "text/plain": [
       "FloatProgress(value=0.0, bar_style='info', description='Progress:', layout=Layout(height='25px', width='50%'),…"
      ]
     },
     "metadata": {},
     "output_type": "display_data"
    },
    {
     "name": "stdout",
     "output_type": "stream",
     "text": [
      "dfGKG_Pand: org.apache.spark.sql.DataFrame = [GKGRECORDID: string, V2DATE: string ... 7 more fields]\n",
      "dfGKG_Pandemic: org.apache.spark.sql.Dataset[org.apache.spark.sql.Row] = [GKGRECORDID: string, V2DATE: string ... 7 more fields]\n",
      "df_gkg_mention_corona: org.apache.spark.sql.DataFrame = [globaleventID: string, MentionSourceName: string ... 11 more fields]\n",
      "join_Envent_Mention_Gkg_corrona: org.apache.spark.sql.DataFrame = [day: string, month: string ... 19 more fields]\n"
     ]
    }
   ],
   "source": [
    "val dfGKG_Pand = dfGKG.\n",
    "        withColumn(\"CheckCOVID\", $\"V1THEMES\".like(\"%PANDEMIC%\") || $\"V1THEMES\".like(\"%CORONAVIRUS%\"))\n",
    "\n",
    "val dfGKG_Pandemic = dfGKG_Pand.\n",
    "    filter((dfGKG_Pand(\"CheckCOVID\") === \"true\"))\n",
    "//dfGKG_Pandemic.show()\n",
    "\n",
    "\n",
    "\n",
    "val df_gkg_mention_corona =dfMention.join(\n",
    "  dfGKG_Pandemic,\n",
    "  dfMention(\"MentionIdentifier\") <=> dfGKG_Pandemic(\"V2DOCUMENTIDENTIFIER\")\n",
    "  )\n",
    "\n",
    "\n",
    "// val df_gkg_mention_corona =dfMention.join(\n",
    "//   broadcast(dfGKG_Pandemic),\n",
    "//   dfMention(\"MentionIdentifier\") <=> dfGKG_Pandemic(\"V2DOCUMENTIDENTIFIER\")\n",
    "//   )\n",
    "\n",
    "\n",
    "//val join_Envent_Mention_Gkg_corrona = dfMention.join(dfEvent, dfMention(\"globaleventID\")===dfEvent(\"globaleventID\"), \"inner\").\n",
    "\n",
    "val join_Envent_Mention_Gkg_corrona =dfEvent.join(\n",
    "  df_gkg_mention_corona,\n",
    "  dfEvent(\"globaleventID\") <=> df_gkg_mention_corona(\"globaleventID\")\n",
    "  ).drop(dfEvent(\"globaleventID\"))\n",
    "\n",
    "\n",
    "\n"
   ]
  },
  {
   "cell_type": "code",
   "execution_count": 16,
   "metadata": {},
   "outputs": [
    {
     "data": {
      "application/vnd.jupyter.widget-view+json": {
       "model_id": "6a7dd740308a40ce85b3530c9637ad02",
       "version_major": 2,
       "version_minor": 0
      },
      "text/plain": [
       "VBox()"
      ]
     },
     "metadata": {},
     "output_type": "display_data"
    },
    {
     "data": {
      "application/vnd.jupyter.widget-view+json": {
       "model_id": "",
       "version_major": 2,
       "version_minor": 0
      },
      "text/plain": [
       "FloatProgress(value=0.0, bar_style='info', description='Progress:', layout=Layout(height='25px', width='50%'),…"
      ]
     },
     "metadata": {},
     "output_type": "display_data"
    }
   ],
   "source": [
    "join_Envent_Mention_Gkg_corrona.write.format(\"org.apache.spark.sql.json\").mode(SaveMode.Append).save(\"s3://cgl2/debeug/juin_json/\");"
   ]
  },
  {
   "cell_type": "code",
   "execution_count": null,
   "metadata": {},
   "outputs": [],
   "source": []
  }
 ],
 "metadata": {
  "kernelspec": {
   "display_name": "Spark",
   "language": "",
   "name": "sparkkernel"
  },
  "language_info": {
   "codemirror_mode": "text/x-scala",
   "mimetype": "text/x-scala",
   "name": "scala",
   "pygments_lexer": "scala"
  }
 },
 "nbformat": 4,
 "nbformat_minor": 4
}
